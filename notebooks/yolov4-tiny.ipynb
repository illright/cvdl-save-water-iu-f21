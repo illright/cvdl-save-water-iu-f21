{
  "nbformat": 4,
  "nbformat_minor": 0,
  "metadata": {
    "colab": {
      "name": "Copy of CVDL: YOLOv4.ipynb",
      "provenance": [],
      "collapsed_sections": [
        "IpCIQNXHVUcO"
      ],
      "machine_shape": "hm"
    },
    "kernelspec": {
      "name": "python3",
      "display_name": "Python 3"
    },
    "accelerator": "GPU"
  },
  "cells": [
    {
      "cell_type": "markdown",
      "metadata": {
        "id": "0O5LkWApuYHv"
      },
      "source": [
        "# YOLO, so Save Water – YOLOv4 Tiny edition\n",
        "\n",
        "This notebook will assess the performance of YOLOv4 for detection of taps in pictures, differentiating between taps with and without running water.\n",
        "\n",
        "This notebook is heavily based on the notebook from [Roboflow's tutorial](https://blog.roboflow.com/train-yolov4-tiny-on-custom-data-lighting-fast-detection/)."
      ]
    },
    {
      "cell_type": "markdown",
      "metadata": {
        "id": "IpCIQNXHVUcO"
      },
      "source": [
        "## Step 0. Setup"
      ]
    },
    {
      "cell_type": "markdown",
      "metadata": {
        "id": "-sgX06p9XQSL"
      },
      "source": [
        "We will use Roboflow to manage conversion of the dataset to a format that is appropriate for Darknet. Roboflow provides a nice library of bindings for Python to easily extract the dataset."
      ]
    },
    {
      "cell_type": "code",
      "metadata": {
        "id": "Rl_BioexXLvR"
      },
      "source": [
        "!pip install roboflow --quiet"
      ],
      "execution_count": null,
      "outputs": []
    },
    {
      "cell_type": "markdown",
      "metadata": {
        "id": "ZTCjrGFqvB8M"
      },
      "source": [
        "We will also define a utility magic for IPython to write files with substitutions from Python variables:"
      ]
    },
    {
      "cell_type": "code",
      "metadata": {
        "id": "rVtJRoHfvJN9"
      },
      "source": [
        "from IPython.core.magic import register_line_cell_magic\n",
        "\n",
        "@register_line_cell_magic\n",
        "def writetemplate(line, cell):\n",
        "    with open(line, 'w') as f:\n",
        "        f.write(cell.format(**globals()))"
      ],
      "execution_count": null,
      "outputs": []
    },
    {
      "cell_type": "markdown",
      "metadata": {
        "id": "YvuLDTCG5hHQ"
      },
      "source": [
        "Now we will identify the GPU that Google Colab has provided and save the corresponding architecture in an environment variable to use in creation of the Makefile later."
      ]
    },
    {
      "cell_type": "code",
      "metadata": {
        "id": "DsF77oVC5GYR"
      },
      "source": [
        "import os\n",
        "from subprocess import check_output\n",
        "gpu_name = check_output(['nvidia-smi', '--query-gpu=name', '--format=csv,noheader']).decode().strip()\n",
        "\n",
        "known_architectures = {\n",
        "    \"Tesla V100-SXM2-16GB\": \"-gencode arch=compute_70,code=[sm_70,compute_70]\",\n",
        "    \"Tesla K80\": \"-gencode arch=compute_37,code=sm_37\",\n",
        "    \"Tesla T4\": \"-gencode arch=compute_75,code=[sm_75,compute_75]\",\n",
        "    \"Tesla P40\": \"-gencode arch=compute_61,code=sm_61\",\n",
        "    \"Tesla P4\": \"-gencode arch=compute_61,code=sm_61\",\n",
        "    \"Tesla P100-PCIE-16GB\": \"-gencode arch=compute_60,code=sm_60\"\n",
        "}\n",
        "\n",
        "os.environ['ARCH_VALUE'] = known_architectures[gpu_name]"
      ],
      "execution_count": null,
      "outputs": []
    },
    {
      "cell_type": "markdown",
      "metadata": {
        "id": "AHRB-se9njUK"
      },
      "source": [
        "Now we can get to compiling Darknet."
      ]
    },
    {
      "cell_type": "code",
      "metadata": {
        "id": "vQzvKb45alSX"
      },
      "source": [
        "%cd /content\n",
        "%rm -rf darknet\n",
        "!git clone https://github.com/AlexeyAB/darknet\n",
        "%cd darknet\n",
        "\n",
        "!sed -i 's/OPENCV=0/OPENCV=1/g' Makefile\n",
        "!sed -i 's/GPU=0/GPU=1/g' Makefile\n",
        "!sed -i 's/CUDNN=0/CUDNN=1/g' Makefile\n",
        "!sed -i \"s/ARCH= -gencode arch=compute_60,code=sm_60/ARCH= ${ARCH_VALUE}/g\" Makefile\n",
        "!make"
      ],
      "execution_count": null,
      "outputs": []
    },
    {
      "cell_type": "markdown",
      "metadata": {
        "id": "16pvdFMa1FEe"
      },
      "source": [
        "## Step 1. Configuring YOLOv4 for training on a custom dataset"
      ]
    },
    {
      "cell_type": "markdown",
      "metadata": {
        "id": "Lq1JQ7akoY5c"
      },
      "source": [
        "First, we will fetch the pretrained weights for YOLOv4 Tiny from [the latest release of YOLOv4](https://github.com/AlexeyAB/darknet/releases/latest)."
      ]
    },
    {
      "cell_type": "code",
      "metadata": {
        "id": "LGPDEjfAALrQ"
      },
      "source": [
        "%cd /content/darknet\n",
        "!wget https://github.com/AlexeyAB/darknet/releases/download/yolov4/yolov4-tiny.conv.29 --quiet"
      ],
      "execution_count": null,
      "outputs": []
    },
    {
      "cell_type": "markdown",
      "metadata": {
        "id": "mEqAfHPlopL6"
      },
      "source": [
        "Now it's time to fetch the custom dataset itself. It is available in my account in Roboflow.\n",
        "\n",
        "**Disclaimer**: the API key in the code below is revoked, the data cannot be accessed with it."
      ]
    },
    {
      "cell_type": "code",
      "metadata": {
        "id": "MX9cI2NWgkOs"
      },
      "source": [
        "from roboflow import Roboflow\n",
        "\n",
        "rf = Roboflow(api_key=\"3FpNhe5OoFPSZw7qdSq7\")\n",
        "project = rf.workspace().project(\"yolo--so-save-water\")\n",
        "dataset = project.version(1).download(\"darknet\")"
      ],
      "execution_count": null,
      "outputs": []
    },
    {
      "cell_type": "markdown",
      "metadata": {
        "id": "8qerNbXQrzzJ"
      },
      "source": [
        "Now we will merge training and validation data together in one directory to use for training.\n",
        "\n",
        "Our dataset will be stored at `data/obj/` and the metadata files will be `data/obj.names` and `data/obj.data`."
      ]
    },
    {
      "cell_type": "code",
      "metadata": {
        "id": "9PYU0sGqvt5N"
      },
      "source": [
        "%cp {dataset.location}/train/_darknet.labels data/obj.names\n",
        "class_amount = len(open('data/obj.names').readlines())"
      ],
      "execution_count": null,
      "outputs": []
    },
    {
      "cell_type": "code",
      "metadata": {
        "id": "16IKxDNivycU"
      },
      "source": [
        "%mkdir data/obj\n",
        "\n",
        "%cp {dataset.location}/train/*.jpg data/obj/\n",
        "%cp {dataset.location}/valid/*.jpg data/obj/\n",
        "%cp {dataset.location}/train/*.txt data/obj/\n",
        "%cp {dataset.location}/valid/*.txt data/obj/"
      ],
      "execution_count": null,
      "outputs": []
    },
    {
      "cell_type": "code",
      "metadata": {
        "id": "KiCILEbs1NII"
      },
      "source": [
        "import os\n",
        "\n",
        "with open('data/train.txt', 'w') as out:\n",
        "    for img in os.scandir(dataset.location + '/train'):\n",
        "        if img.name.endswith('jpg'):\n",
        "            out.write('data/obj/' + img.name + '\\n')\n",
        "\n",
        "with open('data/valid.txt', 'w') as out:\n",
        "    for img in os.scandir(dataset.location + '/valid'):\n",
        "        if img.name.endswith('jpg'):\n",
        "            out.write('data/obj/' + img.name + '\\n')"
      ],
      "execution_count": null,
      "outputs": []
    },
    {
      "cell_type": "code",
      "metadata": {
        "id": "GCAJpkySv1uM"
      },
      "source": [
        "%%writetemplate data/obj.data\n",
        "classes = {class_amount}\n",
        "train = data/train.txt\n",
        "valid = data/valid.txt\n",
        "names = data/obj.names\n",
        "backup = backup/"
      ],
      "execution_count": null,
      "outputs": []
    },
    {
      "cell_type": "markdown",
      "metadata": {
        "id": "DqOAxG4Z083L"
      },
      "source": [
        "Now we will write the configuration for the YOLO architecture, customizing certain values as described in the steps to training on a custom dataset in the README of Darknet."
      ]
    },
    {
      "cell_type": "code",
      "metadata": {
        "id": "U_WJcqHhpeVr"
      },
      "source": [
        "max_batches = max(class_amount * 2000, 6000)\n",
        "steps = f'{int(.8 * max_batches)},{int(.9 * max_batches)}'\n",
        "filter_amount = (class_amount + 5) * 3"
      ],
      "execution_count": null,
      "outputs": []
    },
    {
      "cell_type": "markdown",
      "metadata": {
        "id": "164_0D4Z1Od0"
      },
      "source": [
        "The configuration below is based on [`darknet/cfg/yolov4-tiny.cfg`](https://github.com/AlexeyAB/darknet/blob/master/cfg/yolov4-tiny.cfg)"
      ]
    },
    {
      "cell_type": "code",
      "metadata": {
        "id": "03VuD4NHnxFx"
      },
      "source": [
        "%%writetemplate ./cfg/custom-yolov4-tiny-detector.cfg\n",
        "[net]\n",
        "# Testing\n",
        "#batch=1\n",
        "#subdivisions=1\n",
        "# Training\n",
        "batch=64\n",
        "subdivisions=24\n",
        "width=416\n",
        "height=416\n",
        "channels=3\n",
        "momentum=0.9\n",
        "decay=0.0005\n",
        "angle=0\n",
        "saturation = 1.5\n",
        "exposure = 1.5\n",
        "hue=.1\n",
        "\n",
        "learning_rate=0.00261\n",
        "burn_in=1000\n",
        "max_batches = {max_batches}\n",
        "policy=steps\n",
        "steps={steps}\n",
        "scales=.1,.1\n",
        "\n",
        "[convolutional]\n",
        "batch_normalize=1\n",
        "filters=32\n",
        "size=3\n",
        "stride=2\n",
        "pad=1\n",
        "activation=leaky\n",
        "\n",
        "[convolutional]\n",
        "batch_normalize=1\n",
        "filters=64\n",
        "size=3\n",
        "stride=2\n",
        "pad=1\n",
        "activation=leaky\n",
        "\n",
        "[convolutional]\n",
        "batch_normalize=1\n",
        "filters=64\n",
        "size=3\n",
        "stride=1\n",
        "pad=1\n",
        "activation=leaky\n",
        "\n",
        "[route]\n",
        "layers=-1\n",
        "groups=2\n",
        "group_id=1\n",
        "\n",
        "[convolutional]\n",
        "batch_normalize=1\n",
        "filters=32\n",
        "size=3\n",
        "stride=1\n",
        "pad=1\n",
        "activation=leaky\n",
        "\n",
        "[convolutional]\n",
        "batch_normalize=1\n",
        "filters=32\n",
        "size=3\n",
        "stride=1\n",
        "pad=1\n",
        "activation=leaky\n",
        "\n",
        "[route]\n",
        "layers = -1,-2\n",
        "\n",
        "[convolutional]\n",
        "batch_normalize=1\n",
        "filters=64\n",
        "size=1\n",
        "stride=1\n",
        "pad=1\n",
        "activation=leaky\n",
        "\n",
        "[route]\n",
        "layers = -6,-1\n",
        "\n",
        "[maxpool]\n",
        "size=2\n",
        "stride=2\n",
        "\n",
        "[convolutional]\n",
        "batch_normalize=1\n",
        "filters=128\n",
        "size=3\n",
        "stride=1\n",
        "pad=1\n",
        "activation=leaky\n",
        "\n",
        "[route]\n",
        "layers=-1\n",
        "groups=2\n",
        "group_id=1\n",
        "\n",
        "[convolutional]\n",
        "batch_normalize=1\n",
        "filters=64\n",
        "size=3\n",
        "stride=1\n",
        "pad=1\n",
        "activation=leaky\n",
        "\n",
        "[convolutional]\n",
        "batch_normalize=1\n",
        "filters=64\n",
        "size=3\n",
        "stride=1\n",
        "pad=1\n",
        "activation=leaky\n",
        "\n",
        "[route]\n",
        "layers = -1,-2\n",
        "\n",
        "[convolutional]\n",
        "batch_normalize=1\n",
        "filters=128\n",
        "size=1\n",
        "stride=1\n",
        "pad=1\n",
        "activation=leaky\n",
        "\n",
        "[route]\n",
        "layers = -6,-1\n",
        "\n",
        "[maxpool]\n",
        "size=2\n",
        "stride=2\n",
        "\n",
        "[convolutional]\n",
        "batch_normalize=1\n",
        "filters=256\n",
        "size=3\n",
        "stride=1\n",
        "pad=1\n",
        "activation=leaky\n",
        "\n",
        "[route]\n",
        "layers=-1\n",
        "groups=2\n",
        "group_id=1\n",
        "\n",
        "[convolutional]\n",
        "batch_normalize=1\n",
        "filters=128\n",
        "size=3\n",
        "stride=1\n",
        "pad=1\n",
        "activation=leaky\n",
        "\n",
        "[convolutional]\n",
        "batch_normalize=1\n",
        "filters=128\n",
        "size=3\n",
        "stride=1\n",
        "pad=1\n",
        "activation=leaky\n",
        "\n",
        "[route]\n",
        "layers = -1,-2\n",
        "\n",
        "[convolutional]\n",
        "batch_normalize=1\n",
        "filters=256\n",
        "size=1\n",
        "stride=1\n",
        "pad=1\n",
        "activation=leaky\n",
        "\n",
        "[route]\n",
        "layers = -6,-1\n",
        "\n",
        "[maxpool]\n",
        "size=2\n",
        "stride=2\n",
        "\n",
        "[convolutional]\n",
        "batch_normalize=1\n",
        "filters=512\n",
        "size=3\n",
        "stride=1\n",
        "pad=1\n",
        "activation=leaky\n",
        "\n",
        "##################################\n",
        "\n",
        "[convolutional]\n",
        "batch_normalize=1\n",
        "filters=256\n",
        "size=1\n",
        "stride=1\n",
        "pad=1\n",
        "activation=leaky\n",
        "\n",
        "[convolutional]\n",
        "batch_normalize=1\n",
        "filters=512\n",
        "size=3\n",
        "stride=1\n",
        "pad=1\n",
        "activation=leaky\n",
        "\n",
        "[convolutional]\n",
        "size=1\n",
        "stride=1\n",
        "pad=1\n",
        "filters={filter_amount}\n",
        "activation=linear\n",
        "\n",
        "\n",
        "\n",
        "[yolo]\n",
        "mask = 3,4,5\n",
        "anchors = 10,14,  23,27,  37,58,  81,82,  135,169,  344,319\n",
        "classes={class_amount}\n",
        "num=6\n",
        "jitter=.3\n",
        "scale_x_y = 1.05\n",
        "cls_normalizer=1.0\n",
        "iou_normalizer=0.07\n",
        "iou_loss=ciou\n",
        "ignore_thresh = .7\n",
        "truth_thresh = 1\n",
        "random=0\n",
        "resize=1.5\n",
        "nms_kind=greedynms\n",
        "beta_nms=0.6\n",
        "\n",
        "[route]\n",
        "layers = -4\n",
        "\n",
        "[convolutional]\n",
        "batch_normalize=1\n",
        "filters=128\n",
        "size=1\n",
        "stride=1\n",
        "pad=1\n",
        "activation=leaky\n",
        "\n",
        "[upsample]\n",
        "stride=2\n",
        "\n",
        "[route]\n",
        "layers = -1, 23\n",
        "\n",
        "[convolutional]\n",
        "batch_normalize=1\n",
        "filters=256\n",
        "size=3\n",
        "stride=1\n",
        "pad=1\n",
        "activation=leaky\n",
        "\n",
        "[convolutional]\n",
        "size=1\n",
        "stride=1\n",
        "pad=1\n",
        "filters={filter_amount}\n",
        "activation=linear\n",
        "\n",
        "[yolo]\n",
        "mask = 1,2,3\n",
        "anchors = 10,14,  23,27,  37,58,  81,82,  135,169,  344,319\n",
        "classes={class_amount}\n",
        "num=6\n",
        "jitter=.3\n",
        "scale_x_y = 1.05\n",
        "cls_normalizer=1.0\n",
        "iou_normalizer=0.07\n",
        "iou_loss=ciou\n",
        "ignore_thresh = .7\n",
        "truth_thresh = 1\n",
        "random=0\n",
        "resize=1.5\n",
        "nms_kind=greedynms\n",
        "beta_nms=0.6"
      ],
      "execution_count": null,
      "outputs": []
    },
    {
      "cell_type": "markdown",
      "metadata": {
        "id": "KvMhWQIT2Cdq"
      },
      "source": [
        "## Step 2. Training"
      ]
    },
    {
      "cell_type": "code",
      "metadata": {
        "id": "6miYFbvExqMd"
      },
      "source": [
        "!./darknet detector train data/obj.data cfg/custom-yolov4-tiny-detector.cfg yolov4-tiny.conv.29 -dont_show -map"
      ],
      "execution_count": null,
      "outputs": []
    },
    {
      "cell_type": "markdown",
      "metadata": {
        "id": "nBnwpBV5ZXxQ"
      },
      "source": [
        "## Step 3. Inference"
      ]
    },
    {
      "cell_type": "code",
      "metadata": {
        "id": "FzoJQQw8Zdco"
      },
      "source": [
        "import cv2\n",
        "import matplotlib.pyplot as plt\n",
        "%matplotlib inline\n",
        "\n",
        "def show_image(path):\n",
        "    image = cv2.imread(path)\n",
        "    height, width = image.shape[:2]\n",
        "    resized_image = cv2.resize(image,(3*width, 3*height), interpolation = cv2.INTER_CUBIC)\n",
        "\n",
        "    fig = plt.gcf()\n",
        "    fig.set_size_inches(18, 10)\n",
        "    plt.axis(\"off\")\n",
        "    plt.imshow(cv2.cvtColor(resized_image, cv2.COLOR_BGR2RGB))\n",
        "    plt.show()"
      ],
      "execution_count": null,
      "outputs": []
    },
    {
      "cell_type": "code",
      "metadata": {
        "id": "x-_E3O5Mf4Mf"
      },
      "source": [
        "#coco.names is hardcoded somewhere in the detector\n",
        "%cp data/obj.names data/coco.names"
      ],
      "execution_count": null,
      "outputs": []
    },
    {
      "cell_type": "code",
      "source": [
        "!pwd"
      ],
      "metadata": {
        "id": "BYc0iasaA_9f"
      },
      "execution_count": null,
      "outputs": []
    },
    {
      "cell_type": "code",
      "metadata": {
        "id": "NjKzw2TvZrOQ"
      },
      "source": [
        "import random\n",
        "test_images = [f for f in os.listdir(os.path.join(dataset.location, 'test')) if f.endswith('.jpg')]\n",
        "img_path = os.path.join(dataset.location, \"test\", random.choice(test_images))\n",
        "\n",
        "#test out our detector!\n",
        "!./darknet detect cfg/custom-yolov4-tiny-detector.cfg backup/custom-yolov4-tiny-detector_best.weights {img_path} -dont-show\n",
        "show_image('/content/darknet/predictions.jpg')"
      ],
      "execution_count": null,
      "outputs": []
    },
    {
      "cell_type": "markdown",
      "source": [
        "## Step 4. Metrics & Analysis"
      ],
      "metadata": {
        "id": "Hcu008XMAtlg"
      }
    },
    {
      "cell_type": "markdown",
      "source": [
        "Darknet has plotted a chart of the loss and mAP during training, presented below:\n",
        "\n",
        "<img width=\"500px\" src=\"data:image/png;base64,iVBORw0KGgoAAAANSUhEUgAAA+gAAAPoCAIAAADCwUOzAAEtt0lEQVR4XmP4PwQBA8N/aiG47x88eIArJPBIAbWQp5EWZgId09DQQIYvaOSYQRUy/6mYaEaNGg2B0RAYDYHREBgNgQEJAXAdP4SaJeS1BPA0Zshudw22BhvZIcPEMNQAIyM1XUxd0xhGwWAOgf//GbChhw8eMJAuBdRCZ414rKPEMY0NDQyjIYMtBAZPyNAo6slOwKNpBleWGQ2Z0ZDBDAH8+ZfkNDPazBjxIcBC2xD494/hzRsGNjYGAQGERV++MNy8yXDjBgMTEwMXF8PDhwyKigzOziA2RBFQ16FDDHfuMJiagqT4+KB6gUbdvv3/sy4jLw+1nA2sr0dzwfAPATW1JYsXx4zGNLYQUFZWHg0YhtGQISURjKYZXKE1GjKjIUNqcTqaZkYrIFJDgMYN9x8/GIKCGFRVGebPR7js3j2G+nqGPXtADXdgo5yDg+HFCwZBQYbJkxlCQhj+/GGYOpVh1iyGt28Zfv5kkJRkcHNj+PuXgYeHYfFiBl1dhs2bGxoa64EmYPPrw4cP5eXlGUiUGk03QyUEpKSkcDlVEphUcMmdPRvDy4tLkoWFZRgkADJDhoEhJiZmNGSwhsBoyOBKGKMhMxoymCGArwQeLWdw1zHDPjcxjAJqhwA1mizAAXImHEtuTp9mOHeO4do10LA6vD2tpcVQXc0AHFMHjsSvWwdqmq9Zw9DUxJCdzWBuDlI5YwZDRQWDmBhDRgaDggLD3bsM798zXL7MAFzXsnw5w7BoZo2mZPJCgJWVFZdGNmBywiWHu9UO1CEhITEMooPMkMHr89GQwRU8oyEzGjKkFhqjaWY0zYzMNMMwCqgdAkQ03IFrWrZvZ3j2jMHfHzQEvmABg7Q0Q0kJg4gIw7dvoGHykycZfHyAA3cMmC0n4Ng5cJEMUNmmTQy5uVDHA1veQL3Atj4zM2glDHCgtLQUZHJvL0NlJUNXF2jNzIULIPM5ORmamxm0tRkiIxmA3YP791GW3IymhuEYAohhm3///rx7B/QiCzC1IPn0x717n3bt+v/jB6eJCZ+NDXIY/Hr69OOuXf8+f+bU0eFzcoJL/X769MPu3azi4lwGBmyiotC+358/32/cYOblZZOVHRIBORoyuKJpNGRGQ4bULDyaZkbTzGiaYRgFQzMEiGi4A8fLly5luH2bYds2hu/fQa12YDt+3jzQgpaeHpAIcJ16Tg7DsmUMW7YwANe9wAPi6VOGw4cZ7OyAi1sY5s5lSE5GrGLHDKyLF0GLZJSUGIBrITZvZvD0ZPj0iQFoi7ExaNwdaCOw1Y7agBtNcsMyBKAD53/+PCwufrdypeahQ4iG+79/L2bOfFJTw8TOzsjC8vfdO6GgIIUZM5iAKZCB4e3y5Q8KChiB0zJsbP/ev+d1dFRetIhFQODH3bv3k5J+Pnv25/VroEZeKyt2DQ1gP/D7xYtfz55V376dDcfaqsEWvKMhgytGRkNmNGRIza2jaWY0zYymmdFG1BANASJOlfHzA42mA5ebAw/fmD6dAdiGBq5vAS5eT0wErTvftYth3z7QiPjRowwtLSihAFQJXJteVMQAHDi/dYvh0iX0MPr1iwHYJQC2zoGNe+CQPLDVDlwhA1QEbLsDR/GvXmWwt2dobWWYPZsBOACPZwXzaOobdiHwsKTkxeTJf4GpDuncn18PHz6prGRmZ9fcvVv78GFee/s3q1e/WbIE6Htgo/xBXh7D798aGzdqHzwoGBoKHHp/1tr679evp8BTU5iYNLZu5Xd1ZebnZ2Rj+3r69MedOz/s2iVVVcVtYjK0Am80ZHDF12jIjIYMqXl5NM2MppnRNDPagBpyIUBEwx24sgW4sBi4UgW4ZMXdHdRYNzNj0NcHrV0JD2cArg8GjncCl6cDl8SsXQs6QwYSBsBGOXCUHXgsjJwcA3DRAvD0FiAXOXiABgJb/xMnghbDANvo0dEMO3YghuSBI/dAY4FbVGtrGc6cYQC26YGrJoDH0YwmsREQAh+2bv126RKLsDAD6qE/r4HLtH7/5nN359TWBg6Ti6WkMLGwvJ4z59+3b+/WrQMunuEyNOQwNGRXVBRLSgIOrn/YuPH/ly9AxX8+ffqwb9/fjx95LC1Vli+X6+n5dvmybGOjRGHh0ArO0ZDBFV+jITMaMqTm5dE0M5pmRtPMaJNqKIYAcZtTgevRgc134OJgiBeBbe7Pn0FbRcXFoX4GNsGBrWrgyDp85yhwLylw9YuMDIOVFej0GOBZMcAFMMDzHOHLXYBmAg+KAQoCV7oDTcbcILhxI0NWFqg1DzxJpq6OAdhoA25UBQ7Mg00Anh6DK7jJkwKaRmeNeKwbsY4RExPj5OQUcHfnMjK6YmDwHzmOf/z4cvo0E1DW1RUiDGymMwsJ/Xr9Gjjc/vXECUZWVgEvLybwRgt2NTVWScm/X778evlSqqLi3/fvzxob+Z2clOfPB66Dv2pmJllQIAXsE4IN+vXr19u3b4Ek1hQ1SKJpNGRwZYoREjJkpMPRNDPC0wwZ9chomhktZ/A0ZEfbSIOk2Umzg/CACxiAx8KUlzNAzpxpa2MALnkHjqkjnz0HbLsDm/5Y18AcPMgQGMgAPEMGeBbkhAkMW7eCNq3u3w86LxLYdmdgIOPMRzwnRULyKnnnSJJ3ACWNHMMw9EMGeLcZI7aDg/4xMf37+fPv9+9/v36FZJ7/v38DB9GBI+vAXdEg2R8//n74AM1Xf//+ff8eqB5ilExtrRQwKbKwAHe7XtLSEvT3lwPuhIZlwX///uE6yGxQpZnRkMGVQ4d9yJCdDkfTzIhNM2RXaqNpZrScwTWGRc82Ep7GzLBpsJF9fDkRS2WAjaHnz0Ht748fGV6+BMUo8IQZ4EExwBY5sC0OHGgHsh8/BikArkgGigDVA1eor1wJulPJy4shNZUhPp4hNhakoLubAbjYHajlyRPQ0ezAYXigRiCJlkzOn2dwdGSYNo0BuBQHcpgMcK0OcEOhkBAD0A1A6xioA0avTWUYfOA/Le7EYmEBbmAFrqW5qKHBbW6uunr1vy9fQEfWgNMeB/KOaobBC0ZDBlfcjIbMaMiQmm9H08xomhlNMwyjYGiGABENd+BqllWrQKuNgSvR+/tB7W/gYTLAtjuwSQ28Vgk4NA5spk+aBGqIA5vswKY5cEQ8LY0ByIYMkwPDBXg3KnB3KXBJDPDC1Px80OoX4JmPwDYT8Iya9nbQwe3IYQdcyw5cGAM8oAZ4iDtQHDgqD7xrCXgAJfAiJ+CxNsCNqlQ6dRvSah9tuw+2dIurQmX69w84uA5cKgNEEDczMTMz8/ExcXP///OHGXiaDDs7E/y8diYmZgEBJuBarN+/IYr//fhx2ciIVUJCc8+eP8+eXbW1vaSn9wLYOQQm4yGSdUdDBldEjYbMaMiQmolH08xomhlNM6PtdoZh23D39mYADp8DLzoFNsSBZ7EDW9LA09aBi16AIsCGu60tA3AHKrA9DeTu3Am6EhV4pvuiRQzA02aAh88Aj5QBhgvwnGxgg373blCTHdj0d3FhAO5JBXKBaoAteLRTtIF3qQJXtwOH6uEBChxoX7iQYf160HmU1DsDBDKwS4vh3dHMQEkIAFvj2LVzcPBZWwNXq38Ar5UCqvl84gTwREjg6eysoqI8wAOIfv0C7kYFNtCBUt8vXfr97BkzDw8bcJcF2Lhr1tb/f/3SOXPmz5s3NwIC+Bwd5VpaXs+c+RaYtodIhI2GDK6IGg2Z0ZAhNROPppnRNDOaZkbbKkM0BIgYcQe2m4FnyAAb6MBtpsCRbwbQMmoG4MU3QBEdHQZgOxs4rgm8DBUoAkSKigwQ9UA2UD2kUQ7cL6iqCtLi4MAAXPECPH9GTY0Boh4ojnZtE3B9M+Y9rEAtwAPdqX3e9mirfXCm2t8vX36/cgU4jg6cxgEyfgFXaoEdKpyUxMzJ+XH//i9Hjnw7d+7l1Kn///0TLyhg4uAQ8PVlEhAAnhXz+cCBbxcvvpo27d/v36KxsUzA9MnAcN3F5efDh3pXrgBV/nn7FrhOBtjc51BWBm5+/QVcrDV08u5oyOCKq9GQGQ0ZUvPxaJoZTTOjaYZhFAzFEPg/BMH+/ftxufrBgwdkSAG10FkjHusocUxDQ8NQDxmg+x+Vl5+TkTnFyXmKg+OsuPjDggK4p95v2nRWUvKMiMhZCYnTvLyPq6uBW1Qhsp/27z+vqHhGSOichMQZXt57mZnAbaxAqdeLF98OC4OwQSr//gWe4H5BReWcrOy91NS/nz/jyQE0iiayE9toyOCKrOEdMmSnw9HchCd3j+amkZmbKKlhR8sZrGmGFhUlnsYMJTFIXuU7qFoCwJBhGYqdDXvguojRbuLwDQHx3FzBgID/kF3LTEzsSIupgCPreqamX86eZfz3j11ZmQM41QMLB14HB+BKmK+nTgHH6VllZbn09EAy//6JRESIoJ5lBLyJSXPHjt+fPnGqqoLWwQ+dkBwNGVxxNRoyoyFDaj4eTTOjaWY0zYy2pIZiCAzJhjvj6JbSYZ3b2KSl2SCLsrB5k0VCQgC47wKrlJAQv4cHigxw2RV45dXPnz/Z2dnhUmzKymwwzo8fP4bKwTKjIYMr4Y+GzGjIkFoojqaZ0TQzmmZGG+5DMQQY/xO/0PvfP9AJegwMLPBLlMA+/nHv3qddu4Bn7XGamPABV64jBQPwshvgzfP/Pn/m1NHhA96fCpYCHpv95tAhPjk5DuB9qEiKgauWPx8+/J+Jic/BgQt46RJM6tv585+PHeM2MOBQV4dbDVym/O3aNQ41NeAl9kADnwDPlxxNgAzAW6oWJCQkDOmQ4ObmFhISYkLa5wCM3w8fPnz9+hXY8ubn52dlZYXIApPunz9/Pn/+DJRiYWEB6gKSkD1nQCnGhw8/CAgApXh4eIBali1b5u3tDVQPNE1QUJAPvPYd2JoHXr0EPPMdGGL/Bv3xMtQKGaB/v3z5MhoymGlmNGRw5abRkBkNGVJL4NE0M3LSDC2aHAsWDPnGDI1aYsCQYfhPJPj9+0Fe3jlx8e83b4J0/PsHIv/+fT5t2mkhIeCyY+CK4dPc3HdjY+GLid8sW3ZGTAy4RvmsrOxpHp4bvr6/378H6gK2kIDtpzOCgsCRTqjlQMNzc4Haz8vJgcwBrl2ur///9y8Qvd+69aKODnDF82l+/vMKCvdSUh4UFj6uqbmgrg48kxtzgfLoGndc8TniQoaLCzkohsHq/9F9EWSkbUpWQw6eNDPY9lqM5iZcSXE0ZEZDBjME8Off0XIGa5oZXeOOJysxEdkneFhS8mLy5L/AK5aQzj//9fDhk8pKZnZ2zd27tQ8f5rW3f7N69RvgnakMDMBb6IENfYbfvzU2btQ+eFAwNBQ49P6stRVoHXChC3DElJGTkw12nsynPXtezZnDoaGhsWeP5t69wMO2n/f2Agfafzx+/KS2VsjfX23rVnYZGVYpKeBZft/Onn29aNHP27dV1qwZWguUR6cE6BcCwFQKu2B1NNhHQ2A0BEZDYDQERkNgNARGQ2B4hACBhvt/8EKaD1u3frt0iUVYmAF1Xc3rBQuATXM+d3dObW02eXmxlBQmFpbXc+b8+/bt3bp1wMUzXIaGHIaG7IqKYklJwNtzgMdsAw/ehrTdZS9cgBgOvNHp+fTpjExMoomJHKqqQCQcHAy06MWMGRzi4ixiYj9u3/566NB/Zmax5GTV5csFvbx+PXmic/Ysl7b2aCocDYHREBgNgdEQGA2B0RAYDYHREBgNgRESAkSNuAu4uysvXcqIdrz6jx9fTp8GXmMp4OoKCSxgM51ZSOjX69fA4favJ04wsrIKeHkxgYfV2dXUWCUl/3779uvlS6BiYJMduGAXsscUuG7+x507wDsv+ezsIObwOjsDL6j/fvUqcEUNcMD+z/v3T9vbxdPSRJOS3m3c+LCyUmvfPi4Dg9E0OhoCoyEwGgKjITAaAqMhMBoCoyEwGgIjJwQInCoD3LvKAFx1wIJF2T8mpn8/f/79/v0vbE0C8ETtvx8/AkfWGdjYQLI/fvz98AEalMCNKu/fA9Uzgo0CNtmBO8Ogh8OwsPz/9u3vly+QOy+B6v99/QpC376B9iCysalt2cLw5w/w6hzgYpvbkZFq69fzjh4HOZpHR0NgNARGQ2A0BEZDYDQERkNgNARGWAgQOg6SiYlGAcKGdmEqbmtAY/ZsbF9OnLjh4aE8f76gr++fDx+Aw//M4INBRlPsaAighwCwqzl6Ke5oshgNgdEQGA2B0RAYDYHREBh2IUB+u5zp3z/g4DpwqQwQQYKFCXgUHx8fEzc38OocZuBwOjs7cAEMNMSYmJgFBEB7SX//Rg/Df/8YubiYeXgYYOP6wMF1Zm5u4O5V+Al932/cuGptLdvcLBIb+3bVqiuGhlctLICX4Y8myNEQGA2B0RAYDYHREBgNgdEQGA2B0RAYISFAoOGO73BrDg4+a+t/379/2LQJElifT5wA7j1lFRdnFRXlAa5m+fULuBsVsgDm+6VLv589A7bO2WRkgLtRPx88+Hb58vcbNwLXwADP3+bS0vr76RPwMHiIOR+3bQOunOEzNmYBtuYZGH49fnxZT0+yoECquvrj3r1PGxulq6uFwsLuREf/fPBgNKWOhsBoCIyGwGgIjIbAaAiMhsBoCIyGwEgIAQINd8hNN79fvgQOb4OuoP/7F8j49fw5JGiEk5KYOTk/7t//5cgR4PVJL6dO/f/vn3hBAXDIHHg1PZOAwLfLlz8fOPDt4sVX06b9+/1bNDaWiY8PuBv1eX//i0mTXkyc+P3WLaBRkjk5QPL1woVfL1z4curU27VrgaPvYoWFQEHg+Y+XtLQE/f3lenuBXOCNTkAr2JSUgKdDAvsMf8BbXUdT6mgIjIbAaAiMhsBoCIyGwGgIjIbAaAgM+xAg6ubUxxUVb5Yu/fP2LfCURuBNpSKRkXL9/ZCg+bB58730dOC2VOCuU+COUom8PJmGBsiiF2CT/W5SEmi7KnCv6tevQjEx8j09wONigI1v4E2oT2pqxDMz+d3cOLW0QCdC9vQ8bWsDrboBrk7++1e+r084Ovrfnz8Pc3KACiQKCiDWAcfvnzY1AUfrGZiZZZqaRCIiGJiYgBtfR29OhYTP6GVj8goKD7HNw4yGDK6ybDRkRkOG1HpuNM2MppnRNEOt1uFobsIakqPBgqeQIerm1J9Pnnw+fvzT4cMgdPToz0ePkK90+v38+fstW4ALZoAHOKJd9fT77dsP27d/2LLl68WLEKl/kCtXf/8GcoHXOYEEISL//3+/ffvDhg1Ac37AzQdfnopmJvAcm++XL38DXuAKlMW4Wmr05lRct22NlJBhYCD1GrbRNDPS0wwO/4/eaPh/0IcM0IHk5d/Re4jJyPVkhzZQ4+idsv9HyxmMEMCTDUdvTsWTYFiI6TWySUsDES6VLBISAt7eWGWB69f5PTyQpeBHQAIFIUe8M0CuYmVg4FBRASIUc7CdaQNch8Oho8MwCkZDYDQERkNgNARGQ2A0BEZDYDQERkNgJIUA02h0j4bA8AmB0YMgR1PzaAiMhsBoCIyGwGgIjIbA8A2BIdlw//Xr12iaHA2B0RAYDYHREBgNgdEQGA2B0RAYDYERFQJDsuHe3t4+mkxHQ2A0BEZDYDQERkNgNARGQ2A0BEZDYESFwOhSmdEEPxoCoyEwGgKjITAaAqMhMBoCoyEwGgJDIATQN6fuf3bh7ocXnCxsDjJ6/Gw8n35+FWLn5WBhw/TKlz/ftjw4+/r7OxluUU85E6xq4LrufXqx69HZH39/moir20how8Xvfnq+/+kFBV4JfWFFQXY+FvBu1B9/ft34+BhorAgH32giGg0BIkMAeBAk8ECZ0eAaDYHREBgNgdEQGA2B0RAYDYHhGgKIhvuPf7+id3VsfXRKmJ1fhJO35exyYCvaX8GqzTwR0/MnX12P2t354ccXVlaW779/yvOKr3arVheQxVT5j+HfzKvbak4uYGdhZWFkfvfzS5Ci1Qz7PC4Wjsvv7ifv73v94+P7n1+4WTgcpfSkeUSZGZn2Pbnw6Mur40ETRhvuoxlvNARGQ2A0BEZDYDQERkNgNARGQ2A0BCAhAL2A6dOv786bSi++vd9qlhCibPf3/9/kA30nXl6PUnGa71SMFljAEXHjtdkPPr2c51BkJKa668nZ0mOzTcTU9/l2sWAc4Hj/83PDVdlcrBy7fTp4WNmzDk/e9+TiRJvMGDWn8F3tTIz/O61Scw9Nfvb1g4ag7Pufn19++3D9/cNVbrUhyja4IqmxsTEhIWE0CjFDYCTfWYDr6iVIKI3e5oArv4yGzGjIkFqWjqaZ0TQzmmao1QIZzU1YQ3I0WPAUMqDbaoDN9K5zq7lm+9muLwYOn0NOfb/z4RnPbP+g7Y1ALrA9vefpuSPPLj/58hrIPfHiGt9cf+UlcUBxIBcoKLkgQmRuyI33jzFPjK87uYhrtm/Cvh6I1Lp7R4DGmq7J+fr7e+HRGVbrCqZd3Wy1tqDo6EygM7Y/PM04zW3Z7QP/8YLRqxwG/1UOQBfS+WKU/wz4bhMbTTOjaQYzBPDfwjN6AdNomhm6aYb+JfBQyU2jIYMrX9PoVjLyWgKjFzDhKX6hm1OPvrjKysgco+YMX6ouyyuapuVlJqYBXOuy+f6JrrOrq07OX3Rrz69/f069ucnMwGIpqS3AxgPsEwhz8mkKyjMwMlx59wBjbP7P6VfXOZnZXGUMIVKGwipCHHyvf3x6++NTj1WqnpBi46kluqIK3VYpV94+9N5W02uVHqlizzAKRkOApBBgZHz44MFomI2GwGgIjIbAaAiMhsBoCIyGwDAOAdAa92+/fj379hq4uFyRVwzuVTYmll6rNCD3z79/PGxc4lyCL76/k+IU/vPvDwsDK3Cb6bsfnyGK//379/bnx29/fgGXsKOFFHDhzM//f7//+fX1z0+I1O//fz7+/MLOzMrCxMLEwDTRNqvbOg1o1/1PL41XZ1caRRbqB40muNEQGA2B0RAYDYHREBgNgdEQGA2B0RAYDQG0EIBuTv3/Hzj0DlzvjiV8gMvWPWVN7CV1WZiYgdLATaVUDERgkx2IXn//oLsiLUrNqcUs/tOvb8Axfj42LmCzfjS2RkNgNARGQ2A0BEZDYDQERkNgNARGQ2A0BCAhAFoqw8XGBhxr//P/741Pj5HDBTjW/uHXF6AIcP2MEAcvsDENREDuX4Y/HMxs/GzcUCOYmITYeLlY2P7+/4cWrP/+MbAzsXKysHPCDpRkZmQGGgI8QwZoOEQx0ArVZUlOMgYLnUquvXtouT7fYFXmqtuHgM330UgaDQGiQoCRcfQgyNGkMhoCoyEwGgKjITAaAqMhMOxDALrG3URMA7g3FNhcBp4YA/EzcC17/tFpWx6cAnKBq2IW3Ny98Oauh59fArlW4tpAxYefX37z4xOQ+/Lr+8vv7wO3BuqLKgK5wC2qC27sWnZr37c/PzhYWKwl9L7/+bnp/gmIscCNre9+fhLnERTlAp3RDrROb2WGMp/kFq/mR59eRu5pD1W2qzCMbDy9+MDTS6PpbzQERkNgNARGQ2A0BEZDYDQERkNgNARGQwASAqClMsBFKXn6fjsenwa2xYuOz0zX8mZiZJ54ad2hZ5fqjKOB6oCHu0+/spmRkfH2x+cNJrE6QgqqAjJX3z5cdeegubjGxvvHP//67iZrrMwrBWyIT7i07tJbYDv+Pz8Hj7ecWZKmS/+lVfufXjzy7CrwUMipVzf/+/+/QDeAgwl0qZPJ2hw2Jtajgf1AW559fwdcDS/NJQrcF/uP8f/Tr29HI2k0BEZDYDQERkNgNARGQ2A0BEZDYDQERkMA0XAHsoDN6F0+7WXHZ8+8tnX93SNCHPzcrOzznUqAe1KBa1oUeSW0heTvfHhuJaH1698v4DL3Fc5VUXvbK0/OA65Q//nvt6O0/kz7fKA5wFucfBUtT7++5SCpL8zOC1zuIsklNN+hJP3QxMCd9SzMrF9/fS/SDw5WtAMqnnBpPdDAKbbAtjuo/2Amrl5nGlt3euG/f/+j1BzDR8+WGU2koyEwGgKjITAaAqMhMBoCoyEwGgKjIQALAcTNqcBNqH3W6Qmabs+/vGViZDIWVRPiAJ32CBS3ktS0ENcEagE2xIEtdSBDRUDqSGD/iRc3/gDb8aycEFmgOPCASHcZE085E2BzH6gRssHUV9HCVFLj7MsbwPNnlPmltIQUIEbl6PgjX9gEVBylam8uqvHj/w9VXmmIRaMxNRoCBEJgdIH7aBIZDYHREBgNgdEQGA2B0RAYGSEAvTl1aHl29OZUXPE1Ai8bw39hKjygRq9hG00zpJZyo2lmNM2MphlqtQ1Gc9NobiIpLY0mGDwJhuH/EASjt2CO3miICAHYhamj9/aRdx/eaG4a/LlpUN1oCAyu0TQzWgKP3imLFgLk3Q86qHLT6M2p5NWhZEc92XfKMo1OrYyGwBAOgdF1MqPJdzQERkNgNARGQ2A0BEZDYMSEAAtBn758yXD1KsPjxwx8fAw6OgyqqqOpYzQERkNgNARGQ2A0BEZDYDQERkNgNARGQ4DeIUC44b57N0NrK8O9ewzc3AyZmSD2aCyNhsBoCIyGwGgIjIbAaAiMhsBoCIyGwGgI0DkECC+VCQpiiI1lAC5J0NdnKC0djaDREBgNgdEQGA2B0RAYDYHREBgNgdEQGA2BAQgBwiPuXFwMgoIMTEwMQIaAALoT//1j2L+fYd48hm/fGFxdGVJSGNjYEGpOnmRYu5bh2TMGXV2G3FyQCXC569cZli4FSSkqMuTng9bhjMb/aAiQFgKjC9xHU8xoCIyGwGgIjIbAaAiMhsBICgGKNqcCW+1ZWQy+vgznzzPcvw8aj7exYfjwARR+f/4w5OUxREUxnD7NcOUKQ1sbA3DA/vJlkBRQV0MDg58fw6FDINkJE0BL548eHU13oyEwGgKjITAaAqMhMBoCoyEwGgKjITAaAjhDgKKGO3A0fdEiBi0tUBMc2AoHttSBTXPg8Dmwaf7rF8PKlQzMzAzAlv2qVQzh4QxfvjAcOAByB7BNv3Ahw+/fDKmpIDXAkXigyObNo5E0GgKjITAaAqMhMBoCoyEwGgKjITAaAqMhgDMEiLqAafp0huJiBkdHhq1bEQb9+MHg789w5gzDpEkM0dEg8QcPGOztQavhgY14CQmQ4M6dDCwsDJycDNbWoFU0FhagJTHAZjqwsb5iBUglcAUOcJA+OZnB0pJBRITYeBq9gAlXSI2oOwuIvHoJElajtzmMphlS64HRNDOaZkbTDAOVwGhuGs1NJCWl0QSDJ8EQdQHTtGn/OTn/e3lBD6f/+fN/Rsb/hob/Tk7/eXn/z50LFb9z57+Q0H8Jif+PHoFEfv/+v3r1f1PT/4KCIGVycv+PHoWq/Pv3//bt/62t//Px/efn/y8l9X/DBhIughq9/mP0+o//DAzE338xqC65ADqGvGsXaHQ7xmhuGvy5afQCJjzVw2huIuPWGDpfGTNaAuNJwIOnBB69gImMrER2hU62RmCCIWepDHCz6ZIloOXpkE2rwKF3SM8AyACOrwNPjWRnZwCulunrY7h2jWHbNoYjRxjS0xnevgWxgSqBUrNnMwAXtQMNAQ7YFxUxfP7MsH49wygYDYHREBgNgdEQGA2B0RAYDYHREBgNgdEQwBUChE+VAW42ff4c1BD/+BHUWAcadOwYA7CNDmydd3YyGBsz1NeDNp7y8jLk5DAA1QD3oYqJMQDXuM+dC2qsAxfJANfAWFmBjpeRkgI5A9hwB0rdvs2grc2grg5aRbNsGYOc3GgcjYYA0SEwep7MaGIZDYHREBgNgdEQGA2B0RAYeSFAuOEO3DYK3F36/z/DpUugA2SAQQRslPPwMGhqMigrMyxfzpCUxBAQAFrL/vUrQ1kZQ2IiKBSBQ+9dXQzA0XTgtlSgYg4OhogIhrAwhFR2NmjfKnD5O7DF7+bGkJExmvpGQ4BwCDABd0WIigJXyYwG1mgIjIbAaAiMhsBoCIyGwGgIjLQQINxw9/Zm0NNj+PQJupcUGEDAIXM+PgYFBVBYeXqCzoI8exY0JA9sxwNPmIGEILB9Bdy6amsLGqQHqpeWBhkCD1wHB4bjxxlOnQIJ8PMzmJqOJryRFQL8wFjH4WMWFnxpUhZ4lcDr16PJZTQERkNgNARGQ2A0BEZDYDQERmAIEG64CwkxABGeoAEeIANs3GNVANTo7o5dK7Dp7+Iy8AE+uuaCdnEAGh3HYboA5lVeMJViwIVWeNwEnKAZLahGQ2A0BEZDYDQERkNgNARGQ2BEhgDLSI53YKsd6P3RtjuN0oAQUofv+5UrH/fvBx4+ymtjw2VkhGnjv1+//r19y8TPzwJcPgWW/nH37uf9+9kUFLj19VmA+6DBI/H/fvz4fuMGu4wMC/Gnh44WbaMhMBoCoyEwGgKjITAaAqMhMCxCYEQ33IEL90db7bRLxpyQJvi/f8/b2p52djLz8zMyMj6qrBTPzJQDboBgQjnR6GFe3pcTJzQPHWIBd6e+Xb58Lzn59+vXf9+/Z+bm5nN0ZAMut2Jm/rRv389Hj3SAC61GG+6jRfBoCIyGwGgIjIbAaAiMhsAICwGiLmAabGEyegETrhgZPHcWAFexQ9bDfN6374aPD7ucnNqmTUzMzLeior5dvKiyaJEQZKsy2CfPu7qADXo2WVndCxdYBAT+fft2B7ipmYlJprPzUW7ur2fPODU0/rx///vly+/Xr6uuWiUUEgLU9/PnzxcvXhCZOEdvcxj8aWawlTOjaWY0zZCaJkfTzGiaGU0zVCnJR7MSnqxE1AVM/wcZGL0yZkhcwAR05N+vX69YW58WEnoHu2Hr8+HDZ0VELujo/H7/HuKLL6dOnWRmPsXHd15RES74oLDwipXVq2nTgOTDoqL/f/9+2L79BCPj22XLyLsiYTTNDIk0M3qZDtZoGr2ACU8VNJpmyCgSRy9gom6gUXILz+gFTFjjAk+wUBLag6q4IM8xZF7ANDotMxoCRIbAvz9//n77xsjExAzbVPqfienfz59/gacUgY348+bNdTc3AV9fxr9/kQ95lO/p4dbTe9zYyK2rK9fd/e3KlRve3vK9vUKRkaOBPxoCoyEwGgKjITAaAqMhMBoCIzMEmEYjfjQEaBQCwG4xCw+PoKPj/2/f3q9bB7Hl36dP/75//w+8LBfMv+HlBVxFI56fj+4GJia5iRMN7tyRmzTpx/37V4yNpSorJQoLRyNrNARGQ2A0BEZDYDQERkNgNARGbAiwjMb9aAjQKASAW1GBh/9LNzd/2LPn1bx5wAXprMLCH/fsAQqyAC9R+vXrQVbWj2vXtI4d+/nwIegigD9/fgPXrP/7x8TDw8TGBkQMbGx/Xr++rKsrEhUl29ICHKf//+8fC/AkUabRDudosh0NgdEQGA2B0RAYDYHREBhxITDaABpN9LQKAeCIO9Bo4I5ShVmzxNPTgW3077dvc+npMXFzs4qLfz569O2aNcwCArf8/e+npf398ePXixc33N3vREV9PnAA4qY/Hz5cUFXlc3JSWrgQqP2qpeUVA4O3wIt8gXd6jcbbaAiMhsBoCIyGwGgIjIbAaAiMsBAYHXEfTfK0CgHgiPuvu3fvp6cD18YozZkj194OPIX9bnw8w+/fPObmwOMdlefPB54YA7T+5927LyZMAA60SxYXsysqcurqAgWBii/r6XEoK6tv2fLr0aPbkZFCoaFsEhJPGxtZxcSArfnRmBsNgdEQGA2B0RAYDYHREBgNgREVAqMN99EET8MQYFNU5HVweDVjxtt164QDA9+tXw88HIZDX1+mtpYJuOIFbDPw8Mf3mzcDN7AysrHxOTtzaWoygFfCXDExAYpoHT0KVAVs3wNb/8C2PvDISOBqmV9Pn45G22gIjIbAaAiMhsBoCIyGwGgIjLQQGG24j6Z5WoXAP+BqdSYm6ZoaLl1d4JGOr+fMAS6bEYqIUJw1i4mDA27rl5MnX06aBGyO//348Xl3t8KkScx8fMABeF4rK/kpU0Ar3RkYeMzMZOrqHtfVAZfCC0dFCQFPeR+Nt9EQGA2B0RAYDYHREBgNgdEQGGEhMNpwH03ytAqBX79+cYAb6IL+/lxGRt/PnWORkuIxNUWzDyiiOHv2n3fvgOLAMXVmHh5g61wiJ4eBBSlxMjEB2+vABTbApfAcqqqQ1vxozI2GwGgIjIbAaAiMhsBoCIyGwIgKgdGbU4dVdA+qy8Y4wYAXdoI7ckD//fv3PfAm1N+/hYWF2djY0OIAMlQPFARubwWyv3//zs3NDTqjBqYOKA7sFXz8+BEoRWT8jV7DhiugRkNmNGRILQRH08xomhlNMwxUAqO5CWtAjgYLnkJm9OZU6KVddL5JjkZXIdL5DrYXL17gudHw2bNnuGSfPHmCS+o97EbV/yQC/EE6enMqruAcDZnBHzKjN6fiKQxGb07FFTijITMaMpghQP9Lc8m+H5TquR5o4OjNqQyjYISHgLi4OJ4QkJCQwCUrJiaGSwo4jo7HzKej21JHc91oCIyGwGgIjIbAaAiMhsBIDYHRc9xH0z6tQgB5cQuaHaysrOTZ+ufPn9EIGw2B0RAYDYHREBgNgdEQGA2BkRkCo5tTR1M+OSHw/cqVj/v3A3dI8NrYADeeIhvx4969L4cO/f32jVtPj8fGBi714+7dz/v3sykocOvrswgKQvaeAg9r/37jBruMDIuIyGhMjIbAaAiMhsBoCIyGwGgIjIbAaAjgCYHRhvto8iAxBP79e97W9rSzk5mfHzim/qiyUjwzU66rC3L4+vt164AnPzLx8v799Onv27cCISEqs2YxsLF9u3z5XnLy79evgZtSmbm5+RwdgQfIMDAzf9q37+ejRzrHjzOMNtxHU+JoCIyGwGgIjIbAaAiMhsBoCOANgdGlMqMJhLQQ+HzgwJO2NmCzW3PfPq0DBzh1dF5MmfJuzRrgGY5Pm5ruZ2eLp6drbNumfegQn4vLu+XLn/X1Aa9YelJVxSYpqb59O/DwR2YBAeBtSl9On36/ceOXU6eAB7ezycuPRsNoCIyGwGgIjIbAaAiMhsBoCIyGAMNow300EVArBIBN8Ed1dYycnLKdnRxqamzKygq9vSy8vI+bm3/cuQMcVmeXkgKunAHebwpsi8t1drIICLyYNg04ys6uqvr7zZuv+/cDl9AIeHiorl4tVVb2/fp11aVLhUJCRiNoNARGQ2A0BEZDYDQERkNgNARGQ4BgCIwulRlNJCSEwL8/f4Atb0YmJmbY6ez/mZj+/fzJ8OkTi5iY4syZ/79/ZxYVBZoIXCrzsKzsz8ePMtXVrJKS8j09D7KzHzc2CgUEyHV3f7ty5Ya3t3xvr1Bk5GgEjIbAaAiMhsBoCIyGwGgIjIbAaAgQEwKjFzANq3RCuzsLREVFgfcpAZPL49LSlzNmiCYmyk+ZAgy7jzt23PT1Bbbj9e/dA46vA0V+3Lz5au7cDxs3/nz6VDgkRAm8xh0o/u/XLwYgYmP79fjxJQ0NyfJy2ZYWSOgDT1f99u3bp0+fgNcq0Sg+Rm9zwBWwoyEzGjKkZrrRNDOaZkbTDLWqqtHchDUkR4MFTyEzegET9Iz/0QuYiLyr4u/Xr5f09E5xct4MDr6XlnZeSekkK+sFNTXgxlOgCc97es4rKFyxsAAudv986hSmmb9fvQLqvRsXB5QCjsf/Bl639PcvsrLhcTUVLXwxGjJkXKdC9o0bQI2D52qq0QuYqH4Vy2huGrG5abDdwjNazmBNiniChZJSfXhcwDS6VIZhFJAUAr9fvlSYNev9ihUfdu78IyHBpaf35907VnFxFh6ez0ePvpg8WbquTjgsjImHB2QseGkNMx8fxIo/Hz5cUFXlc3JSWrjwx7Vrt0JD/339KtvRAVQPOZRmNC5GQ2A0BEZDYDQERkNgNARGQ2A0BHCFAJ0a7v/+/Xv37h3QESKop/7du3dv165dP378MDExsUE68xurc48cOXL27Fl2dvbR6ByoEPh19+799HTgmTBKc+bItbcDT2G/Gx/P8Ps3j6UlsOX9oq+PXVLy1YwZLPz8vM7OQEf+uHXrWXu7WFaWgKsrUPFlPT0OZWX1LVt+PXp0OzJSKDSUTULiaWMjq5gYsDU/Gq2jITAaAqMhMBoCoyEwGgKjITAaAnhCgB4Nd+Btl8XFxStXrjx06BByw33OnDllZWUcHBxMTEwfPnwICQmZNWsWGxsbpnOBC6DT09M3bNggKCj4+/fvjIyMmTNnpqamAjWOxi49Q4BNUZHXwQHYNH+7bp1wYOC79es/bN/Ooa8P3IH6j4Hh18uXPx88YGRlvRUWBjwm8t/nz/9//AAOvfOYmwMdecXEhJGNTevoUSD717NnwNY/8ExJ4Pkz///9+/X06Wg8jobAaAiMhsBoCIyGwGgIjIbAaAjgDwF6nONeUlIyefLknz9/It+Bf+HChcLCQi4urv379x89etTV1XXFihW9vb1YnbtkyZI1a9bY2dkdPnwYOEIPVFNRUfH48ePR2KV3CDAxSdfUKEyd+nrePOCxME9bW4UiIrQPH2bi4/v3/j2PmZlMXZ3uuXPAo2N+P336+8ULYKMcODbPwsf3YsIEXisrvWvXmDg4gG6GqAQOxj/IyBAKDhYKDx+NytEQGA2B0RAYDYHREBgNgdEQGA0B/CFA8xH3rVu3Xrp0SVhYGDhSDncK8PAQYMsbOF5eXV2trq4OFG9vbz927Nj06dPj4uKkpaWRHQ0cbp89ezYrK2tKSoo8+KaedevWAU2YO3duU1PTaATTPwQE/f2Bh7V/P3eORUoKeKESxAEs4uLAMx9BbCYm1bVrPx06BDw1kk1cnF1ZGXg3k0RODgMLUmJjYhKOigKOxP/98YNDVZUJ2zTLaMyOhsBoCIyGwGgIjIbAaAiMhsBoCCCHAM0b7u7u7kZGRgYGBsi2AtfDNDc3Ozk5tba2amtr8/PzA1vwwNUytbW1kpKSaDH09u3bN2/eCAkJGRoawqWAC2zOnz8PXITDwjK6v3YAkjS7rCwQoVvMhJjA4bOzQ5FlQpnbAe4KBzbrgbcyjebG0RAYDYHREBgNgdEQGA2B0RAYDQEiQ4DmS2VwNaxNTU0LCgpevnzp5ubm4OCwbds2oAhwyTvmsnWgCcBBd2CzHnnM/vv378ANr6Ot9oFN6MAoIM8Bz549G82ioyEwGgKjITAaAqMhMBoCoyEwGgIkhQDTQIXX8+fPgQtjgGvcq8FAVVUVeGLMpk2bRuNvCIUAMBLxuPbFixe4ZIFTJaMRPRoCoyEwGgKjITAaAqMhMBoCoyFAUgjQ4+ZUYPMOuFQGuDn19OnTwAY60H3AdltsbOz27dsrKyvLy8uBImfOnPH09ASumQGe+SghIYHsB+AmVHt7+79//x44cEBRUREo1djYiMuTCQkJwAu3sMrikQKqp7NGGjkGT9yPhsxomiG1cBxNM4MkzQyqsgt/KhpNM6PlzGg5gxYC+PPv4Km1R8uZIdF6BCWY/7QHwHURYmJiwEb5rVu3ILYBG/E+Pj4CAgLAXacQkWvXrklJSSkpKT169AjYRge26ZctW7Zz504gG7gqxsLCgpubG3i2DEQx8Eot4PX7wPXxmG6n8wWoo3ew4Uk+g+qKssFzO91omhlNM1hDYKiUXUDHj+YmXGl4NGRGQ4akZsmgyk2D6obm0ZtT8WQlmu/sBK5iv3LlCnCIHdgEBzJ4eHiA20+Bm1MnTJhgbGwMHHHX1NTk5eXNyckBbkKdOnWqrKzsw4cP+/r6vn79ChQHbl0FHjKTm5ubnJwMPOVdV1f306dPwA4HcI1NYmIiwygYDYHREBgNgdEQGA2B0RAYDYHREBgNgZERAjRf497f35+UlAQcNQe23TMzM7u6uiABq6ysvHz5cuDu0oCAAODJM8Bj3YE7UyFtceCWx/Dw8FevXkVFRQEvVQWqDwsLKyoqAqoBqgwKCgKKzJ8/H/P8mdFEOxoCoyEwGgKjITAaAqMhMBoCoyEwGgLDNQRoPuIOHCwHNs0hmxGBJ8YAB9ThQQlc1A480hG4JxXYUge247W0tCBSwIXs8fHxwCF24GHtkItUge174MIYYDv+3r17QEOAC+J9fX1HE+VoCIyGwGgIjIbAaAiMhsBoCIyGwGgIjJwQoHnDXRoMcAUocB+qt7c3pizknEc21Ht5tMEAqBjYcB9No6MhMBoCoyEwGgKjITAaAqMhMBoCoyEwokKAaTS+R0NgNARGQ2A0BEZDYDQERkNgNARGQ2A0BAZ/CIw23EdT6WgIjIbAaAiMhsBoCIyGwGgIjIbAaAgwjDbcRxPBaAiMhsBoCIyGwGgIjIbAaAiMhsBoCIyGABVCgB4XMFE9ooAXMAFvChiNf8wQAF4fMBoyWBPGaMjgyi+jITMaMqSWpaNpZjTNjKYZarVARnPTaJVNUloC3RL1fwiC0UsuRi+5GLqXXABdPno1Fa4EPBoyWENmUF2MMqiujBnNTXgq8NHcNFrOkFRRjl7AREaCIbsIIlsjsAE8usZ9dOB+NARGQ2A0BEZDYDQERkNgNARGQ2A0BIZACIw23EeT6WgIjIbAaAiMhsBoCIyGwGgIjIbAaAgMgRAYbbiPJtPREBgNgdEQGA2B0RAYDYHREBgNgdEQGG24j6aB0RAYDYHREBgNgdEQGA2B0RAYDYHREBgNAWqEwOiI+2g6Gg2B0RAYDYHREBgNgdEQGA2B0RAYDYEhEAIjveHOyDiaTEdDYDQERkNgNARGQ2A0BEZDYDQERkNgtOE+uEMA0mofbbuP5tTREBgNgdEQGA2B0RAYDYHREBgNgcEfAiP9AiYFBfkHDx4Om5Q6epUDrqgcDZnRkCE1m4+mmdE0M5pmqFU5juam0dxEUloaTTB4EgzD/yEIRi9gwhVpoyEzGjKjV1OhhQB519AADRk8uWn0AiY81dToNUNk3BpDdqYYBrmJ7ItvaJQNR8sZrAkYT7DQ/86jwXY11ejm1NF5odEQGA2B0RAYDYHREBgNgdEQGA2B0RAYAiEw2nAfTaajITAaAqMhMBoCoyEwGgKjITAaAqMhMARCYLThPppMR0NgNARGQ2A0BEZDYDQERkNgNARGQ2C04T6aBkZDYDQERkNgNARGQ2A0BEZDYDQERkNgNASoEQKjI+6j6Wg0BEZDYDQERkNgNARGQ2A0BEZDYDQEhkAIjDbcR5PpaAiMhsBoCIyGwGgIjIbAaAiMhsBoCIw23EfTwGgIjIbAaAiMhsBoCIyGwGgIjIbAaAiMhgA1QmB0xH00HY2GwGgIjIbAaAiMhsBoCIyGwGgIjIbAEAiBkX5z6jBLpKOXjeGK0NGQGQ0ZUjP7aJoZTTOjaYZaVeRobhrNTSSlpdEEgyfBjN6cCr20i843yQ37O9hGb6cbvesRawjQIuWP3mhIxt2ZlNw+OHpDM64AHw2Z0ZAZundXD7b7Qalehw62Zgl5zU5gITO6VIZhFIyGwGgIjIbAaAiMhsBoCIyGwGgIjIbA4A+B0Yb7aCodDYHREBgNgdEQGA2B0RAYDYHREBgNAYbRhvtoIhgNgdEQGA2B0RAYDYHREBgNgdEQGA2B0RCgQgiMjriPJqPREBgNgdEQGA2B0RAYDYHREBgNgdEQGAIhMNpwH02moyEwGgKjITAaAqMhMBoCoyEwGgKjITAEQmC04T6aTEdDYDQERkNgNARGQ2A0BEZDYDQERkNgtOE+mgZGQ2A0BEZDYDQERkNgNARGQ2A0BEZDYDQEqBECoxcwDat0NHpnAa7oHA2Z0ZAhNauPppnRNDOaZqhVQY7mptHcRFJaGk0weBLM6AVMoxcw/R9U1y6MXk01epkOqTc3jV7ANJpmRtMMSff+0PnCQaDbRq+mwpVJB0/IjF7AROeCdPQCptEJmNEQGA2B0RAYDYHREBgNgdEQGA2B0RAYziEwujl1NH2PhsBoCIyGwGgIjIbAaAiMhsBoCIyGwBAIgdGG+2gyHQ2B0RAYDYHREBgNgdEQGA2B0RAYDYHRhvtoGhgNgdEQGA2B0RAYDYHREBgNgdEQGA2B0RCgRgiMjriPpqPREBgNgdEQGA2B0RAYDYHREBgNgdEQGAIhMNpwH02moyEwGgKjITAaAqMhMBoCoyEwGgKjITDacB9NA6MhMBoCoyEwGgKjITAaAqMhMBoCoyEwGgLUCIHREffRdDQaAqMhMBoCoyEwGgKjITAaAqMhMBoCQyAERm9OHVbJdPSyMVzRORoyoyFDalYfTTOjaWY0zVCrghzNTaO5iaS0NJpg8CSY0ZtTR29OHb059cGQuC9t9E7ZEXs/6KC60XD0Fsz/uMHo/aCD/35QoAvJu7Fy9IZmepbAeLIS2TE42KJ+9ObU0fmd0RAYDYHREBgNgdEQGA2B0RAYDYHREBjOITC6xn00fY+GwGgIjIbAaAiMhsBoCIyGwGgIjIbAEAiB0Yb7aDIdDYHREBgNgdEQGA2B0RAYDYHREBgNgdGG+2gaGA2B0RAYDYHREBgNgdEQGA2B0RAYDYHREKBGCIyOuI+mo9EQGA2B0RAYDYHREBgNgdEQGA2B0RAYAiEw2nAfTaajITAaAqMhMBoCoyEwGgKjITAaAqMhMARCYLThPppMR0NgNARGQ2A0BEZDYDQERkNgNARGQ2AIhMDoBUzDKpmO3lmAKzpHQ2Y0ZEjN6qNpZjTNjKYZalWQo7lpNDeRlJZGEwyeBDN6AdPoBUyjFzCNXsCE/WIN8q6HGDa3Ywyey3RGL2DCc+fR6GU6ZFyLQ/+sPXo11eC/mmpQlTOjFzDhSTCjS2VGJ4ZGQ2A0BEZDYDQERkNgNARGQ2A0BEZDYAiEwGjDfTSZjobAaAiMhsBoCIyGwGgIjIbAaAiMhsBow300DYyGwGgIjIbAaAiMhsBoCIyGwGgIjIbAaAhQIwRG+og7I+NoOhoNgdEQGA2B0RAYDYHREBgNgdEQGA2BIRACI7rhDmm1j7bdR3PqaAiMhsBoCIyGwGgIjIbAaAiMhsDgD4ER3XD//x8UQRByNLGOhsBoCIyGwGgIjIbAaAiMhsBoCIyGwGAOgZG+VGa01T6aP0dDYDQERkNgNARGQ2A0BEZDYDQEhkQIjF7ANKwS6uidBbiiczRkRkOG1Kw+mmZG08xomqFWBTmam0ZzE0lpaTTB4EkwoxcwjV7ANHoB0+gFTKMXMGEJgdELmAb/lTFk3/ZFo7tmRq8ZGk0zmCGAP7GNljNY08zoBUyjFzCNzv+MhsBoCIyGwGgIjIbAaAiMhsBoCIyGwNAOgdELmEZT8GgIjIbAaAiMhsBoCIyGwGgIjIbAaAgMgRAYbbiPJtPREBgNgdEQGA2B0RAYDYHREBgNgdEQGG24j6aB0RAYDYHREBgNgdEQGA2B0RAYDYHREBgNAWqEwOiI+2g6Gg2B0RAYDYHREBgNgdEQGA2B0RAYDYEhEAKjDffRZDoaAqMhMBoCoyEwGgKjITAaAqMhMBoCQyAERhvuo8l0NARGQ2A0BEZDYDQERkNgNARGQ2A0BEYb7qNpYDQERkNgNARGQ2A0BEZDYDQERkNgNARGQ4AaITB6c+qwSkejl43his7RkBkNGVKz+miaGU0zo2mGWhXkaG4azU0kpaXRBIMnwYzenDp6c+rozamjN6eO3pw6enMqSggMlbseR29O/Y8b4IlE8qTIDm2gxtE7ZQf/nbI0uk6YvMQ2enMqngQzusadYRSMhsBoCIyGwGgIjIbAaAiMhsBoCIyGwOAPgdGG+2gqHQ2B0RAYDYHREBgNgdEQGA2B0RAYDYEhEAKjDffRZDoaAqMhMBoCoyEwGgKjITAaAqMhMBoCow330TQwGgKjITAaAqMhMBoCoyEwGgKjITAaAqMhQI0QGB1xH01HoyEwGgKjITAaAqMhMBoCoyEwGgKjITAEQmC04T6aTEdDYDQERkNgNARGQ2A0BEZDYDQERkNgtOE+mgZGQ2A0BEZDYDQERkNgNARGQ2A0BEZDYDQEqBECoxcwDat0NHpnAa7oHA2Z0ZAhNauPppnRNDOaZqhVQY7mptHcRFJaGk0weBLM6AVM0EPu6XwhBY1uOhi95GLwX3IxemXM6JUxWEOA/nfikG3jaDkzWs5ghsDopV24UsVQCZnRC5jIi0E6F93A4nd0jfvozM1oCIyGwGgIjIbAaAiMhsBoCIyGwGgIDIEQYKGPG//9+/fu3TugXSIiImg2Hjly5OTJk8bGxg4ODvgdA1R59uxZdnb20ZQ1GgKjITAaAqMhMBoCoyEwGgKjITAaAiMtBOgx4v7nz5/CwkIdHR1I2x0exMDWfHp6uqur6+TJk2NjYwsKCoAiWCPg27dvQAWenp69vb2NjY1ANTNnzsSleDQRj4bAaAiMhsBoCIyGwGgIjIbAaAiMhsDwCwF6NNxLSkqATfOfP38yMjLCQ/DHjx/e3t7A/Qc5OTlHjx6dO3fupk2bgCJAccxQXrJkyZo1a+zs7A4fPrxr1y6ggoqKisePH4+myNEQGA2B0RAYDYHREBgNgdEQGA2B0RAYISFA84b71q1bL126JCwsDFz1jxymq1evBrbC1dTUcnNzeXl5TUxM5OTkPn36dO3aNbSgBw63z549m5WVNSUlRV5eXldXF6jg169fwLb+aDIdDYHREBgNgdEQGA2B0RAYDYHREBgNgRESAjRf4+7u7m5kZGRgYIAcoMBVLsBRdhYWFmCDPiws7PXr18AWeV9fn7S0tLi4OFrQv3379s2bN0JCQoaGhnApDg6O8+fPAxfhAA0ZTayjITAaAqMhMBoCoyEwGgKjITAaAqMhMOxDgOYj7lgb1sAG961bt4BD6VevXnVzc/P19QWOygMXu6MtgoeEPtAEoMoPHz78/v0bHh/fv38Htv5HW+2jWXQ0BEZDYDQERkNgNARGQ2A0BEZDYISEAMtA+fPly5fAxTPAperFxcVANwCPlIkFg0OHDnFxcY2mv9EQGA2B0RAYDYHREBgNgdEQGA2B0RAYDQHkEKDHzanPnz8HLpUBbk49ffq0qqoq0HrgDlQXFxfgKPuECROSkpKAIk+fPrWxsQGOxAP3nmpqaiI7EbgJ1d7e/u/fvwcOHFBUVARKQQ6WwRqRCQkJwA2vpEoB1dNZIx7rKHEMA24wGjK4wmY0ZEZDhoFEMDyKC7J9MVrOMJAORsuZ0XJmtJxBCwH8DaHBU87QqMFGfgn8n/bg2bNnYmJi/Pz8wOUxENuArfDg4GCgyNSpUyEiV65cAapRVlYGjsQDZbdv375s2bKdO3cC2cBVMRYWFtzc3MCzZSCKgRdHcXJytra2knR526C6FWz05lQ6X1E2etcjrgAfDZnBHzKDquwCBtdomhnNTaM3p6KFwDC4h3j05lQ6N0vISzPA4pfmS2WADXFgoxw4lA5sggMZPDw8kpKSTExMnZ2dwEuX6uvr9fX1gafKAA+F/PjxY1tbG7D5/vDhQ+BG1a9fvwLFtbW1gTtWgSfPJCcnz5o1C3ikDPDkGWA/DLicJjExkWEUjIbAaAiMhsBoCIyGwGgIjIbAaAiMhsDICAGab07t7+8HLoYBjpoD2+6ZmZldXV2QgAUOri9fvhy4uzQgIAB48syFCxfKysogbXHgrtPw8PBXr15FRUVBjnUHnjxTVFQEVANUGRQUBDRh/vz5wA7AaCodDYHREBgNgdEQGA2B0RAYDYHREBgNgRESAjQfcQcOlgOb5sBWOzBAgQPtsrKy8JAF3oQKPNLx7NmzwJY6sB2vpaUFkQIuZI+PjwcOsQMPa2djYwMKAtv3wIUxwHb8vXv3gIacOXMGeBDNaBodDYHREBgNgdEQGA2B0RAYDYHREBgNgZETAjRvuEuDAa4AlZCQAN6WiikLOecR0mqHy2qDAZALbLiPptHREBgNgdEQGA2B0RAYDYHREBgNgdEQGFEhwDQa36MhMBoCoyEwGgKjITAaAqMhMBoCoyEwGgKDPwRGG+6jqXQ0BEZDYDQERkNgNARGQ2A0BEZDYDQEGEYb7qOJYDQERkNgNARGQ2A0BEZDYDQERkNgNARGQ4AKIUCPC5ioHlHAC5iAB9ePxj9mCAAvnxoNGawJYzRkcOWX0ZAZDRlSy9LRNDOaZkbTDLVaIKO5abTKJiktge4Y/T8Ewej1H6PXf4xe/zH8rv8A+oi8CymG/XVmoxcw4ammRtMMGbfGkH1b0DC4Zmi0nBkq1wxRPdcPtqgn+wKmkb7GnZFxdOB+NARGQ2A0BEZDYDQERkNgNARGQ2A0BIZACIzohjuk1T7adh/NqaMhMBoCoyEwGgKjITAaAqMhMBoCgz8ERnTD/f9/UARByNHEOhoCoyEwGgKjITAaAqMhMBoCoyEwGgKDOQRG+lKZ0Vb7aP4cDYHREBgNgdEQGA2B0RAYDYHREBgSITB6jvtoQh0NgdEQGA2B0RAYDYHREBgNgdEQGA2BIRACow330WQ6GgKjITAaAqMhMBoCoyEwGgKjITAaAqMN99E0MBoCoyEwGgKjITAaAqMhMBoCoyEwGgKjIUCNEBi9gGlYpaPRqxxwRedoyIyGDKlZfTTNjKaZ0TRDrQpyNDeN5iaS0tJogsGTYBhGL2CChACdL6QY9lfGjF5yMXplDNYQoEXKH72Aic43qoxegYcrwEdDZjRkMEMAfwE1eNLMoLroDU+wkN26GGzNktELmEYnYEZDYDQERkNgNARGQ2A0BEZDYDQERkNgOIfA6ObU0fQ9GgKjITAaAqMhMBoCoyEwGgKjITAaAkMgBEYb7qPJdDQERkNgNARGQ2A0BEZDYDQERkNgNARGG+6jaWA0BEZDYDQERkNgNARGQ2A0BEZDYDQERkOAGiEwOuI+mo5GQ2A0BEZDYDQERkNgNARGQ2A0BEZDYAiEwGjDfTSZjobAaAiMhsBoCIyGwGgIjIbAaAiMhsBow300DYyGwGgIjIbAaAiMhsBoCIyGwGgIjIbAaAhQIwRGR9xH09FoCIyGwGgIjIbAaAiMhsBoCIyGwGgIDIEQGL05dVgl09HLxnBF52jIjIYMqVl9NM2MppnRNEOtCnI0N43mJpLS0miCwZNgRm9O/T96c+qgui9t9E7Z0VswSb1ydfTm1NE0M5pmSLqwk7wrGym5sXL0TllcmXT05lSsITN6cyqeBDO6VIZhFIyGwGgIjIbAaAiMhsBoCIyGwGgIjIbA4A+B0Yb7aCodDYHREBgNgdEQGA2B0RAYDYHREBgNAYbRhvtoIhgNgdEQGA2B0RAYDYHREBgNgdEQGA2B0RCgQgiMjriPJqPREBgNgdEQGA2B0RAYDYHREBgNgdEQGAIhMNpwH02moyEwGgKjITAaAqMhMBoCoyEwGgKjITAEQmC04T6aTEdDYDQERkNgNARGQ2A0BEZDYDQERkNgtOE+mgZGQ2A0BEZDYDQERkNgNARGQ2A0BEZDYDQEqBECoxcwDat0NHpnAa7oHA2Z0ZAhNauPppnRNDOaZqhVQY7mptHcRFJaGk0weBLM6AVMoxcw/R+9gInO99eQd/vJ6NVUI/aaoUGVQ4GxMHqZzuC/TIfsy5JGy5nRcgZrCND50q7RC5hGL2AanZ4ZDYHREBgNgdEQGA2B0RAYDYHREBgNgaEdAqObU0dT8GgIjIbAaAiMhsBoCIyGwGgIjIbAaAgMgRAYbbiPJtPREBgNgdEQGA2B0RAYDYHREBgNgdEQGG24j6aB0RAYDYHREBgNgdEQGA2B0RAYDYHREBgNAWqEwOiI+2g6Gg2B0RAYDYHREBgNgdEQGA2B0RAYDYEhEAKjDffRZDoaAqMhMBoCoyEwGgKjITAaAqMhMBoCow330TQwGgKjITAaAqMhMBoCoyEwGgKjITAaAqMhQI0QGL2AaVilo9E7C3BF52jIjIYMqVl9NM2MppnRNEOtCnI0N43mJpLS0miCwZNgRi9gGr2AafQCpgejFzANhhs3Rq+MGRLpcPQCpv+4wejVVKNXU2GGAP47rQZPmhlUF72NXsA0egHT6PTMaAiMhsBoCIyGwGgIjIbAaAiMhsBoCAztEBjdnDqagkdDYDQERkNgNARGQ2A0BEZDYDQERkNgCITAaMN9NJmOhsBoCIyGwGgIjIbAaAiMhsBoCIyGwGjDfdCHACPjaDIdDYHREBgNgdEQGA2B0RAYDYHREBgNgSEQAiN6xB3Sah9tu4/m1NEQGA2B0RAYDYHREBgNgdEQGA2BwR8CI7rh/v8/KIIg5GhiHQ2B0RAYDYHREBgNgdEQGA2B0RAYDYHBHAIjfY37aKt9NH+OhsBoCIyGwGgIjIbAaAiMhsBoCAyJEBjdnDqaUEdDYDQERkNgNARGQ2A0BEZDYDQERkNgCITA6M2pwyqZjl42his6R0NmNGRIzeqjaWY0zYymGWpVkKO5aTQ3kZSWRhMMngQzenMq9HYqPHeG0eI6MRpdUTZ6b9/ovX1D996+0ZtTR29OJfUG39E0g+caV/IqtdG6ic7ZcPTmVKwBPnpz6ujNqaOzP6MhMBoCoyEwGgKjITAaAqMhMBoCoyEwtENgdI37aAoeDYHREBgNgdEQGA2B0RAYDYHREBgNgSEQAqMN99FkOhoCoyEwGgKjITAaAqMhMBoCoyEwGgKjDffRNDAaAqMhMBoCoyEwGgKjITAaAqMhMBoCoyFAjRAYHXEfTUejITAaAqMhMBoCoyEwGgKjITAaAqMhMARCYLThPppMR0NgNARGQ2A0BEZDYDQERkNgNARGQ2AIhMBow300mY6GwGgIjIbAaAiMhsBoCIyGwGgIjIbAEAiB0QuYhlUyHb2zAFd0jobMaMiQmtVH08xomhlNM9SqIEdz02huIiktjSYYPAlm9AKm0QuY/tPoxo3R6z/IuMiDzheBAV04emnX4L+0a1Dl0NE0g+fOo9HcNPhzE9CFo3UT1mgaVOXM6AVMoxcwjc7+jIbAaAiMhsBoCIyGwGgIjIbAaAiMhsDQDoHRNe6jKXg0BEZDYDQERkNgNARGQ2A0BEZDYDQEhkAIjDbcR5PpaAiMhsBoCIyGwGgIjIbAaAiMhsBoCIw23EfTwGgIjIbAaAiMhsBoCIyGwGgIjIbAaAiMhgA1QmB0xH00HY2GwGgIjIbAaAiMhsBoCIyGwGgIjIbAEAiB0Yb7aDIdDYHREBgNgdEQGA2B0RAYDYHREBgNgSEQAqMN99FkOhoCoyEwGgKjITAaAqMhMBoCoyEwGgKjDffRNDAaAqMhMBoCoyEwGgKjITAaAqMhMBoCoyFAjRAYvTl1WKWj0cvGcEXnaMiMhgypWX00zYymmdE0Q60KcjQ3jeYmktLSaILBk2BGb04dvTl19ObUB2RccUr29Xuj9/bhuXhy9EbDwX+j4ejNqaM3p5KRSkfvlB38d8qO3pw6JFoCwKw0usadYRSMhsBoCIyGwGgIjIbAaAiMhsBoCIyGwOAPgdGG+2gqHQ2B0RAYDYHREBgNgdEQGA2B0RAYDYEhEAKjDffRZDoaAqMhMBoCoyEwGgKjITAaAqMhMBoCow330TQwGgKjITAaAqMhMBoCoyEwGgKjITAaAqMhQI0QGB1xH01HoyEwGgKjITAaAqMhMBoCoyEwGgKjITAEQmC04T6aTEdDYDQERkNgNARGQ2A0BEZDYDQERkNgtOE+mgZGQ2A0BEZDYDQERkNgNARGQ2A0BEZDYDQEqBECoxcwDat0NHpnAa7oHA2Z0ZAhNauPppnRNDOaZqhVQY7mptHcRFJaGk0weBLM6AVM0BP3ybv5ZfQyndHLdOh2Yw6NbscYvRhl9GIUzBDAn9hG08zgTzOjddNo3URq3TR6AdPoBUyjMyKjITAaAqMhMBoCoyEwGgKjITAaAqMhMBoCVAsBFvqE5b9//969ewe0S0REBNPGX79+vX37lp+fn4uLC497jhw5cvbsWXZ29tH4Hw2B0RAYDYHREBgNgdEQGA2B0RAYDYGRFgL0OFXmz58/hYWFOjo6kLY7ZhDn5eV5enoCleEK/W/fvsXGxgLV9Pb2NjY2ApXNnDkT2BkYTa+jITAaAqMhMBoCoyEwGgKjITAaAqMhMEJCgB4N95KSksmTJ//8+ZORkREzWLu6umbPnv3hwwc8DfElS5asWbPGzs7u8OHDu3btAhpSUVHx+PFjyiMJm4tGE/9oCIyGwGgIjIbAaAiMhsBoCIyGwGgIDLoQoHnDfevWrZcuXRIWFgau+sf0/enTp6uqqnh4eJiYcLoEONwObNmzsrKmpKTIy8vr6uoCzQGurpk7dy6FwQlptY+23Ufz5WgIjIbAaAiMhsBoCIyGwGgIjIbA4A8Bmjfc3d3dly5dirVd/ubNGzc3N19f379//2Jt1kOCD7j8HahSSEjI0NAQHqAcHBznz5/Hs7qGmKD//x+kCkKOJtbREBgNgdEQGA2B0RAYDYHREBgNgdEQGMwhQPOGOwsLzv2vXl5ecnJy+fn5+AMIaAJw0B24lub3799wld+/fwcurcFjOJGBPtpqH82foyEwGgKjITAaAqMhMBoCoyEwGgJDIgRYBsSVwDZ3Tk7OtWvXjh079vDhQyAXOHb+4sULIAO4bIaNjW009YyGwGgIjIbAaAiMhsBoCIyGwGgIjIbAaAgghwA9bk59/vy5gYEBcHMqcEW7qqoq0PotW7YkJSUBG+jAles/fvx4+fIlMzOzlJSUpqZmUVERcP0MshOBm1Dt7e2By2kOHDigqKgIlIIcLIM1IhMSEoAXbpEqBVRPZ414rKPEMXgS92jI4Aqc0ZAZDRlSa4XhUVyQ7YvRcoaMZsRoOTNazoyWM2ghgL8hNHjKGRo12Mgvgf/THjx79kxMTAx4TPutW7eAtgFXvABb8MC2+ywwKC8vBx7NDty9OnHixE2bNgEVA9vo27dvX7Zs2c6dO4Fs4KoYCwsLbm5u4NkyEMcC7+3j5ORsbW3FdDudL0AdvZ1u9HY6Um+nG00zo2lmSN9oCHT86M2puNLwaMiMhgxJzZJBlZtGb07FlXoHW8jQfKkMcDT9ypUrwJUwwCY4kAFcCSMpKWliYgLpSwEXr2/evBm4dRU4+u7s7AwccQeygYtn+vr6vn79ysvLq62tLS0tnZubm5ycDGznA4+U+fTpE1Av8KqmxMREhlEwGgKjITAaAqMhMBoCoyEwGgKjITAaAiMjBGi+ObW/vx+4KgY4ag5su2dmZgJPbUcO2JMnT06aNAm4tP3jx4/d3d1fvnwBygK54eHhr169ioqKAi6kAYqEhYUBl9BcuHABeEZNUFAQUGT+/PnADsBoKh0NgdEQGA2B0RAYDYHREBgNgdEQGA2BERICNB9xBw6WBwQEQM5tBI6my8rKIoesqakp8Ix2yI2qwJF14Hg8UBa4kD0+Ph44xA48rB2yURV4egxwYQywHX/v3j2gIWfOnAEeIjmaRkdDYDQERkNgNARGQ2A0BEZDYDQERkNg5IQAzRvu0mCAK0CBLXUtLS1MWcg5j2jHy2iDAVAxsOE+mkZHQ2A0BEZDYDQERkNgNARGQ2A0BEZDYESFANNofI+GwGgIjIbAaAiMhsBoCIyGwGgIjIbAaAgM/hAYbbiPptLREBgNgdEQGA2B0RAYDYHREBgNgdEQGAIhMNpwH02moyEwGgKjITAaAqMhMBoCoyEwGgKjITAEQoAeFzBRPRiAFzABD64fTV+YIQC8fGo0ZLAmjNGQwZVfRkNmNGRILUtH08xomhlNM9RqgYzmptEqm6S0BLpj9P8QBKOXXIxecjF0L7kAupy8a8JodAfEaG4a/LlpUF3/MXoBE546czQ3jdZNoxcwoYUAefUdnqxEdh062CpfskNmdKkMwygYDYHREBgNgdEQGA2B0RAYDYHREBgNgcEfAqMN99FUOhoCoyEwGgKjITAaAqMhMBoCoyEwGgIMow330UQwGgKjITAaAqMhMBoCoyEwGgKjITAaAqMhQIUQGB1xH01GoyEwGgKjITAaAqMhMBoCoyEwGgKjITAEQmC04T6aTEdDYDQERkNgNARGQ2A0BEZDYDQERkNgCITAaMN9NJmOhsBoCIyGwGgIjIbAaAiMhsBoCIyGwGjDfTQNjIbAaAiMhsBoCIyGwGgIjIbAaAiMhsBoCFAjBEYvYBpW6Wj0Kgdc0TkaMqMhQ2pWH00zo2lmNM1Qq4IczU2juYmktDSaYPAkGIb/oxcwgUOAvJPwRy/TwZN8Rq8ZwhU4oyEzGjIk3dIyegHTaDmDNQRokTBGL3ojo3Si5EqgwXNp16AqZ0YvYMKVDoEhM7rGfXTmZjQERkNgNARGQ2A0BEZDYDQERkNgNASGQAiMNtxHk+loCIyGwGgIjIbAaAiMhsBoCIyGwGgIDIEQGG24jybT0RAYDYHREBgNgdEQGA2B0RAYDYHREBhtuI+mgdEQGA2B0RAYDYHREBgNgdEQGA2B0RAYDQFqhMDoiPtoOhoNgdEQGA2B0RAYDYHREBgNgdEQGA2BIRACow330WQ6GgKjITAaAqMhMBoCoyEwGgKjITAaAqMN99E0MBoCoyEwGgKjITAaAqMhMBoCoyEwGgKjIUCNEBgdcR9NR6MhMBoCoyEwGgKjITAaAqMhMBoCoyEwBEJg9ObUYZVMRy8bwxWdoyEzGjKkZvXRNDOaZkbTDLUqyNHcNJqbSEpLowkGT4IZvTkVejvV6M2p1L3Mkuyb5Ebv7Rux9/aNphk6Rz3Zhd7guetxNM2M3imLNQRG75QdJBU62Tl09ObU0ZtTR2d/RkNgNARGQ2A0BEZDYDQERkNgNARGQ2Boh8DoGncGRsbRRDwaAqMhMBoCoyEwGgKjITAaAqMhMBoCgz0ERnrDHdJqH227j+bU0RAYDYHREBgNgdEQGA2B0RAYDYFBHgIjveH+/z8ogiDkaGIdDYHREBgNgdEQGA2B0RAYDYHREBgNgUEbAqNLZRhGW+2j+XM0BEZDYDQERkNgNARGQ2A0BEZDYPCHwGjDfTSVjobAaAiMhsBoCIyGwGgIjIbAaAiMhsAQCIHRhvtoMh0NgdEQGA2B0RAYDYHREBgNgdEQGA2BIRACoxcwDatkOnpnAa7oHA2Z0ZAhNauPppnRNDOaZqhVQY7mptHcRFJaGk0weBLM6AVMoxcw/afRnUfkXe8yegHT6AVMpN6oMuzTzKDKocDYGb2ACc/dKEP94pvREnjElsCDqpwZvYBp9AKm0dmf0RAYDYHREBgNgdEQGA2B0RAYDYHREBjaITC6xn00BY+GwGgIjIbAaAiMhsBoCIyGwGgIjIbAEAiB0Yb7aDIdDYHREBgNgdEQGA2B0RAYDYHREBgNgdGG+2gaGA2B0RAYDYHREBgNgdEQGA2B0RAYDYHREKBGCIyOuI+mo9EQGA2B0RAYDYHREBgNgdEQGA2B0RAYAiEw2nAfTaajITAaAqMhMBoCoyEwGgKjITAaAqMhMNpwH00DoyEwGgKjITAaAqMhMBoCoyEwGgKjITAaAtQIgdER99F0NBoCoyEwGgKjITAaAqMhMBoCoyEwGgJDIARGb04dVsl09LIxXNE5GjKjIUNqVh9NM6NpZjTNUKuCHM1No7mJpLQ0mmDwJJjRm1NHb04dvTn1AZ2vyhu9U5a6t0uO3pw6etsu1hAgL6MBjSJb4+idsqN3ymKGAP4CavCkmdGbU4dESwCYYEaXyjCMgtEQGA2B0RAYDYHREBgNgdEQGA2B0RAY/CEw2nAfTaWjITAaAqMhMBoCoyEwGgKjITAaAqMhMARCYLThPppMR0NgNARGQ2A0BEZDYDQERkNgNARGQ2C04T6aBkZDYDQERkNgNARGQ2A0BEZDYDQERkNgNASoEQKjI+6j6Wg0BEZDYDQERkNgNARGQ2A0BEZDYDQEhkAIjDbcR5PpaAiMhsBoCIyGwGgIjIbAaAiMhsBoCIw23EfTwGgIjIbAaAiMhsBoCIyGwGgIjIbAaAiMhgA1QmD0AqZhlY5G7yzAFZ2jITMaMqRm9dE0M5pmRtMMtSrI0dw0mptISkujCQZPghm9gGn0AqbRC5hGL2D6P0jurxm9morUiKDktqDRa4bIuG9lqFymQ3bCGPbXmY2GzFC5Zug/bkDnu9UG29VUo2vcR2duRkNgNARGQ2A0BEZDYDQERkNgNARGQ2AIhMBow300mY6GwGgIjIbAaAiMhsBoCIyGwGgIjIbAEAiB0Yb7aDIdDYHREBgNgdEQGA2B0RAYDYHREBgNgdGG+2gaGA2B0RAYDYHREBgNgdEQGA2B0RAYDYHREKBGCIyOuI+mo9EQGA2B0RAYDYHREBgNgdEQGA2B0RAYAiEw2nAfTaajITAaAqMhMBoCoyEwGgKjITAaAqMhMNpwH00DoyEwGgKjITAaAqMhMBoCoyEwGgKjITAaAtQIgdELmIZVOhq9swBXdI6GzGjIkJrVR9PMaJoZTTPUqiBHc9NobiIpLY0mGDwJZvQCpv8M4DAYHuf5NzQ0UP1KkdGQGSRBOnoxCp3vDRk8uWlQXf8BjIXRcgZXUhwNmdGQwQyBoXJp12C7Zmj0AiasIQAsZEb6GndGRlCvBkKOzuGMhsBoCIyGwGgIjIbAaAiMhsBoCIyGwKANgZHecP//HxQ1EHI0mY6GwGgIjIbAaAiMhsBoCIyGwGgIjIbAaMN98KaB0Vb7aP4cDYHREBgNgdEQGA2B0RAYDYHREBj8ITB6HORoKh0NgdEQGA2B0RAYDYHREBgNgdEQGA2BIRACow330WQ6GgKjITAaAqMhMBoCoyEwGgKjITAaAqMN99E0MBoCoyEwGgKjITAaAqMhMBoCoyEwGgKjIUCNEBgdcR9NR6MhMBoCoyEwGgKjITAaAqMhMBoCoyEwBEJgtOE+mkxHQ2A0BEZDYDQERkNgNARGQ2A0BEZDYAiEwOjNqcMqmY5eNoYrOkdDZjRkSM3qo2lmNM2MphlqVZCjuWk0N5GUlkYTDJ4EM3pzKvRqqtH7QUfvByX1xrvRNDOaZuiTZkZvTqX6HYqj9xCP2HuIgR4nr+ge9mlm9OZUOmcK8tLh6M2pDKNgNARGQ2A0BEZDYDQERkNgNARGQ2A0BIZECIyucR9NqKMhMBoCoyEwGgKjITAaAqMhMBoCoyEwBEJgtOE+mkxHQ2A0BEZDYDQERkNgNARGQ2A0BEZDYLThPpoGRkNgNARGQ2A0BEZDYDQERkNgNARGQ2A0BKgRAqMj7qPpaDQERkNgNARGQ2A0BEZDYDQERkNgNASGQAiMNtxHk+loCIyGwGgIjIbAaAiMhsBoCIyGwGgIjDbcR9PAaAiMhsBoCIyGwGgIjIbAaAiMhsBoCIyGADVCYPQCpmGVjkbvLMAVnaMhMxoypGb10TQzmmZG0wy1KsjR3DSam0hKS6MJBk+CGb2AafQCpv+D6tqF0YtRRi9GwRoCdL7uCugG4D0Xw/uGKbKDdPCEzOhlOv9xg9Frhqibf0cvYKJn3YSnkCE71w+24mL0AqbRCZjREBgNgdEQGA2B0RAYDYHREBgNgdEQGM4hwEIfz/379+/du3dAu0RERJBtvHfv3qFDh759+6anp2djY4PfMUeOHDl79iw7O/tokhwNgdEQGA2B0RAYDYHREBgNgdEQGA2BkRYC9Gi4//nzp7i4eOXKlcA2OnLDfd26dUVFRby8vJ8+fXr79m1ISMisWbPY2Ngw4wDYsk9PT9+wYYOgoODv378zMjJmzpyZmprKxDR6Ks5onh0NgdEQGA2B0RAYDYHREBgNgdEQGBEhQI+Gb0lJyeTJk3/+/MnIyAgJVOAAfFNTU3Z2NrA5vm3bNmCD3sXFZfny5X19fVhDfcmSJWvWrLGzszt8+PCuXbuAaioqKh4/fjyaSEdDYDQERkNgNARGQ2A0BEZDYDQERkNghIQAzRvuW7duvXTpkrCwMHBbADxMX79+ffnyZSkpKSMjI1lZWXl5+c7OTgEBgWnTpj19+hQt6IHD7bNnz2ZlZU1JSQGq1NXVBSr49evX3LlzR5PpaAiMhsBoCIyGwGgIjIbAaAiMhsBoCIyQEKD5Uhl3d3dg69zAwAA5QMXFxYFrXb5//y4qKgoUBy6VKSsr+/jxY3V1taSkJFrQA1fRvHnzRkhIyNDQEC7FwcFx/vx54CIcFhaW0cQ6GgKjITAaAqMhMBoCoyEwGgKjITAaAsM+BGje6sXVsAY2xIGBe/PmTeDA+caNG4ED7REREeXl5ZjL1oEmAAfdgSttgKvb4fEBbPQD19uMttpHs+hoCIyGwGgIjIbAaAiMhsBoCIyGwAgJgYEcru7t7Z0yZYqEhISrq2t8fLypqeloshsNgdEQGA2B0RAYDYHREBgNgdEQGA2B0RDAGgL0uDn1+fPnwKUywCHz06dPq6qqQtxx9OjR6Ojourq6sLAwHh4eoCBw3QtwZJ2Pjw/NocBNqPb29n///j1w4ICioiJQtrGxEVd0JiQkAC/cwiqLRwqons4aaeQYPKl8NGRG0wypheBomhkkaWZQlV34U9FomhktZ0bLGbQQwJ9/B0+tPVrODInWIyjB/Kc9ePbsmZiYGD8//61btyC2ARe9BAUFWVhYAEfZgcfFvAeDkydPBgQEAA+NAbbRt2/fvmzZsp07dwLZwFUxQJXc3NzAs2Ug2oFXanFycra2tmK6nf7XK47eTjd6Ox1J6XD0rsfRux6xhsBQKbuAjh+9ORVXGh4NmdGQIbU6GL2hGWuaGb05FU9WovlSmZcvX165cgU4mg5sggMZwMF14PZT4PJ0oDiwogKeFQMccdfR0fn8+fOPHz+Asubm5sAhduC5kF+/fgUe8a6trS0tLZ2bm5ucnAw85R14pAxwJyuww8HFxZWYmMgwCkZDYDQERkNgNARGQ2A0BEZDYDQERkNgZIQAzY+D7O/vT0pKAo6aA9vumZmZXV1dwIAFjrCbmZkB18mcO3cOOMoO3Jn64sULYGt+zpw5wKUyQEZ4ePirV6+ioqKArXmgemDjHnhV04ULF4Bn1ACH6oEi8+fPxzx/ZjTRjobAaAiMhsBoCIyGwGgIjIbAaAiMhsBwDQGaj7gDB8uBTXNgqx0YgsATY4CntgMZwOMge3p6ICJr164FXsAElAIKKisrAwWBC9mBe1WBQ+zAw9ohF6kCT48BLowBtuPv3bsHVHnmzBlfX19qRQnwVqj//0dT+GgIjIbAaAiMhsBoCIyGwGgIjIbAaAgM6hCgecNdGgwwwwD52EfglahoCiDnPEJa7XApbTAAcoENd2oFKuQuVyD54MFoSh0NgdEQGA2B0RAYDYHREBgNgdEQGA2BwRsCTCM8ciBj7aMj7qN5dDQERkNgNARGQ2A0BEZDYDQERkNgkIcA02gMjbbaR9PAaAiMhsBoCIyGwGgIjIbAaAiMhsDgD4HRhvtoKh0NgdEQGA2B0RAYDYHREBgNgdEQGA2BIRAC9LiAierBALyACXhTwGj6wgwB4PUBoyGDNWGMhgyu/DIaMqMhQ2pZOppmRtPMaJqhVgtkNDeNVtkkpSXQLVH/hyAYveRi9JKLoXvJBdDlo5d24UrAoyFD6t1MZCcnSjSOlsCjJfBoCYwWAmRfoDZ6ARPW3DR6AROeQmZ0qczowP1oCIyGwGgIjIbAaAiMhsBoCIyGwGgIDIEQGG24jybT0RAYDYHREBgNgdEQGA2B0RAYDYHREBgCITDacB9NpqMhMBoCoyEwGgKjITAaAqMhMBoCoyEw2nAfTQOjITAaAqMhMBoCoyEwGgKjITAaAqMhMBoC1AiB0RH30XQ0GgKjITAaAqMhMBoCoyEwGgKjITAaAkMgBEYb7qPJdDQERkNgNARGQ2A0BEZDYDQERkNgNARGG+6jaWA0BEZDYDQERkNgNARGQ2A0BEZDYDQERkOAGiEwegHTsEpHo1c54IrO0ZAZDRlSs/pomhlNM6NphloV5GhuGs1NJKWl0QSDJ8EwjF7ABAkBsm9PGL0yZvQyHVLvIhlNM6NphqQ0gyfBUHKP0jC4MoZs79MoSEevphq9mmroXk01qMqZ0QuYRi9gGp2eGQ2B0RAYDYHREBgNgdEQGA2B0RAYDYGhHQKjm1NHU/BoCIyGwGgIjIbAaAiMhsBoCIyGwGgIDIEQGG24jybT0RAYDYHREBgNgdEQGA2B0RAYDYHREBhtuI+mgdEQGA2B0RAYDYHREBgNgdEQGA2B0RAYDQFqhMDoiPtoOhoNgdEQGA2B0RAYDYHREBgNgdEQGA2BIRACow330WQ6GgKjITAaAqMhMBoCoyEwGgKjITAaAqMN99E0MBoCoyEwGgKjITAaAqMhMBoCoyEwGgKjIUCNEBgdcR9NR6MhMBoCoyEwGgKjITAaAqMhMBoCoyEwBEJg9ObUYZVMRy8bwxWdoyEzGjKkZvXRNDOaZkbTDLUqyNHcNJqbSEpLowkGT4IZvTkVejvV6M2p1L3McvRGw/+4wejNqaM3p47enIoWAqMl8GgJTFKmILuKGa2byEhp9A/t0ZtTR29OZRgFoyEwGgKjITAaAqMhMBoCoyEwGgKjITCkQ2B0jftoAh4NgdEQGA2B0RAYDYHREBgNgdEQGA2BIRACow330WQ6GgKjITAaAqMhMBoCoyEwGgKjITAaAqMN99E0MBoCoyEwGgKjITAaAqMhMBoCoyEwGgKjIUCNEBgdcWdgZBxNSqMhMBoCoyEwGgKjITAaAqMhMBoCoyEw2ENgpDfcIa320bb7aE4dDYHREBgNgdEQGA2B0RAYDYHREBjkITDSG+7//4MiCEKOJtbREBgNgdEQGA2B0RAYDYHREBgNgdEQGLQhMHoB07BKnKN3FuCKztGQGQ0ZUrP6aJoZTTOjaYZaFeRobhrNTSSlpdEEgyfBjF7ANHoB0388V5+MXnLxHzcYvTJm9MoY+lwZM6hyKNDLeO5GoXOmGL1Mh+oFFI0S22iawRVTgydkBlU5M3oBE54EM7o5lWEUjIbAaAiMhsBoCIyGwGgIjIbAaAiMhsDgD4HRhvtoKh0NgdEQGA2B0RAYDYHREBgNgdEQGA2BIRACow330WQ6GgKjITAaAqMhMBoCoyEwGgKjITAaAqMN99E0MBoCoyEwGgKjITAaAqMhMBoCoyEwGgKjIUCNEBgdcR9NR6MhMBoCoyEwGgKjITAaAqMhMBoCoyEwBEJgtOE+mkxHQ2A0BEZDYDQERkNgNARGQ2A0BEZDYLThPpoGRkNgNARGQ2A0BEZDYDQERkNgNARGQ2A0BKgRAqMXMA2rdDR6ZwGu6BwNmdGQITWrj6aZ0TQzmmaoVUGO5qbR3ERSWhpNMHgSzOgFTKMXMI1ewPSAjIuERq+mGr2aCmsI0OISk9ELmEavGRrqiW30AqbRC5gwQwBPyTZ6AdPoBUyj0zOjITAaAqMhMBoCoyEwGgKjITAaAqMhMLRDYHRz6mgKHg2B0RAYDYHREBgNgdEQGA2B0RAYDYEhEAKjDffRZDoaAqMhMBoCoyEwGgKjITAaAqMhMBoCow330TQwGgKjITAaAqMhMBoCoyEwGgKjITAaAqMhQI0QGB1xH01HoyEwGgKjITAaAqMhMBoCoyEwGgKjITAEQmC04T6aTEdDYDQERkNgNARGQ2A0BEZDYDQERkNgtOE+mgZGQ2A0BEZDYDQERkNgNARGQ2A0BEZDYDQEqBECoyPuo+loNARGQ2A0BEZDYDQERkNgNARGQ2A0BIZACIzenDqskunoZWO4onM0ZEZDhtSsPppmRtPMaJqhVgU5mptGcxNJaWk0weBJMKM3p47enDp6c+rozan/Sb2XcVDd5Ukjxwyeux5Hb04dvTl19OZUku7dHEIXGI+WM1jT9ujNqaM3pzKMgtEQGA2B0RAYDYHREBgNgdEQGA2B0RAY0iEwusZ9NAGPhsBoCIyGwGgIjIbAaAiMhsBoCIyGwBAIgdGG+2gyHQ2B0RAYDYHREBgNgdEQGA2B0RAYDYEhEAKjDffRZDoaAqMhMBoCoyEwGgKjITAaAqMhMBoCow33oZAGGBlHU+poCIyGwGgIjIbAaAiMhsBoCIyGwGgIDPYQGOkj7pBW+2jbfTSnjobAaAiMhsBoCIyGwGgIjIbAaAgM8hAY6Q33//9BEQQhRxPraAiMhsBoCIyGwGgIjIbAaAiMhsBoCAzaEBi9gGlYJc7ROwtwRedoyIyGDKlZfTTNjKaZ0TRDrQpyNDeN5iaS0tJogsGTYEYvYBq9gGn0AqbRC5hGL2DCEgKjF6PguQEElxSei29GL+0iI9CAWugcpMP+OjOyg3T0ojd6JuDRC5hGL2BiGAWjITAaAqMhMBoCoyEwGgKjITAaAqMhMKRDYPQ4yNEEPBoCoyEwGgKjITAaAqMhMBoCoyEwGgJDIARGG+6jyXQ0BEZDYDQERkNgNARGQ2A0BEZDYDQERhvuo2lgNARGQ2A0BEZDYDQERkNgNARGQ2A0BEZDgBohMDriPpqORkNgNARGQ2A0BEZDYDQERkNgNARGQ2AIhMBow300mY6GwGgIjIbAaAiMhsBoCIyGwGgIjIbAaMN9NA2MhsBoCIyGwGgIjIbAaAiMhsBoCIyGwGgIUCMERkfcR9PRaAiMhsBoCIyGwGgIjIbAaAiMhsBoCAyBEBi9OXVYJdPRy8ZwRedoyIyGDKlZfTTNjKaZ0TRDrQpyNDeN5iaS0tJogsGTYEZvTh29OXX05tTRm1NHb07FEgKjN6eO3pyKGQL4r88cPGlm9H7Q/7gBeZfRjt6cOnpzKtYQoPPdxsBCZnSpzOjE0GgIjIbAaAiMhsBoCIyGwGgIjIbAaAgMgRAYbbiPJtPREBgNgdEQGA2B0RAYDYHREBgNgdEQGG24j6aB0RAYDYHREBgNgdEQGA2B0RAYDYHREBgNAWqEwOiI+2g6Gg2B0RAYDYHREBgNgdEQGA2B0RAYDYEhEAKjDffRZDoaAqMhMBoCoyEwGgKjITAaAqMhMBoCow330TQwGgKjITAaAqMhMBoCoyEwGgKjITAaAqMhQI0QGB1xH01HoyEwGgKjITAaAqMhMBoCoyEwGgKjITAEQmD0AqZhlUxH7yzAFZ2jITMaMqRm9dE0M5pmRtMMtSrI0dw0mptISkujCQZPghm9gAl6oD6dj9Af9lc5jF7/MXr9B6l3VYymGXreb0J2aAM1jl4zhCumRkNmNGQwQ2CoXNpFo2YJeY0rPFmJkrJrUN29RXbIsNBnwPnfv3/v3r0D2iUiIoJs471793bt2vXjxw8TExMbGxv8jjly5MjZs2fZ2dkZRsFoCIyGwGgIjIbAaAiMhsBoCIyGwGgIjLAQoEfD/c+fP8XFxStXrjx06BC84Q5sys+cObOmpgbYEGdhYQE264OCgmbMmMHFxYUZBd++fUtPT9+wYYOgoODv378zMjKAelNTU5mYRtfoj2bZ0RAYDYHREBgNgdEQGA2B0RAYDYEREQL0aPiWlJRMnjz558+fjIyM8EB9+PBhZWUlsNW+e/fuw4cP29vbr169esmSJVhDHSi+Zs0aOzs7oErgCD1QTUVFxePHj0cT6WgIjIbAaAiMhsBoCIyGwGgIjIbAaAiMkBCgecN969atly5dEhYWBi5LQg5T4M4D4Ni5u7u7tra2vLx8SkoKcNx9zpw5wMF1tKAHisyePZuVlRWoBqhSV1cXqODXr19z584dTaajITAaAqMhMBoCoyEwGgKjITAaAqMhMNpwp04IAJvmS5cuRVvTAlzUfvr0aU5OTldXV4g1hoaGQkJCr1+/fvv2LZrFQJE3b94AZYFq4FIcHBznz58HLsKh3JVI0wCjyX40BEZDYDQERkNgNARGQ2A0BEZDYDQEBmkI0HzEHTiOjul1YDseuHLm+/fvX79+hcgCR98/fvwIHFzHVA8UAYp/+PABqAZuFFAvcJU8VsNJCmlIq3207T6aQUdDYDQERkNgNARGQ2A0BEZDYDQEBnkIjPTNnf//gyIIQo4m1tEQGA2B0RAYDYHREBgNgdEQGA2B0RAYtCFAjwuYnj9/bmBgABxiBy6PUVVVBYYFcKkM8AyZU6dOTZgwISYmBigCPBfSwcEBOIJ+8OBBWVlZ5PACbkIFbl39+/fvgQMHFBUVgVKNjY24AjQhIQG4eh6rLB4poHo6a6SRY/Cks9GQGU0zpBZDo2lmkKSZQVV24U9Fo2lmtJwZLWfQQgB//h08tfZoOTMkWo+gBPOf9uDZs2diYmL8/Py3bt2C29bS0gI8+TE0NBQiAlwHz83NbWFhAVwDA2yjb9++fdmyZTt37gSygSJAcaAs8GwZiGLgyfzA9fGtra0k3XQwqC4XGL2ACVe6Gw2Z0ZDBGgJ0viJtUF0zNKjKrtELmP7jBqMXMOEKm9GQGfwhM3oBE50r38F7AdPLly+vXLkC3EUKbIIDGTw8PJKSksAeQ1JSUn9///79+4HXKgFb8FOnTgWuWS8oKADuOgWeFNnX1wdc/s7Lyws8c0ZaWjo3Nzc5OXnWrFnAI2U+ffoE1A7UkpiYyDAKRkNgNARGQ2A0BEZDYDQERkNgNARGQ2BkhADN17gDW+fANjpw1BzYds/MzOzq6oIELLD5Pn/+fOAhj4GBgd7e3pcvXy4qKgoODgbKAlvw4eHhr169ioqKAi6qAYqEhYUBZS9cuAA8owa4xgYoAtQL6QCMJtTREBgNgdEQGA2B0RAYDYHREBgNgdEQGAkhQPObU4GD5QEBAZBzG4GHySCvX/f19TU1NT179iywpa6srKylpQUJceBC9vj4eOAQO/CwdjY2NqAgcO07cGEMsB0PXAoPNOTMmTNAvaMJdDQERkNgNARGQ2A0BEZDYDQERkNgNARGTgjQvOEuDQa4AlRCQgI43I4pCznnEdJqh8tqgwGQC2y4j6bR0RAYDYHREBgNgdEQGA2B0RAYDYHREBhRIcA0Gt+jITAaAqMhMBoCoyEwGgKjITAaAqMhMBoCgz8ERhvuo6l0NARGQ2A0BEZDYDQERkNgNARGQ2A0BIZACIw23EeT6WgIjIbAaAiMhsBoCIyGwGgIjIbAaAiMNtxH08BoCIyGwGgIjIbAaAiMhsBoCIyGwGgIjIYANUKAHjenUj2mgDenAq/4Gk0AmCEAvPdrNGSwJozRkMGVX0ZDZjRkSC1LR9PMaJoZTTPUaoGM5qbRKpuktAS63vX/EASjd7CN3k6HGQL4b30bTTOjaWboppnRm1PxVFPk3T44ekMznS+JHC2BR29OJakExpNggObQ+SLtwXan7Oga99GB+9EQGA2B0RAYDYHREBgNgdEQGA2B0RAYAiEw2nAfTaajITAaAqMhMBoCoyEwGgKjITAaAqMhMARCYLThPppMR0NgNARGQ2A0BEZDYDQERkNgNARGQ2C04T6aBkZDYDQERkNgNARGQ2A0BEZDYDQERkNgNASoEQKjI+6j6Wg0BEZDYDQERkNgNARGQ2A0BEZDYDQEhkAIjDbcR5PpaAiMhsBoCIyGwGgIjIbAaAiMhsBoCIw23EfTwGgIjIbAaAiMhsBoCIyGwGgIjIbAaAiMhgA1QmD0AqZhlY5Gr3LAFZ2jITMaMqRm9dE0M5pmRtMMtSrI0dw0mptISkujCQZPgmH4PwTB6FUOo5fpjF7AhBYCZF9IMZqbRi9GGc1No7kJHgKjV1PhKhCGfcgMtmuG8DRORy9gGp26GA2B0RAYDYHREBgNgdEQGA2B0RAYDYHREBjsITC6OZWBkXE0mY6GwGgIjIbAaAiMhsBoCIyGwGgIjIbAaMN9cIcApNU+2nYfzamjITAaAqMhMBoCoyEwGgKjITAaAoM8BEb6iPv//6AIgpCjiXU0BEZDYDQERkNgNARGQ2A0BEZDYDQEBm0IjC6VYRhttY/mz9EQGA2B0RAYDYHREBgNgdEQGA2BwR8Cow330VQ6GgKjITAaAqMhMBoCoyEwGgKjITAaAkMgBEYb7qPJdDQERkNgNARGQ2A0BEZDYDQERkNgNARGG+6jaWA0BEZDYDQERkNgNARGQ2A0BEZDYDQERkOAGiEwenPqsEpHo5eN4YrO0ZAZDRlSs/pomhlNM6NphloV5GhuGs1NJKWl0QSDJ8GM3pwKvZxreFzENXoL5uidsqO3YA6/WzAH1Y2GwOAdLWdGy5nRcma0nKHpbbt4ChmgvaM3pzKMgtEQGA2B0RAYDYHREBgNgdEQGA2B0RAYDYFBHgKjm1NHk+hoCIyGwGgIjIbAaAiMhsBoCIyGwGgIDIEQGG24jybT0RAYDYHREBgNgdEQGA2B0RAYDYHREBhtuI+mgdEQGA2B0RAYDYHREBgNgdEQGA2B0RAYDQFqhMDoiPtoOhoNgdEQGA2B0RAYDYHREBgNgdEQGA2BIRACow330WQ6GgKjITAaAqMhMBoCoyEwGgKjITAaAqMN99E0MBoCoyEwGgKjITAaAqMhMBoCoyEwGgKjIUCNEBi9gGlYpaPROwtwRedoyIyGDKlZfTTNjKaZ0TRDrQpyNDeN5iaS0tJogsGTYEYvYBq9gOn/oLrehUaOGb0yZvTKmKF7ZczoBUz/cQPyrmIZLWdwhehoyIzYkBlU5czoBUx4quzRNe6jMzejITAaAqMhMBoCoyEwGgKjITAaAqMhMARCYLThPppMR0NgNARGQ2A0BEZDYDQERkNgNARGQ2AIhMBow300mY6GwGgIjIbAaAiMhsBoCIyGwGgIjIbAaMN9NA2MhsBoCIyGwGgIjIbAaAiMhsBoCIyGwGgIUCMERkfcR9PRaAiMhsBoCIyGwGgIjIbAaAiMhsBoCAyBEBhtuI8m09EQGA2B0RAYDYHREBgNgdEQGA2B0RAYbbgPkTTAyDiaWEdDYDQERkNgNARGQ2A0BEZDYDQERkNgUIfA6Ig7A6TVrqAgP5pUR0NgNARGQ2A0BEZDYDQERkNgNARGQ2DQhsDozamgqAG22h88eDgMkunoZWO4InE0ZEZDhtQMPppmRtPMaJqhVrU4mptGcxNJaWk0weBJMKM3p47enDp6c+oDOl+VN3rXIxkBTl6gAS0iW+PguW139ObU0ZtTsYYALRLG6M2pozenkprYaJFmRm9OHb05lWEUjIbAaAiMhsBoCIyGwGgIjIbAaAiMhsCQDoHRNe6jCXg0BEZDYDQERkNgNARGQ2A0BEZDYDQEhkAIjDbcR5PpaAiMhsBoCIyGwGgIjIbAaAiMhsBoCIw23EfTwGgIjIbAaAiMhsBoCIyGwGgIjIbAaAiMhgA1QmB0xH00HY2GwGgIjIbAaAiMhsBoCIyGwGgIjIbAEAiB0Yb7aDIdDYHREBgNgdEQGA2B0RAYDYHREBgNgdGG+2gaGA2B0RAYDYHREBgNgdEQGA2B0RAYDYHREKBGCIxewDSs0tHonQW4onM0ZEZDhtSsPppmRtPMaJqhVgU5mptGcxNJaWk0weBJMKMXMI1ewDR6AdPoBUz/B8ONG2RfljTsr4wZvYBp9AKm0QuYMEOAzpeyjZYz9LyaavQCptELmEanZ0ZDYDQERkNgNARGQ2A0BEZDYDQERkNgaIfA6ObU0RQ8GgKjITAaAqMhMBoCoyEwGgKjITAaAkMgBEYb7qPJdDQERkNgNARGQ2A0BEZDYDQERkNgNARGG+6jaWA0BEZDYDQERkNgNARGQ2A0BEZDYDQERkOAGiEwOuI+mo5GQ2A0BEZDYDQERkNgNARGQ2A0BEZDYAiEwGjDfTSZjobAaAiMhsBoCIyGwGgIjIbAaAiMhsBow300DYyGwGgIjIbAaAiMhsBoCIyGwGgIjIbAaAhQIwRGL2AaVulo9M4CXNE5GjKjIUNqVh9NM6NpZjTNUKuCHM1No7mJpLQ0mmDwJJjRC5hGL2AavYBp9AKm0QuYsIQAnhtAhsfNL2T7YvCEzOilXaNXU41eTUWtq6kG1UVvoxcwjV7ANDo9MxoCoyEwGgKjITAaAqMhMBoCoyEwGgJDOwRGN6eC4o+RcTQdj4bAaAiMhsBoCIyGwGgIjIbAaAiMhsCgDoHRhjsDpNWuoCA/mlRHQ2A0BEZDYDQERkNgNARGQ2A0BEZDYNCGwGjDHbjKHxQ7Dx48HE2moyEwGgKjITAaAqMhMBoCoyEwGgKjITBoQ2C04Q6Kmv//R5PoaAiMhsBoCIyGwGgIjIbAaAiMhsBoCAzqEBhtuI8m0NEQGA2B0RAYDYHREBgNgdEQGA2B0RAYAiEw2nAfTaajITAaAqMhMBoCoyEwGgKjITAaAqMhMNpwH00DoyEwGgKjITAaAqMhMBoCoyEwGgKjITAaAtQIgdGbU4dVOhq9bAxXdI6GzGjIkJrVR9PMaJoZTTPUqiBHc9NobiIpLY0mGDwJZvTm1NGbU0dvTh29OXX05tTRm1NRQgD/HYqjN6fiudQQlxSdb9sdvVN29E5ZUu+UHb05lYzMS3ZGI1sjsPgdXePOMApGQ2A0BEZDYDQERkNgNARGQ2A0BEZDYPCHwGjDfTSVjobAaAiMhsBoCIyGwGgIjIbAaAiMhsAQCIHRhvtoMh0NgdEQGA2B0RAYDYHREBgNgdEQGA2B0Yb7aBoYDYHREBgNgdEQGA2B0RAYDYHREBgNgdEQoEYIjI64j6aj0RAYDYHREBgNgdEQGA2B0RAYDYHREBgCITDacB9NpqMhMBoCoyEwGgKjITAaAqMhMBoCoyEw2nAfTQOjITAaAqMhMBoCoyEwGgKjITAaAqMhMBoC1AiB0QuYhlU6Gr2zAFd0jobMaMiQmtVH08xomhlNM9SqIEdz02huIiktjSYYPAlm9AKm0QuYRi9gGr2AafQCptELmEYvYEKEANmXJY1eTYXrCpvRkBn8ITN6AdPoBUyjMyKjITAaAqMhMBoCoyEwGgKjITAaAqMhMBoCVAsBFjqE5ZUrVw4ePPj3718bGxsjIyP8Nu7bt+/q1atcXFweHh7S0tKjUT0aAqMhMBoCoyEwGgKjITAaAqMhMBoCoyEADAHaNtz//fvX1tbW1dXFy8vLxMRUWVmZmZkJ5ALZmKH/7t27hISE/fv3CwoK/vr1C6h4ypQpYWFho/E0GgKjITAaAqMhMBoCoyEwGgKjITAaAqMhQNvjIA8cOABsuEtJSQGb40C2jo4OsC2+Zs0arOHe0dGxa9eukJAQ4PD8hg0b/vz5k52d/fr1azpEEiPjaEoYDYHREBgNgdEQGA2B0RAYDYHREBgNgUEdAjRsuH/58qWiooKNjQ3YdldTU1NWVgaOtQPXwNTV1X348AEtVIDD7Rs3bmRnZ09OTlZUVASuqDE0NPz+/fu6detoHX6QVruCgvxoUh0NgdEQGA2B0RAYDYHREBgNgdEQGA2BQRsCNGy48/DwtLS0ABe9AJvvx44dO3nyZElJCbAtDmy4CwgIoIXIixcvvn79KikpCWziA6WAzX1PT08gefr0aVqH3f//IBsePHg4mkxHQ2A0BEZDYDQERkNgNARGQ2A0BEZDYNCGAG3XuLu4uERGRgLP43R1dQWua//27ZuPj09ERARmcLCysgJH6H///g3cwwqR/fjx448fP/5DmtU0Dj+gJQ9H2+2j2XQ0BEZDYDQERkNgNARGQ2A0BEZDYBCHAG3XuN+9exe4oh242bQWDIAD6nv27KHDIPpokhsNgdEQGA2B0RAYDYHREBgNgdEQGA2BYRYCNLw5FbhIBnik47lz5yZOnBgfHw8MuJ07dwIH4BUUFIBnPqKtlrl+/TpweJ6bm/vQoUMSEhJAxcAF8cDtqkFBQXPmzEEL9MbGRlzRADyXBjjAj1UWjxRQPZ010sgxeFLnaMiMphlSC6/RNDNI0sygKrvwp6LRNDNazoyWM2ghgD//Dp5ae7ScGRKtR1CC+U8zAFzrYm1tLSQktHnzZoglR48eFRUV1dXVffnyJXBVzPr16xctWgQUBMoCFaurqwOXxQMPlgFygUvhLS0tgTtZFy9ejOnA0TvYRm+nwwwB/Le+jaaZ0TQzdNPMoLrREBiMo7lpNDeNlsBoITAMbtsdvTkVV74ebCFDwzXufHx8kydPtrW1zcrKAp4ICVzjnpaWBlzIPmHCBDExMeCtTEAGsPkOZM+dOxfYvo+NjW1ubp4+fTpQBLhXFXgNE3BUHrgmnmEUjIbAaAiMhsBoCIyGwGgIjIbAaAiMhsCIDwHabk4FHuk4derUoqIi4JoZFhYW4LkxwNUvTk5OwGAHtuOBR7YDW/b5+fnA8XWgSGFh4bNnz4BD7CdOnABuSwU25efPn495/sxooh0NgdEQGA2B0RAYDYHREBgNgdEQGA2BERgCLLT2M3B1O7ClfunSJeAchIaGhoqKCsRGLS0t4MmPOTk5wKXwwGMfgYLAhTHAVn56evrjx4+BzXpzc3Ng2300UY6GwGgIjIbAaAiMhsBoCIyGwGgIjIbAaAgAQ4CFDqEgCwaYFgHH4IGCkFY7XFYPDEbjZjQERkNgNARGQ2A0BEZDYDQERkNgNARGQwA5BJhGg2M0BEZDYDQERkNgNARGQ2A0BEZDYDQERkNg8IfAaMN9NJWOhsBoCIyGwGgIjIbAaAiMhsBoCIyGwBAIgdGG+2gyHQ2B0RAYDYHREBgNgdEQGA2B0RAYDYEhEAI0vICJdr4HXsAEvClgNH1hhgDw+oDRkMGaMEZDBld+GQ2Z0ZAhtSwdTTOjaWY0zVCrBTKam0arbJLSEuiWqP9DEIxe/zF6/cfo9R/D7/oPoI/Iu8SERrdjDJ5yZvQCJjzV1GiaIePWGLJvCxoG1wyNljND5Zohquf6wRb15OUmYMU0ulSGYRSMhsBoCIyGwGgIjIbAaAiMhsBoCIyGwOAPgdGG+2gqHQ2B0RAYDYHREBgNgdEQGA2B0RAYDYEhEAKjDffRZDoaAqMhMBoCoyEwGgKjITAaAqMhMBoCow330TQwGgKjITAaAqMhMBoCoyEwGgKjITAaAqMhQI0QGB1xB4UiI+NoahoNgdEQGA2B0RAYDYHREBgNgdEQGA2BQR0Cow13BkirXUFBfjSpjobAaAiMhsBoCIyGwGgIjIbAaAiMhsCgDYHRhjvD//+g2Hnw4OFoMh0NgdEQGA2B0RAYDYHREBgNgdEQGA2BQRsCoxcwDavEOXqVA67oHA2Z0ZAhNauPppnRNDOaZqhVQY7mptHcRFJaGk0weBIMw/8hCEYvYMIVaaMhMxoyo1dTDb+rqUYvYBq9gAlrCNAiYQz768wG2y08oxe9YU3beIKF7BgcvYBpdBZlNARGQ2A0BEZDYDQERkNgNARGQ2A0BEZDgH4hMLrGfTS1jYbAaAiMhsBoCIyGwGgIjIbAaAiMhsAQCIHRhvtoMh0NgdEQGA2B0RAYDYHREBgNgdEQGA2B0Yb7aBoYDYHREBgNgdEQGA2B0RAYDYHREBgNgdEQoEYIjI64j6aj0RAYDYHREBgNgdEQGA2B0RAYDYHREBgCITDacB9NpqMhMBoCoyEwGgKjITAaAqMhMBoCoyEw2nAfTQOjITAaAqMhMBoCoyEwGgKjITAaAqMhMBoC1AiB0RH30XQ0GgKjITAaAqMhMBoCoyEwGgKjITAaAkMgBEZvTh1WyXT0sjFc0TkaMqMhQ2pWH00zo2lmNM1Qq4IczU2juYmktDSaYPAkmNGbU6GXduG5Lm70djpc1xaOhsxoyJB6oeNomiEjzYzenPofNyCv6B69H5SeZRfQrtFbvXEF+OjNqaM3p2KGAJ4CCphgRpfKMIyC0RAYDYHREBgNgdEQGA2B0RAYDYHREBj8ITDacB9NpaMhMBoCoyEwGgKjITAaAqMhMBoCoyEwBEJgtOE+mkxHQ2A0BEZDYDQERkNgNARGQ2A0BEZDYLThPpoGRkNgNARGQ2A0BEZDYDQERkNgNARGQ2A0BKgRAqMj7qBQZGQcTU2jITAaAqMhMBoCoyEwGgKjITAaAqMhMKhDYLThzgBptSsoyI8m1dEQGA2B0RAYDYHREBgNgdEQGA2B0RAYtCEw2nAHHogJip0HDx6OJtPREBgNgdEQGA2B0RAYDYHREBgNgdEQGLQhMHoB07BKnKN3FuCKztGQGQ0ZUrP6aJoZTTOjaYZaFeRobhrNTSSlpdEEgyfBjF7ABD35fvQCpkFyL8zoxSijF6MMhkudBtWVMaMXMI1ewERqpgCqH72airqV2rCvmwZVOYPnXiqy0/ZgyxTk5dDRC5hG54JGQ2A0BEZDYDQERkNgNARGQ2A0BEZDYGiEwOga99GUOhoCoyEwGgKjITAaAqMhMBoCoyEwGgJDIARGG+6jyXQ0BEZDYDQERkNgNARGQ2A0BEZDYDQERhvuo2lgNARGQ2A0BEZDYDQERkNgNARGQ2A0BEZDgBohMDriPpqORkNgNARGQ2A0BEZDYDQERkNgNARGQ2AIhMBow300mY6GwGgIjIbAaAiMhsBoCIyGwGgIjIbAaMN9NA2MhsBoCIyGwGgIjIbAaAiMhsBoCIyGwGgIUCMERkfcR9PRaAiMhsBoCIyGwGgIjIbAaAiMhsBoCAyBEBi9OXVYJdPRy8ZwRedoyIyGDKlZfTTNjKaZ0TRDrQpyNDeN5iaS0tJogsGTYEZvTh29OfX/oLovbfTm1NGbU0dvTkULgdGbU0dvTiU1U4zenDqaZgZJQUr2/aBUj8HRm1MZRsFoCIyGwGgIjIbAaAiMhsBoCIyGwGgIjIYA3UJgdI37aGIbDYHREBgNgdEQGA2B0RAYDYHREBgNgSEQAqMNd1AkMTKOJtbREBgNgdEQGA2B0RAYDYHREBgNgdEQGNQhMNpwZ4C02hUU5EeT6mgIjIbAaAiMhsBoCIyGwGgIjIbAaAgM2hAYbbgDt+eCYufBg4ejyXQ0BEZDYDQERkNgNARGQ2A0BEZDYDQEBm0IjDbcQVHz//9oEh0NgdEQGA2B0RAYDYHREBgNgdEQGA2BQR0Cow330QQ6GgKjITAaAqMhMBoCoyEwGgKjITAaAkMgBEYvYBpWyXT0zgJc0TkaMqMhQ2pWH00zo2lmNM1Qq4IczU2juYmktDSaYPAkmNELmEYvYBq9gOkBne88Iu9CitGrqegcTQ0NDWTYSItoGr2AafQyndELmDBDgLyCdPRqqiFR3+EpfsmOwcEW9WRfTTW6VGZ0Ymg0BEZDYDQERkNgNARGQ2A0BEZDYDQEhkAIjDbcR5PpaAiMhsBoCIyGwGgIjIbAaAiMhsBoCAyBEBhtuI8m09EQGA2B0RAYDYHREBgNgdEQGA2B0RAYbbiPpoHREBgNgdEQGA2B0RAYDYHREBgNgdEQGA0BaoTA6Ij7aDoaDYHREBgNgdEQGA2B0RAYDYHREBgNgSEQAqMN99FkOhoCoyEwGgKjITAaAqMhMBoCoyEwGgKjDffRNDAaAqMhMBoCoyEwGgKjITAaAqMhMBoCoyFAjRAYvYBpWKWj0TsLcEXnaMiMhgypWX00zYymmdE0Q60KcjQ3jeYmktLSaILBk2BGL2CC3kUwepXD8L5rZvBcpjN6/cfoZTqkXqYzegHTaJoZvYAJMwRGa23q1tqDqpwZvYAJV+QCQ2Z0jfvozM1oCIyGwGgIjIbAaAiMhsBoCIyGwGgIDIEQGG24QyNJQUF+NMGOhsBoCIyGwGgIjIbAaAiMhsBoCIyGwKANgdGGOyhqGBkR5GhiHQ2B0RAYDYHREBgNgdEQGA2B0RAYDYFBGAKjDXdQpPz/jyBHk+loCIyGwGgIjIbAaAiMhsBoCIyGwGgIjDbcB28aePDg4WgCHQ2B0RAYDYHREBgNgdEQGA2B0RAYDYFBGwKjI+6jiXM0BEZDYDQERkNgNARGQ2A0BEZDYDQEhkAIjDbcR5PpaAiMhsBoCIyGwGgIjIbAaAiMhsBoCIw23EfTwGgIjIbAaAiMhsBoCIyGwGgIjIbAaAiMhgA1QmD05tRhlY5GLxvDFZ2jITMaMqRm9dE0M5pmRtMMtSrI0dw0mptISkujCQZPghm9OXX05tT/g+q+NBo5ZvTmVDzXsA2SS3NH75QlIyLIDjRKNI7mptHcRNI9pkDFo2lm8KeZ0ZtTh0QJPHpz6ui0zWgIjIbAaAiMhsBoCIyGwGgIjIbAaAgMjRAY3Zw6mlJHQ2A0BEZDYDQERkNgNARGQ2A0BEZDYAiEwGjDfTSZjobAaAiMhsBoCIyGwGgIjIbAaAiMhsBow300DYyGwGgIjIbAaAiMhsBoCIyGwGgIjIbAaAhQIwRGR9xH09FoCIyGwGgIjIbAaAiMhsBoCIyGwGgIDIEQGG24jybT0RAYDYHREBgNgdEQGA2B0RAYDYHREBgCITDacB9NpqMhMBoCoyEwGgKjITAaAqMhMBoCoyEwBEJg9AImaCQpKMg/ePBwqKfZ0TsLcMXgaMiMhgypuXs0zYymmdE0Q606cTQ3jeYmktLSaILBk2BGL2ACnbjPwPAfgrAev0+LWwlGrxmi800Ho9d/jF4ZM3SvjBlUF6OMXqbzHzcYLWdGy5nRcgYtBPAUX3ik8GQloPnkmUm2xsF2NdXoUhlQr+b/fwTJMApGQ2A0BEZDYDQERkNgNARGQ2A0BEZDYPCFAAt9nLR///7z58/b2NiYmZnht3Hfvn1Xr17l4uLy8PCQlpamW4iB18nIjybR0RAYDYHREBgNgdEQGA2B0RAYDYHREBicIUDzEfcfP34EBwd7enpOnz49MDCwo6MDV0C8e/fOz8/P39+/u7u7urra0NBw1apVo+lmNARGQ2A0BEZDYDQERkNgNARGQ2A0BEZDABgCtG24f/r0ydbWdvPmzc3NzQcOHOjt7Z02bVpUVNSvX78wQx/Ypt+1a1dISMjBgwc3bNjw58+f7Ozs169fj8bTaAiMhsBoCIyGwGgIjIbAaAiMhsBoCIyGAA0b7v/+/Zs5c+a1a9csLCwiIyO5ubmBjXgpKalnz57du3cPLeiBw+0bN25kZ2dPTk5WVFQ0MjICjrh///593bp1o5E0GgKjITAaAqMhMBoCoyEwGgKjITAaAqMhQNs17kePHmVhYWFjYwsNDX3x4oWuru7cuXNFRETExcXRgh4o+/XrV0lJSTU1NaAUUAtwdQ1wWfzp06fT09NH42k0BEZDYDQERkNgNARGQ2A0BEZDYDQERngI0HDE/du3b48ePQKOmt+5c8fJyQm4eB24WsbNzQ1riLOysn758uX9+/d///6FKPj48SNwffx/yIEvo+l0NARGQ2A0BEZDYDQERkNgNARGQ2A0BEZ2CNBwxJ2JienVq1fAlnd7eztwqQwwnOXl5Wtra5OSkoCr3oGyo2lvNARGQ2A0BEZDYDQERkNgNARGQ2A0BEZDgMgQoOHNqcARdODqduCg+/Lly729vYEOunTpkru7Ow8PD3DoHe2ox+vXr7u4uADXwR86dEhCQgKouKurC7hdNSgoaM6cOWieaWxsxOW9hIQE4IVbWGXxSAHV01kjjRyDJ9ZHQ2Y0zZBaLI6mmUGSZgZV2YU/FY2mmdFyZrScQQsB/Pl38NTao+XMkGg9ghLMf5oB4CIZe3t7QUHBtWvXQiwBtteFhISAu04/f/78+/fv9evXL1q0CLgOHigLXBijrq4ObNMDD5YBcoF6LS0tgae5L168GNOBo7fTjd5ON3Rvpxtsl7eN5qbBn5tGb07FU02Rd4fi6N3VuIJ0NGRGbMgMtvtBqZ7rB1vlS/adsjRcKsPBwdHf3w88SaagoEBBQQG4NgZ4vCOwRd7T0wNsoF+5cmXChAnA5ruYmBhwxyqwQR8bGws8NRJ43DtQBLhXFXgNk4CAgI+PD8MoGA2B0RAYDYHREBgNgdEQGA2B0RAYDYERHwK0PVUGOLg+derUoqIi4DWowONlgOfGAFe/ADeqAoMd2I4HHtk+efLk/Px8YGseKFJYWAg8KRI4xH7ixAngtlRgU37+/PnAtvtoKh0NgdEQGA2B0RAYDYHREBgNgdEQGA2B0RBgoXUQxMfHA1vqwNXtwEkKDQ0NFRUViI1aWlrAkx9zcnKAlzEBD38ECgIXxgBb+cDDHx8/fgxs1pubmwPb7nSLIQUF+dEDbEbzw2gIjIbAaAiMhsBoCIyGwGgIjIbAoA0BFjq4TBYMMC0CjsEDBSGtdrisHhjQObwYGUEWAsnRtvtoXh0NgdEQGA2B0RAYDYHREBgNgdEQGJwhwDQaMcAQgLTXR1vto4lhNARGQ2A0BEZDYDQERkNgNARGQ2DQhsBowx0aNQ8ePBxNpqMhMBoCoyEwGgKjITAaAqMhMBoCoyEw2nAfTQOjITAaAqMhMBoCoyEwGgKjITAaAqMhMBoC5IcADS9gol20AC9gAt4UMBrtmCEAvD5gNGSwJozRkMGVX0ZDZjRkSC1LR9PMaJoZTTPUaoGM5qbRKpuktAS6Jer/EASjV8YM/itjBttNB6NpZjTNYIYA/gtHBk+aGb2AafQCJqwhQIuEMXoB0+gFTKQmNlqkGTzFL9mti8HWLCH7AqbRNe6jA/ejITAaAqMhMBoCoyEwGgKjITAaAqMhMARCYLThPppMR0NgNARGQ2A0BEZDYDQERkNgNARGQ2C04T6aBkZDYDQERkNgNARGQ2A0BEZDYDQERkNgNASoEQKjI+6j6Wg0BEZDYDQERkNgNARGQ2A0BEZDYDQEhkAIjDbcR5PpaAiMhsBoCIyGwGgIjIbAaAiMhsBoCIw23EfTwGgIjIbAaAiMhsBoCIyGwGgIjIbAaAiMhgA1QmB0xH00HY2GwGgIjIbAaAiMhsBoCIyGwGgIjIbAEAiB0QuYoJGkoCD/4MHDoZ5mR69ywBWDoyEzGjKk5u7RNDOaZkbTDLXqxNHcNJqbSEpLowkGT4Jh+D96AdP//wwMUDR6yQVJl9SMXv9Bz6s6Ri9GGb0YZTBcjAJ0w+h1ZriS4mjIjIYMSXXooMpNg+qit9ELmPBkpdGlMqBeDajpDmy8/2cYBaMhMBoCoyEwGgKjITAaAqMhMBoCoyEwOENgtOEOjZdhsE5mNI+NhsBoCIyGwGgIjIbAaAiMhsBoCAzjEBhtuI8m79EQGA2B0RAYDYHREBgNgdEQGA2B0RAYAiEw2nAfTaajITAaAqMhMBoCoyEwGgKjITAaAqMhMNpwH00DoyEwGgKjITAaAqMhMBoCoyEwGgKjITAaAtQIgdER99F0NBoCoyEwGgKjITAaAqMhMBoCoyEwGgJDIARGG+6jyXQ0BEZDYDQERkNgNARGQ2A0BEZDYDQERhvuo2lgNARGQ2A0BEZDYDQERkNgNARGQ2A0BEZDgBohMHpz6rBKR6OXjeGKztGQGQ0ZUrP6aJoZTTOjaYZaFeRobhrNTSSlpdEEgyfBjN6cCr2dCs+dYaP3g9LzxsrR+0FH7P2gQI+Tlw2HfZoZVDcajt6c+h83GL05dfTm1NGbU9FCgLxSffTmVDxZaXSN++jMzWgIjIbAaAiMhsBoCIyGwGgIjIbAaAgMgRAYbbhDI0lBQX40wY6GwGgIjIbAaAiMhsBoCIyGwGgIjIbAoA2B0YY7KGoYGRHkaGIdDYHREBgNgdEQGA2B0RAYDYHREBgNgUEYAqMNd1Ck/P+PIEeT6WgIjIbAaAiMhsBoCIyGwGgIjIbAaAiMNtwHbxp48ODhaAIdDYHREBgNgdEQGA2B0RAYDYHREBgNgUEbAqMj7qOJczQERkNgNARGQ2A0BEZDYDQERkNgNASGQAiMNtxHk+loCIyGwGgIjIbAaAiMhsBoCIyGwGgIDIEQGL2AaVgl09E7C3BF52jIjIYMqVl9NM2MppnRNEOtCnI0N43mJpLS0miCwZNgRi9gGr2A6f+gut5l9AKm0QuYsIYAna9IG1TXDI1ewITnzqPRS7vIKDFGcm4CBtdomiG1jCU70MjWOHoB0+gFTKOzP6MhMBoCoyEwGgKjITAaAqMhMBoCoyEwtENgdI37aAoeDYHREBgNgdEQGA2B0RAYDYHREBgNgSEQAqMN99FkOhoCoyEwGgKjITAaAqMhMBoCoyEwGgKjDffRNDAaAqMhMBoCoyEwGgKjITAaAqMhMBoCoyFAjRAYHXGHhqKCgvxoihoNgdEQGA2B0RAYDYHREBgNgdEQGA2BQRsCow13UNQwMiLI0cQ6GgKjITAaAqMhMBoCoyEwGgKjITAaAoMwBEYb7qBI+f8fQY4m09EQGA2B0RAYDYHREBgNgdEQGA2B0RAYbbgP3jTw4MHD0QQ6GgKjITAaAqMhMBoCoyEwGgKjITAaAoM2BEZvTh1WiXP0sjFc0TkaMqMhQ2pWH00zo2lmNM1Qq4IczU2juYmktDSaYPAkmNGbU0dvTh29OfUBnS8rHb23b/SuR8wQoP9llmTbiOdSw6Hii9Ebmulc6I2mGTwXYVK3PBxsV8OSVyaM3pw6enPq6JzPaAiMhsBoCIyGwGgIjIbAaAiMhsBoCAztEBjdnDqagkdDYDQERkNgNARGQ2A0BEZDYDQERkNgCITAaMN9NJmOhsBoCIyGwGgIjIbAaAiMhsBoCIyGwGjDfTQNjIbAaAiMhsBoCIyGwGgIjIbAaAiMhsBoCFAjBEZH3EfT0WgIjIbAaAiMhsBoCIyGwGgIjIbAaAgMgRAYbbiPJtPREBgNgdEQGA2B0RAYDYHREBgNgdEQGG24D500oKAgP5pgR0NgNARGQ2A0BEZDYDQERkNgNARGQ2DQhsDoBUygqIG32of6/amjdxbgymmjITMaMqSWwqNpZjTNjKYZarVdRnPTaG4iKS2NJhg8CWb0AiboIfcMuEOCFld1jF7/MXr9B9YQoP/9NaMXo4xejELSbVBAxaNpZvCnmcF2C89omhktZ0gqZ0YvYMKTYEbXuEN7NUN9rH10Vms0BEZDYDQERkNgNARGQ2A0BEZDYHiHwGjDfTSFj4bAaAiMhsBoCIyGwGgIjIbAaAiMhsAQCIHRhvtoMh0NgdEQGA2B0RAYDYHREBgNgdEQGA2B0Yb7aBoYDYHREBgNgdEQGA2B0RAYDYHREBgNgdEQoEYIjI64j6aj0RAYDYHREBgNgdEQGA2B0RAYDYHREBgCITDacB9NpqMhMBoCoyEwGgKjITAaAqMhMBoCoyEw2nAfTQOjITAaAqMhMBoCoyEwGgKjITAaAqMhMBoC1AiB0QuYEKEIvIZp9AKm4ZqtRm9zwBWzoyEzGjKk5vrRNDOaZkbTDLXqytHchDUkR4MFTyEzegET9JB74AVMEETqXSTk3ZgzegHT6AVMoxcwkZTXRvLVVDQqLsgO0tHLdEYvYBq9tAstBIZBbhpU5czoBUyjFzAR7htDxtr//x+dyBkNgdEQGA2B0RAYDYHREBgNgdEQGA2BwRgCo5tTEbEy2mofzaOjITAaAqMhMBoCoyEwGgKjITAaAoM2BEYb7qOJczQERkNgNARGQ2A0BEZDYDQERkNgNASGQAiMNtxHk+loCIyGwGgIjIbAaAiMhsBoCIyGwGgIjDbcR9PAaAiMhsBoCIyGwGgIjIbAaAiMhsBoCIyGADVCYHTEfTQdjYbAaAiMhsBoCIyGwGgIjIbAaAiMhsAQCIHRhvtoMh0NgdEQGA2B0RAYDYHREBgNgdEQGA2B0Yb7aBoYDYHREBgNgdEQGA2B0RAYDYHREBgNgdEQoEYIjN6cOqzS0ehlY7iiczRkRkOG1Kw+mmZG08xomqFWBTmam0ZzE0lpaTTB4EkwozenQm+nAt4ZxoAjMGhxndjozamjN6eO3pw6enMqcgjQ/2rY0ZtTySiF8Bfdo3fK4rnukeqhTecsM+xr7dGbU+ncLCEvAQMLmdE17tBejYKCPJDFyDg6kTMaAqMhMBoCoyEwGgKjITAaAqMhMBoCgzEERhvu0Fh58OAhA2jIfTSZjobAaAiMhsBoCIyGwGgIjIbAaAiMhsBow31wp4H//0fT6GgIjIbAaAiMhsBoCIyGwGgIjIbAaAgM0hAYHXEfTZqjITAaAqMhMBoCoyEwGgKjITAaAqMhMARCYLThPppMR0NgNARGQ2A0BEZDYDQERkNgNARGQ2C04T6aBkZDYDQERkNgNARGQ2A0BEZDYDQERkNgNASoEQKjI+6j6Wg0BEZDYDQERkNgNARGQ2A0BEZDYDQEhkAIjF7ANKyS6eidBbiiczRkRkOG1Kw+mmZG08xomqFWBTmam0ZzE0lpaTTB4EkwoxcwjV7A9H9QXbswejXV6NVUo1dToYXAoMqhQLeNXjM0es0QZgiMXk1FXtE9eHLT6AVMoxcwMQwtMHoBE8MoGA2B0RAYDYHREBgNgdEQGA2B0RAYxCHAQje3/fjx4+3bt8LCwhwcHHgs3bdv39WrV7m4uDw8PKSlpenmPOAFTMC2++hR7qO5dTQERkNgNARGQ2A0BEZDYDQERkNgcIYA/Rru0dHRr1692rlzJ66AePfuXUJCwv79+wUFBX/9+lVZWTllypSwsDC6Bdxoq300l46GwGgIjIbAaAiMhsBoCIyGwGgIDNoQoNOpMqmpqRs3bvzy5QuegOjo6Ni1a1dISMjBgwc3bNjw58+f7Ozs169fj6ae0RAYDYHREBgNgdEQGA2B0RAYDYHREBgNAXo03IGt8Pnz53Nzc+MJbuBwO7Blz87OnpycrKioaGRkZGho+P3793Xr1o1G0mgIjIbAaAiMhsBoCIyGwGgIjIbAaAiMhgDNG+4PHz6MioqKiIgAjqD/x70Y5cWLF1+/fpWUlFRTUwPGChsbm6enJ5A8ffr0aCSNhsBoCIyGwGgIjIbAaAiMhsBoCIyGwGgI0LbhDlwb4+joaG1tHRoaij+sWVlZgYrfv3//9+9fiMqPHz8C97P+H114PppIR0NgNARGQ2A0BEZDYDQERkNgNARGQ4CBgYYN93///sXExACb41OnTgW2yIFNcOCgO3BkHbgqBsgYDfzREBgNgdEQGA2B0RAYDYHREBgNgdEQGA0B4kOAhjenzp07F3gyDHDZOgsLy7dv34DbTIHD6hISErq6umVlZXZ2dsiuvH79uouLC3Ad/KFDh4BqgFJdXV3A7apBQUFz5sxB809jYyMuHwLPpQFeuIVVFo8UUD1QFngcZEMDFpMJaiTDRlqYiT/WKQkZsoN0NGRITYr0jyY8yWY0zdCinBk8mYLs+B1NM2Q0MkZz0yDJTZDqfrRuwowOGjVLhkE5M+hC5j9twM+fP48dO7Z169ZZYJCVlQVcsC4rKws84REoCDwX8vfv3+vXr1+0aNHRo0eBTgAujFFXV+fh4QEeLAPkArelWlpaAk9zX7x4MaYDaXHTGAPDfwgi9UI4PJeNkScFdADZGkdvNBy90XD0RkO0EBgGuWn05lQ81dRoCYwrcEZDZjRkSKoORm9OJSPBUNJgIy+HApt5tDrHHdhMB7a8IV26T58+AZvpTExMnJycwC2nSkpKQPErV65MmDABKC4mJgYcmxcSEoqNjW1ubp4+fTpQBLiiBngNk4CAgI+PDwNdwOgFTAyjYDQERkNgNARGQ2A0BEZDYDQERkNgEIcAPY6DBF66BBx2By55f/bs2aRJkyChAWzHA49sf/PmTWRkJHB8HShYWFgIPAtyz549wMY9UBDYlF+6dCmw7U630BvdBzuaVUdDYDQERkNgNARGQ2A0BEZDYDQEBm0I0OPmVFdXV+AyGOBiGEZGRnl5eUhYaGlpAU9+zMnJAV6SChyeBwoCF8YAt7Gmp6c/fvwY2Kw3NzcHtt1Hk85oCIyGwGgIjIbAaAiMhsBoCIyGwGgIjIYAMATo0XAXAAPM4AZuWgUKQlrtcFk9MBiNm9EQGA2B0RAYDYHREBgNgdEQGA2B0RAYDQHkEGAaDY7REBgNgdEQGA2B0RAYDYHREBgNgdEQGA2BwR8Cow330VQ6GgKjITAaAqMhMBoCoyEwGgKjITAaAkMgBEYb7ohIYmQcTbKjITAaAqMhMBoCoyEwGgKjITAaAqMhMEhDgIYXMNHOx8ALmIDn4VPXfODtSxADgedCDt3UCrxUguohMzzy7mjI4IrH0ZAZDRlS8/homhlNM6Nphlo142huwhqSo8GCp5Bh+D8EAY2uGWLAERi0uJWARjcdjF7AhCs5j4bMaMgM3aupRi9gGr2ACWsIjNZN9LwxZ9jX2qMXMA2VC5hGl8ogejWj57gzjILREBgNgdEQGA2B0RAYDYHREBgNgcEaAqMN99G0ORoCoyEwGgKjITAaAqMhMBoCoyEwGgJDIARGG+6jyXQ0BEZDYDQERkNgNARGQ2A0BEZDYDQERhvuo2lgNARGQ2A0BEZDYDQERkNgNARGQ2A0BEZDgBohMDriPpqORkNgNARGQ2A0BEZDYDQERkNgNARGQ2AIhMBowx0RSaPnuI9m2dEQGA2B0RAYDYHREBgNgdEQGA2BQRsCow13aNRAznEfbbuP5tXREBgNgdEQGA2B0RAYDYHREBgNgcEZAqMXMCHiBdh2H9K3LwF9MnpnAa5sNhoyoyFDahE8mmZG08xomqFWw2U0N43mJpLS0miCwZNgRi9ggp64j+fqgdFLLkYvuSD19pPRNDOaZqiYZkYvYBq9gGn0AiaSLlAbLYHJKIFHL2AavYBpdI5lNARGQ2A0BEZDYDQERkNgNARGQ2A0BEZDgGohMLrGfTQxjYbAaAiMhsBoCIyGwGgIjIbAaAiMhsAQCIHRhvtoMh0NgdEQGA2B0RAYDYHREBgNgdEQGA2B0Yb7aBoYDYHREBgNgdEQGA2B0RAYDYHREBgNgdEQoEYIjI64o4Ti6HGQo9lqNARGQ2A0BEZDYDQERkNgNARGQ2BwhsBowx0RL5BW+2jbfTSvjobAaAiMhsBoCIyGwGgIjIbAaAgMwhAYbbgjIuX/fxAbQo4m1tEQGA2B0RAYDYHREBgNgdEQGA2B0RAYVCEw2nBHiY7RVvto/hwNgdEQGA2B0RAYDYHREBgNgdEQGJwhMHpz6rBKmaOXjeGKztGQGQ0ZUrP6aJoZTTOjaYZaFeRobhrNTSSlpdEEgyfBjN6cOnpz6v9BdV8ajRzT0NAw1G+SGw0ZOl9rN3jSzOjNqaM3p47enDp6cypyCAyhq2HJu5YeT/ELDIfhcdU92SEzulQGpVczujOVYRSMhsBoCIyGwGgIjIbAaAiMhsBoCAzKEBhtuCOiZfRUmdFMOhoCoyEwGgKjITAaAqMhMBoCoyEwaENgtOGOiJrRU2VGM+poCIyGwGgIjIbAaAiMhsBoCIyGwGjDfWikgdFTZUbz6mgIjIbAaAiMhsBoCIyGwGgIjIbA4AyB0RH30ZQ5GgKjITAaAqMhMBoCoyEwGgKjITAaAkMgBEYb7qPJdDQERkNgNARGQ2A0BEZDYDQERkNgNARGG+6jaWA0BEZDYDQERkNgNARGQ2A0BEZDYDQERkOAGiEwegETSigqKMg/ePBw6Cat0TsLcMXdaMiMhgyp+Xo0zYymmdE0Q63acDQ3jeYmktLSaILBk2BGL2BCXMDEwPAfgtAuehhCNx2MXjOE66KW0ZAZDRmSLnABKh69gGk0zQzdNEP2JTWjF73hSvbDPmQG1UVvoxcw4Sl+R9e4I3o1o8dBjs5ijYbAaAiMhsBoCIyGwGgIjIbAaAgM2hAYbbijRM3ocZCjeXU0BEZDYDQERkNgNARGQ2A0BEZDYHCGwGjDfTRljobAaAiMhsBoCIyGwGgIjIbAaAiMhsAQCIHRhvtoMh0NgdEQGA2B0RAYDYHREBgNgdEQGA2B0Yb7UEsDjIyjqXY0BEZDYDQERkNgNARGQ2A0BEZDYDQEBmMIjI64I2IF0mofbbuP5tTREBgNgdEQGA2B0RAYDYHREBgNgUEYAqMNd0SkjJ4qM5pFR0NgNARGQ2A0BEZDYDQERkNgNAQGbQiMXsA0rBLn6J0FuKJzNGRGQ4bUrD6aZkbTzGiaoVYFOZqbRnMTSWlpNMHgSTCjFzAhLmCi57ULo5dcjNhLLkYvRvmPG+DJF+RJkR3aoxcw4Ymm0evMRq+mGr2aCi0EyC6gRi96w5qbRi9gwlPIjC6VGZ0OGg2B0RAYDYHREBgNgdEQGA2B0RAYDYEhEAKjDXeUSBrdmTqaa0dDYDQERkNgNARGQ2A0BEZDYDQEBmcIjDbcEfEyeqrMaC4dDYHREBgNgdEQGA2B0RAYDYHREBi0ITDacEdEzeipMqMZdTQERkNgNARGQ2A0BEZDYDQERkNgtOE+NNIApO0+ml5HQ2A0BEZDYDQERkNgNARGQ2A0BEZDYLCFwOiI+2iaHA2B0RAYDYHREBgNgdEQGA2B0RAYDYEhEAKjDffRZDoaAqMhMBoCoyEwGgKjITAaAqMhMBoCQyAERhvuKJE0eqrMaK4dDYHREBgNgdEQGA2B0RAYDYHREBicITB6cyoiXhQU5CGcBw8eDtH0OnrZGK6IGw2Z0ZAhNVOPppnRNDOaZqhVFY7mptHcRFJaGk0weBLM6M2p0NupINeeMWALD1rccjp6c+rozalYQ2Ak3w86eqcsnTPFMLjrcTTN/McNRu8hJiNDjd7QTN1AIzuHjt6cOnpzKrE9vdFTZRhGwWgIjIbAaAiMhsBoCIyGwGgIjIbAoAyB0TXuowlzNARGQ2A0BEZDYDQERkNgNARGQ2A0BIZACIw23NEjaXR/6mjGHQ2B0RAYDYHREBgNgdEQGA2B0RAYhCEw2nBHiRRIq3207T6aV0dDYDQERkNgNARGQ2A0BEZDYDQEBlsIjDbcUWIEssZ9dKX7aEYdDYHREBgNgdEQGA2B0RAYDYHREBhsITDacEePkdFW+2guHQ2B0RAYDYHREBgNgdEQGA2B0RAYhCEw2nAfTZajITAaAqMhMBoCoyEwGgKjITAaAqMhMARCYPQCJvRIAl7DNHoB0/DLu6O3OeCK09GQGQ0ZUvP7aJoZTTOjaYZateRobsIakqPBgqeQGb2ACf0CJuAdTGjXMI1ewETPe2FGr6ai8y08eO65oP9dJKNXxmCNfRplitELmKh+18xobsJza8wgudln9NKuIXHR2+gFTHiy0uhSGZRezejmVIZRMBoCoyEwGgKjITAaAqMhMBoCoyEwKENgtOGOHi2jm1NHs+poCIyGwGgIjIbAaAiMhsBoCIyGwCAMgdGGO3qkjB7iPppRR0NgNARGQ2A0BEZDYDQERkNgNARGG+6DPQ2MXsA0mktHQ2A0BEZDYDQERkNgNARGQ2A0BAZnCIyOuKPEy+ga99GMOhoCoyEwGgKjITAaAqMhMBoCoyEwOENgtOGOHi+ja9xH8+poCIyGwGgIjIbAaAiMhsBoCIyGwCAMgdGG+2iyHA2B0RAYDYHREBgNgdEQGA2B0RAYDYEhEAKjDXf0SBrdnDqacUdDYDQERkNgNARGQ2A0BEZDYDQEBmEIjN6cihIpwGtTIfwhennq6GVjuPLYaMiMhgyp5e9omhlNM6NphlqtltHcNJqbSEpLowkGT4IZvTkV5ebU/6AV7uj3VY3enDp6cyqp91mOppnRNEPFNDN6c+p/3GD0tl0y8hr9L0UevVMWz0WY1I1BoGmDKlOQ55jRm1NHb04dne0ZDYHREBgNgdEQGA2B0RAYDYHREBgNgaEdAqNr3FHib/Qc99EMPRoCoyEwGgKjITAaAqMhMBoCoyEwOENgtOGOEi+j57iPZtTREBgNgdEQGA2B0RAYDYHREBgNgdGG+9BIA6PnuI/m1dEQGA2B0RAYDYHREBgNgdEQGA2BQRgCoyPu6JEyehzkaEYdDYHREBgNgdEQGA2B0RAYDYHREBhtuA/2NDC6xn00l46GwGgIjIbAaAiMhsBoCIyGwGgIDM4QGB1xR4mX0TXuoxl1NARGQ2A0BEZDYDQERkNgNARGQ2BwhsDoBUzDKmWO3lmAKzpHQ2Y0ZEjN6qNpZjTNjKYZalWQo7lpNDeRlJZGEwyeBDN6AdPoBUz/B9X1LjRyzOj1H4P/+o/Bdm/I4EkzoxcwjV7AROp9XqO5aTTNUPEOOLKTE9kaRy9gwlNls9BhwPnKlSunTp369euXmZmZkZERfhv37dt39epVLi4uDw8PaWlpOo+Hw9e4j54tMzpHNhoCoyEwGgKjITAaAqMhMBoCoyEwqEKA5g33GTNmNDc3CwgIfPr06f3795mZmZ2dnUxMWNbWv3v3LiEhYf/+/YKCgsBWfmVl5ZQpU8LCwugZXsD2OrDtPtpqH82loyEwGgKjITAaAqMhMBoCoyEwGgKDLQRouDn1z58/eXl5wFZ7fX39tm3bDhw4oK2tDWyLr1mzBmsodHR07Nq1KyQk5ODBgxs2bABqz87Ofv36NZ2DDNJ2H02poyEwGgKjITAaAqMhMBoCoyEwGgKjITCoQoCGDfenT5/eu3dPVlbW2tpaXl5eWVkZONbOyckJbMd/+PABLRSAw+0bN25kZ2dPTk5WVFQErqgxNDT8/v37unXr6BxeoydCjmbR0RAYDYHREBgNgdEQGA2B0RAYDYFBGAI0bLgDG+vAfcHr16/X1NQE+vzNmzelpaXAtnhtbS1w5QxaWLx48eLr16+SkpJqampAKTY2Nk9PTyB5+vRpOofa6ImQoxl1NARGQ2A0BEZDYDQERkNgNARGQ2AQhgBt17iLiIgA/XzmzJlFixZt3boV2DoHrn6JiIjADAhWVtYvX778/v3779+/ENmPHz/++PHj/+h689F8MxoCoyEwGgKjITAaAqMhMBoCoyEwGgIMDLRtuP/796+qqmrZsmUyMjLAxevAvaeQ0ffBHPKjB8uM5ovREBgNgdEQGA2B0RAYDYHREBgNgUEYArS9gGnz5s25ubn9/f3u7u7AEx6B/v8FBjw8PGhhcf36dRcXF25u7kOHDklISABlu7q6gNtVg4KC5syZg6a4sbERV1AC+wbA9TlYZfFIAdUjyzY01Dc0IKwgXiOavVRxDPFm4k9e9HcMeTbSIrRHQwZXphgNmSERMjTKFGSXCXiSzWg5Q9O6iaTqYLQEpm5cDPu6abScobz1SIccCrLiP83A58+fgW1xU1NTCwuLvXv3Ape+AI+DBJ4b4+fnB1y5DlwVA1z+DlxCc/ToUaATgLLq6urABj1QAZALXApvaWkJbOsvXrwY04G0vhiFAfVaKlrcfjJ6zRCudDcaMqMhgzUE8CSMYZ9mRi9gwlNNkZcwRsuZ0XJmtJxBC4FBVc6MXsA0MBcwAQ9rf/LkCXDLKbAV7ubmpqenBzxMBtiaBx4vY2BgcOPGjQkTJgCb72JiYnPnzhUSEoqNjQWeHTl9+nSgCHA1PPAaJuAeVh8fHwb6gtGlMgyjYDQERkNgNARGQ2A0BEZDYDQERkNg8IUADde4A49gd3JysrGxcXBwiIyMBDbEgdtPhYWFV65cycLCAmzWA1e9T548OT8/H9iyB4ZMYWHhs2fPgEPsJ06cAG5LBTbl58+fj3n+DK3DcPQOptF8OhoCoyEwGgKjITAaAqMhMBoCoyHAMKIa7sDjIIHtcqCXgW30ffv2Aa9EBR7TDjzWHSgOFNTS0gKe/JiTkwNc9A489hEoAlwYM3Xq1PT09MePHwO1mJubA9vuo4lmNARGQ2A0BEZDYDQERkNgNARGQ2A0BEZDgIHWp8oA29+QUAYynJ2d0UIcOO4OFIG02uFSemAwgHEzulRmNGOMhsBoCIyGwGgIjIbAaAiMhsBoCAzCEGAajRW0EBi9gGk0SYyGwGgIjIbAaAiMhsBoCIyGwGgIDMIQGG24jybL0RAYDYHREBgNgdEQGA2B0RAYDYHREBgCITDacEePJPhSmdH0OxoCoyEwGgKjITAaAqMhMBoCoyEwGgKDJwRGG+7ocTG6VGY0f46GwGgIjIbAaAiMhsBoCIyGwGgIDMIQoO3NqTTyMPDmVOAVXzQyXEFBHmLygwcPh1ySBd77RbuQGdIZeDRkcEXfaMiMhgypWXs0zYymmdE0Q60KcTQ3YQ3J0WDBU8gw/B+CYPTmVDxXapFxH96gui9t9EbD0RsNR280HMw3GgLdRusSmA7eHy1nRsuZ0XJmMJczozen4mnmjS6VwdKrgdzBxDAKRkNgNARGQ2A0BEZDYDQERkNgNARGQ2DQhMBowx1LVIzuTx3NoaMhMBoCoyEwGgKjITAaAqMhMBoCgy0ERhvuWGJkdH/qaEYdDYHREBgNgdEQGA2B0RAYDYHREBhtuA+BNDA64j6aUUdDYDQERkNgNARGQ2A0BEZDYDQERhvuQyANjI64j2bU0RAYDYHREBgNgdEQGA2B0RAYDYHBFgKjS2WwxMjoiPtoRh0NgdEQGA2B0RAYDYHREBgNgdEQGG24D4E0MDriPppRR0NgNARGQ2A0BEZDYDQERkNgNAQGWwiMXsCEJUaG7h1Mo3cW4MpgoyEzGjKkFr6jaWY0zYymGWo1WUZz02huIiktjSYYPAlm9AIm6CH3aPdxMCAFDC2u6hi9/mP0+o/R6z8wQwBPviBPCmgF2RoHzzVDg+qKtNELmP7jBqNXU+G5NYaMMn/0ckB6VpSDKrRHL2DCk5VG17hj6dWMrnFnGAWjITAaAqMhMBoCoyEwGgKjITAaAoMsBEYb7lgiZHSN+2g+HQ2B0RAYDYHREBgNgdEQGA2B0RAYbCEw2nDHEiOjI+6jGXU0BEZDYDQERkNgNARGQ2A0BEZDYLThPpoGRkNgNARGQ2A0BEZDYDQERkNgNARGQ2A0BEgOgdERdyxBBlkqM5qaRkNgNARGQ2A0BEZDYDQERkNgNARGQ2DwhMBowx1fXEDWzIym19EQGA2B0RAYDYHREBgNgdEQGA2B0RAY8BAYbbhjj4LR/amjmXM0BEZDYDQERkNgNARGQ2A0BEZDYFCFwGjDHXt0jO5PHc2ooyEwGgKjITAaAqMhMBoCoyEwGgKDKgRGb07FHh1D9PLU0cvGcOWu0ZAZDRlSS97RNDOaZkbTDLXaK6O5aTQ3kZSWRhMMngQzenMq9HYqzJtTgZenQu5PHb05dRhc3jZ6o+HojYYkXdQ6qO4HHb05Fc9lpaO37VL3RlIaJbbREnjwl8CjN6fSs6kDtIu8sguYlUaXyoxOAY2GwGgIjIbAaAiMhsBoCIyGwGgIjIbAEAiB0YY79kga3Zw6mn1HQ2A0BEZDYDQERkNgNARGQ2A0BAZVCIw23LFHx+jm1NGMOhoCoyEwGgKjITAaAqMhMBoCoyEw2nAfAmkAfgfT6FHuozl2NARGQ2A0BEZDYDQERkNgNARGQ2AwhMDoiPtoOhwNgdEQGA2B0RAYDYHREBgNgdEQGA2BIRACow330WQ6GgKjITAaAqMhMBoCoyEwGgKjITAaAkMgBEYb7qPJdDQERkNgNARGQ2A0BEZDYDQERkNgNASGQAiMXsCEM5KG4h1Mo3cW4IrO0ZAZDRlSy+PRNDOaZkbTDLVaMaO5aTQ3kZSWRhMMngQzegET9guY/oN2p/6H3ME0egHT6AVMWEOAvNsTyL52YfRiFDrfjjF4rowZvYDpP24wegHT6AVMmCEwWmtTN1WQXW1Rcs0Q1XP9YKt8Ry9gov7sBvxgGfjQ++gc0mgIjIbAaAiMhsBoCIyGwGgIjIbAaAgMVAiMrnEfTXujITAaAqMhMBoCoyEwGgKjITAaAqMhMARCYLThPppMR0NgNARGQ2A0BEZDYDQERkNgNARGQ2C04T6aBkZDYDQERkNgNARGQ2A0BEZDYDQERkNgNASoEQKjI+6j6Wg0BEZDYDQERkNgNARGQ2A0BEZDYDQEhkAIjDbc8UUSfH8qI+Noah4NgdEQGA2B0RAYDYHREBgNgdEQGA2BgQyB0Yb7aPobDYHREBgNgdEQGA2B0RAYDYHREBgNgSEQAqMXMBGIpKF1DdPonQW4onM0ZEZDhtTyeDTNjKaZ0TRDrVbMaG4azU0kpaXRBIMnwYxewAQ94x/PSfiQa5gYcATV6PUfo9d/jF7/gRYCo1dTDYlMQXY0DZ6rqUavM6P6JTWjF72RkXnJTodAjaMXvWENcDzBQkloD6oG2+gFTAyjYDQERkNgNARGQ2A0BEZDYDQERkNgNASGcQiMrnEnHLkPHjyEKBrdojpaFoyGwGgIjIbAaAiMhsBoCIyGwGgIDFQIjDbcR9PeaAiMhsBoCIyGwGgIjIbAaAiMhsBoCAyBEBhtuJMWSaOD7qPZejQERkNgNARGQ2A0BEZDYDQERkNgQEJgtOFOVLDDD3QHqh5tu4/m1dEQGA2B0RAYDYHREBgNgdEQGA0B+ofAaMOd2DAfbbuP5s/REBgNgdEQGA2B0RAYDYHREBgNgQEMgdGGOwmBj9Z2Hx16H826oyEwGgKjITAaAqMhMBoCoyEwGgJ0CwGW0bAmKQSAbXfk9jqYLY/coB8Nz9EQGA2B0RAYDYHREBgNgdEQGA2B0RCgRQiM3pxKZqjCb1RF1g8/OHKgEuvoZWO4Qn40ZEZDhtRcOZpmRtPMaJqhVl02mptGcxNJaWk0weBJMKM3pxK+ORXX7VbwG1UxGRBD6Xx/5KC6g230RsPRGw2xhgAt7mUc9nc90siDozenknFHJv64GL1TFleQjobM4A+ZQVXOjN6ciifBjC6VIX9AAbJCButKd5jg6CoahlEwGgKjITAaAqMhMBoCoyEwGgKjIUCVEBjdnEppMAKXxwBb8LiWuQNb8MhoNNWOhsBoCIyGwGgIjIbAaAiMhsBoCIyGAHkhMNpwp1rKgTTf8W9UhTfiR9PraAiMhsBoCIyGwGgIjIbAaAiMhsBoCJAUAqNLZaifYOBtdzznRaLtbR09l2Y0346GwGgIjIbAaAiMhsBoCIyGwGgI4A+B0RF3GqYQ+CoaPGtpINaPLqcZzaijITAaAqMhMBoCoyEwGgKjITAaAvhDYHTEnX4phJiReKBrIGfDw501Ohg/modHQ2A0BEZDYDQERkNgNARGQ2A0BIAhMDriPgDJANgWRx6Mx+8CyGD8aGIdDYHREBgNgdEQGA2B0RAYDYHREBjhITB6AdMgSgBYL3XCdB+ea55G7yzAFZ2jITMaMqRm9dE0M5pmRtMMtSrI0dw0mptISkujCQZPghm9gOn/gFyWRMxNB3gueGLAEW+jl1yMXv+BGQKjV8aQcc/OoLrObPQCptHrzEavMyOpZBu96I2MQm/0Aibyago6X7UJbOaNrnFnGLQA/5p4yJE1oyvgGUbBaAiMhsBoCIyGwGgIjIbAaAiMjBAYXeM+BOIZz6E0oxc8jZZUoyEwGgKjITAaAqMhMBoCoyHAMNpwH00EgyoEIM13yK5WXA5raKiHb2bFc4r8aMyOhsBoCIyGwGgIjIbAaAiMhsBoCAy5EBgdcR+SiZaYg+GBHhs9kWa0SBoNgdEQGA2B0RAYDYHREBgNgWETAqMN9yEclZDmO8Fl7qPN99ECazQERkNgNARGQ2A0BEZDYDQEhkEIjG5OHQ7JmJirndDOmhzd1Tpafo2GwGgIjIbAaAiMhsBoCIyGwNAKgdER92GVYhsaGuHD8Pib5vBdraM5djQERkNgNARGQ2A0BEZDYDQERkNgSITA6Ij7cE6oyG13XHtVweLyyKEwOhg/WniNhsBoCIyGwGgIjIbAaAiMhsAgDIHRm1OHVbIk8rIxIq9ohQcN8l2tQL14rm4dtKE5eg0brqgZDZnRkCE1246mmdE0M5pmqFXZjeYmrCE5Gix4CpnRm1MH782pZFyVR/zNqZBrWf+DRtf/47+ilaAsdW9oo9HlbaN3yo7eKUvSzYtAxYMnzYzenPofNyDv2sLRcobOl0SOlsCDvwQevTl1qNycOrrGfYROBMEPlAQyKBxBR14uj8xGHtcfPVR+dMJxNARGQ2A0BEZDYDQERkNgNAQoDIHRNe6jSQgUAljXtZPa2kZWD2GjiYyunh9NbaMhMBoCoyEwGgKjITAaAqMhQHYIjI64jyYenCEAGZWH3NUKb3Mjn1pD6lA9fDweOBiPdqwNmtRorIyGwGgIjIbAaAiMhsBoCIyGwGgIoIXA6Ij7aJIgNgSwjpdDBClZCYNVL1BwdHh+NGmOhsBoCIyGwGgIjIbAaAiMhgByCIyOuI+mByqEAPIwPJwNGY+Hc0m1Bj4Gj8yAD9WPRttoCIyGwGgIjIbAaAiMhsBoCIy0EBhtuI+meRqGAPKoOdoaGwgX2W6IYiKX3yC35uGGQARHY3Q0BEZDYDQERkNgNARGQ2A0BIZlCIwulRlN2AMZAvCVNhAGkHz4EHhEKQNJa29giqHXSEG4yH2G0TgeDYHREBgNgdEQGA2B0RAYDYFhEAKjFzANq2Q8XO8sIPXGKKyRCh/LxzQN6zD/EL1qitQEPXrPBa4QGw2Z0ZAZzU3UqiBHc9NobiIpLY0mGDwJZvQCphF6ARPyRQOD6toFUh1D4e1RxGv//x9xUxUk9Bhw5x5aBOnolTEj9sqY0QuYRi9gwhoCo+UMPcuEYV8Cj17ANFQuYKLHUpkrV64cPHjw79+/NjY2RkZG+Htd+/btu3r1KhcXl4eHh7S09Oi0zmgI4A8B+JKYhw8fysuDVstQcsQNHrvQzqSHqAQKAh0AIeF6wSqh63YwZUcjdDQERkNgNARGQ2A0BEZDYDQEyAsB2jbc//3719TU1NfXx8vLy8TEVFVVlZaW1tXVxcKCxd53794lJCTs379fUFDw169flZWVU6ZMCQsLG43a0RAgKQSwrm5Ha81D2tNUCViIybh6C5iycOcha4EIAkUePBiN7dEQGA2B0RAYDYHREBgNgdEQwB4CtD1V5vz58729vRISEvvAQENDY+bMmcCmOVa3dHR07Nq1KyQkBDg8v2HDhj9//mRnZ79+/Xo06kZDgPIQaGhoBDaO4YgBtMyFAcKF3zCFrABZCtl2yve8AlvnkEMtkY0FCkLa8chXU0EE4SQeKaBRmGYCBeHGwtlw00YT1WgIjIbAaAiMhsBoCIyGwJALAdo23KdPnw5cMxQcHKyurq6qqgocUGdkZASOowNH4tFCCjjcvnHjRnZ29uTkZEVFReCKGkNDw+/fv69bt240VY2GwMCGAP4W/2CIHfjgPVpbH+I2PG16oPqGhnrk9j2ydzC7CoMzKUJ2GyPPYIxmmdEQGA2B0RAYDYHREBiWIUDDpTJfvnwBrm4HrlZ3dnaGhJ2VlRVwzczdu3eBzXQRERHkAH3x4sXXr18lJSXV1NSA4mxsbJ6ensAB+9OnT6enp48mvtEQGLQhgHUMHr7gHtnZmC1LrMtmBsqnxDR8kdTI43UnHlmaaIQ4DIcXiHUMclSCjapvaMDlS3I8CDQf+UQj5NinfCYH06FgLyD2WoyWIaMhMBoCoyEwGgLDIARo2HAHLmr/8ePHVzCAhBSQC2zNc3JyYq5xZ2VlBUr9/v0buIcVovjjx49A9f9pUaGNptzREBiIEICnZcxmPZoUvAGKnPwhuoBSaHlidKSZWpFJ65BEMx+Zi9zIxuYdsns7UMMo7NJgOInKXRqw+XTu7FGtAwnJj7AQJiFk4BmZ0HG3ZPYSgaGKWVwQzCxofUuMlIPPMUAf4bcRIotmJkkbe+AmkNQ0wOoqrIJA75Pd6ID4C64dzoWYiexrsq0YrbpHQwAYAqMXMI0mg9EQGHQhgKdYx5SCiGAd44d4DI8UWg2KFhDA1f/Ag3rwqxlNPaMhMMJDgOwMQtOcBTZcHtJ2xxZB8sTEGqkuhKjHoQvapcGUxdtvweJOJFtI6NKg2gvViNWpuH1NVGcPTTvWMEFVQ1o3eLTRP1rk0vACJuAIuru7++3btxcvXgxkAMP6zJkzvr6+wEUywO2nQkJCyKF//fp1FxcXbm7uQ4cOATezAqWAh88At6sGBQXNmTMHLZ4aGxtxxRxwGT3w3H6ssnikgOrprJFGjsGToEdDZjTNkFreDeY0A1yaD/QOcM8x/swLl0VWD2RDNCIz8AcOXD1EGbBLg1nOQKzAIwXRCzQKopKB9gDiGLpZxzAKRkNgNARoHwLAMoQWTYhB1UbCH4rDo8FGti9oe3Nqbm7uvHnzUlJSJk6cCIwGYEMceDqkl5fXmjVrgIfGbNmy5fPnz8rKysC1758+fTIzM3v69ClwN6qrqytwkYyTk9PFixeBp9DExMSgRSHjdPfRwmE0BEZDYDQERkNgNARGQ2A0BEZUCPzP3An0L555VPyy5M3Nkm0m2RqB47P19fW4YpbOvqBFaFMSMrRtuF+7ds3S0pKfnx/YHAeua4+Kinr06NHOnTutra2B+1ZzcnKAi9rFxMTmzp0LHIBvbW1tbm4GNuuBsQXcqwo8wZ2Hhwd4GZOAgMBowTQaAqMhMBoCoyEwGgKjITAaAqMhMBoCIzwEaLvGHXhwO/Ac94qKCmBzHNhw//btG7BpDmzKAwMduHUVeGT75MmT8/Pzgcc+AkUKCwufPXsGXFdz4sQJ4Ig7sCk/f/780Vb7aBYdDYHREBgNgdEQGA2B0RAYDYHREBgNAWAIMNLh2JbHjx9funQJaBGwHa+iogIPd+BqGWBrHnhJKvDwR7ggUCVQPbBZb25ujrYOfjTCRkNgNARGQ2A0BEZDYDQERkNgNARGQ2DEhgDj6HmLo6l/NARGQ2A0BEZDYDQERkNgNARGQ2A0BAZ/CDA34L5ihD6uBy52X716NXB5DPAod+AFTKOJBjkE9u/fv379emZmZmlpaWTxe/furVy58siRI8BZCzk5OWQp4AbftWvXHj58GHiAPvAO2uEansDLd9++fQtcfAW84QstZIBX8B47duznz5/Eh8ybN2+AG6aBhx0BrwYDBhpwwmfohhuekCEjzQybkAGWM8Dd8CdPngRGLtZyBjj19+rVK2BeAxZE8NjHk5tGQsiQV86MkDQDLH6BNRcw2SgoKBBZAg+ncgboZeCK1pcvXwInzJEvZgGmmRFeAuMJmZFZAkNu0rxx48bNmzdPnTr15MkTyD2byLlmxBa/wEAgo5nH8H/gAPCuJeA+VOBdqlJSUjIyMsCzIIHL3IHbVf+Pgv//gev+gUdhsrOzAxcXAcOnvb0dEirAQJs2bRpwERGw8SErKwsMtNjYWGAbHSK7bNky4GZfcXFxoBRway/w8M33798Pv+AEJpK8vDygN4EFAbLvgD0W4LnjOjo6wCY7MGTi4+OBzXeCIbN7925gvwh4SikwnIGp0dbWFrhYa4gGGq6QmT17tqCgIDDNAH06AkNm+vTpwMjV0tKClDMlJSXAfIQWxcAbmvX19YH3vsHF8eSmYZNmcIUM2eXMsA8ZYPIABk5aWhoHBwewtAGmKOA2LXhyGglpBp5BgDWUjY0NvPYBio+WwJDAwQyZEVsCAw8aAY6FASsd4BAbkASOjBgaGmJWryOz+CWvmQcMvYFsuAOPdQc2LlVVVYFdsVu3bhkbGwOjdteuXaPtdmDrwcTEBDjyBzzMHtg9Xb58ObAhHhkZCWyGAsczgKf0AFtgwBHEBw8eAHf9AusP4KGZwEADjhcCW5/A9hlw+gKoLDExEdjuB7ZRhl94AmtKRkZG4MZlYLKB+A5YcQJPjwLeANDW1gY8uQgYMv7+/sChIEiHB0/IAIMa2MoHttf37Nlz586dyspKYHgCTyAdooGGGTJAjwAHPIAZDdhkB2Y0YMgEBAQAEwYwoPCnmeERMsCeDPBQWmCrHZhHgH4HRjHw2FlgFAOHvpCjuLOzEzgSD2yHwTu6wz7N4A8Z8sqZkZBmgHWth4cHsGwBFq3Awhl4SBqwXQIUAYqPnHIGmHeApzwDG2EGBgaQhvtoCQwvT9BCZoSXwFu3bgXWPrq6usAGnr29fVVVFfBuH7TqdQQWv8AQIK+ZBwm6gWy4JycnA3tgwDNnIE4BnjAD5Pr5+WEOho2opjzQ+8D2OrAPAxn6BbYkgNUDcKsuMNEDr6mqq6sDSgHP7YeECfCcTWCuMDU1BZaeM2bMALKB599DhpmBq2X4+PiA/SLgkpLhFIDABQ+Ojo7ALgqwAwNvuAO79cBDioyMjHbs2AHxLLCRCpx8AHZ4gKGHJ2Q2bNgADDTgGACk+gGGMHA2A9jGBR5wNOQCDWvIABMD8PozYEoATtRAfAT048gJGWBj3dvbG5h9gB1diPeB85LAzi1wozy8jQ6cvQU2QYBBBGyBwQWHfZrBHzLklTPDIzfhD5lFixYB6yngtB7waGdg1QssXYElM/AqkrNnz46QcgaYjyALOIFZBt5wHy2BIcULZsiM8BIYeIcPcC0ZcMIhOzs7NDQUePY3fBocEmIjs/glu5kHCTSWgVrLC7xXFViVAtugzs7OEDcAyz7gwOfdu3eB64yBzTKGEQyOHj0KXDUIHNQBJnRggQjsrQKTO6Spevr0aU5OTuAdVZDgAbY4gQ3N12AA2ScAHIOHnNIDXEYGHJgHhjNwGeJwOp8H2AwFNtCBFQZyAgEumwEOqQIHvURFRYHiwPu8ysrKgNVqdXU1UApPyADDEzizAeztQNbKA4dmgaUMsK0PTIdDbscF1pABJgbgGaxADwLvSdDW1gb2doBh8uHDh9ra2pEQMsBBdOAVp8DRZaBngQkDuMi4tLQUmE6A3occNQsUcXNzAy4qA67x+A+7TBy4T2DYpxnkkAHmF2AfGB4ywBkJ8sqZ4ZGb8IQMsKkKKZyFhYWBN40Ay12g4r6+PmBXH1jyAMeegIUJ1hJ4OJUzwB4L8EqWiIgIYCMVnmVGS2Bg8YI1ZEZ4CQzs0ELKW+CiX2BrBDi6BFxOBiSBhQykQB6ZxS/Q72Q084DDBJCGCtNANY+BE9PArS1fwQDiBiAXGK/A7YbIO11GYOsdGALAxR7AtA6c1ge2t4BLPg4cOABM3MCgAAYasLcKlAIGGyRkgC0SYPMUqAVYOkCCFNgmg0gBu3TA4UNgkA6z8MTlHchI+f3794FNduAUxN69e4FVS3l5OVA9npABLrkBJjxgQEECDbKzExi8wMUkQy7t4QoZYGgUFBQA+2/AVOTg4LBt2zagCDCURkjIAHu8wD7YuXPngPsigEPvwFvhgGM/wLQBiV9gMwu4Vgq4xAg5upnAAJgwsOamYZNmICED9CtwNgY4FgAMIiAJDBmyy5lhHzLAwwCAPRxgeQu8GRDS4ACeXwwMNOBg0whJM8AKBTjhCbxCETiohFZCjvASGE/IjNgSGJhfgIMCwGl/YHW8fft24CoA4IpfYIO1paVlhBe/5DXz4FU8E8MoGGQhAKwAgGslgSMZwPXZwFHSCRMmAFdvA1vnSUlJwGblaHThCQHgbV/AxabA0gFYlQJXRACHWpGvCBixQff8+XPgHkRgT70aDIDFKHAUZNOmTSMkQIC5BrgeD7hdDLipBrieCkj29PQAcxlQPCsrC9iOB1769vnzZyAXWM0AJ7iAjTDgEQcjKrUAAwdY1AC7N/v27QOODY8WMvAQwAwZYAcYWDgDU1RTUxOwcJ4zZw4wtQBPCADWxMM+3IB5BLj/B9hCnTp1KmRRGTzLABlA74/YEhh/yIzYEhg49jFlyhRgqx14MAAPGAAHTYBTncBNzMBGzkgufils5g3YUhlgQucGA8iMCTDPA9tYwJgFio3w5inQ+8CUDeynAqdlITUBcDURcNU7cKQHeDgdcCSYEwwgUpC1ucB+GLDcBA53AWWBy40gUsCUATQHOHgMHJUfCTUxsB8PnKoGrs0FTmEDExLQy8AwAdamwGDEHzLAQAMuIIEHGnDcCDinAZzZGB6BBgyEoqIiIAncFQScfwB6Cjjo7unpCWx5AE+EGAkhA9wdtWLFCuBSS+BSIsg84y8wAE5kAc8ABeYR4KTWDzAAttqBajQ1NYEhNhJCBrgDFVjOAJdrq4GBkpJSdHR0RkYGcGyM7HJmeOQmPCED3CABLICBJKR8AA6mAicugK154DKJYZ9mgHeZA0/aBUYxMJsAi1ZgpgFuNAQOwAMXcwJn8ICV0YgtgfGEDLAwAa7wHpklMLAiBjbQgYMjwEIGMloMLHqB1SuwHAaeBjGSi1+ym3nQhspAtU6AMQpcqQxsVgIn7iFuAEYkcFxZXV19hF+YCkzfwJoASMLbjsCxDWByB7bIgesIgXOUwHQPHy4FrsQFDhACxYErLIF7pIDKgGfoAstTYJAC53CBOyyB4Qw8sIxhuANgsQhcaQocMgTuDwOe8/ABDIBT/8ATIYFrl/GEDDA8gR0boBZgCwYYSMBFSsA6G7hQFfOg2SEahMACAjhCBmxSAFflQrwA7BsDO8nAUUOgx4d9yAD9PmnSJOBmXGDXF5hZgLEMTBrAA/uBM7bAbAWsboEn0gK7NMB0AgwTYP+tuLgYOCYEbIgM+5AB7uIAnmmYk5MDbHtBEgawiwtsewGzErDPT145MzxyE56QAQYU8OgqyNI7SKABkxOwCQtsywLz1/BOM8DKBThuCpzGBA6OALMMcPIKWE4Cqx5gkx04dAqcxxuxJTD+kAE2aUZsCYyZlYCtGshoI7BZMpKLX7KbedB2yAAenQFcJgisKoDnfgAnZ4En1gEHuoBNCuCtFv9HPAC2OIFBAQwZ4JIGYMgA9xQCx3iA803AgAG2xYE1BLBlD1wQApQF7ugFSgEHFIFSwIYI5CRy4IDZhQsXIKf+AReTDbPgBA6LAs8MBfbugH0S4KE6kONfgMUBsNEArFOBgQasVvX09IAnhADb8cDqBNgbxBMywK4jcNMMMLSBd6kAgx043Aisg4H10FAMNKwhA/QIcLMEsEkKTDPAzHXx4kXgaUVAPwKn+PGnmeERMkBfAA+QAaYKoPchRwgDEwaQDVzsDr8yAqgGmIOA+QhyyirkVKthn2aA3gTuWgbuqgSSly9fpko5MzzSDP6QGcm5CV4qAgtV4GoZ4Gw5cIAD2DgDio+WwJDAwQyZkVwC489KkBAbmcUv0O/kNfMggTbAFzABp5CAzVDgaDGwygS2LYBd9hF+FiS8ZAQObADbppCQAXZvgBP9cCngcDswuICND2A7FTgMD1y3DG+CABd2A9slQI0QqczMTGCu+D+8AHC9B7CzDmxmAasN4HgPcNsl0H/ANivw9i7gHjvgOQ/AZanARAVUAJQFjq1CfI8nZID9H2CnEZj8gKENDGrg5rwhemsV1pCBeB84rwVMEvA0AzxTBZ7RhnfIAI/2A3bDgOcYADt4wAFRYAgAkw2wtQoUh2cL4MJuYAcY2JkBTuACh96BVe/ISTPAAxyVlZWBg4LAzALMApSXM8MmN+EJmRGbm+BZZtWqVcDbyiCrW4Ebu0dLYDwhM8JLYKD38WQloOxILn7Ja+YBA43xP+wEtIFaCQC8pRK4qAPoDODAGHDsk2EUwEIAT8gA26nAChK4CgJY6QKnL5HDDLhyBngwKrBZBhxlBA48D7/gBC70B4YMZC8UcHBdFgyA3oRsjQCKANmHDh0CMoBtEWD4QESAgnhCBriCAhhoQBOAS1eBi1aHaKDhChmId8hLM8MgZOAJA8gA9lKADXRgkgGe4gePZeBENnCJFDB5AEWAbXqg1MhJM0AvA3MT8GReYOAAm+9oJfCITTOQtDEaMrhKQuACIWCWAXZxgWvwgPkFmKFGS2BIWGENmRFeAuMvZEaLX1wNYDzF78A33BlGwWgIjIbAaAiMhsBoCIyGwGgIjIbAaAiMhgChEBg9DnI0jYyGwGgIjIbAaAiMhsBoCIyGwGgIjIbAEAiB0Yb7aDIdDYHREBgNgdEQGA2B0RAYDYHREBgNgdGG+2gaGA2B0RAYDYHREBgNgdEQGA2B0RAYDYHREKBGCIyOuI+mo9EQGA2B0RAYDYHREBgNgdEQGA2B0RAYAiEw2nAfTaajITAaAqMhMBoCoyEwGgKjITAaAqMhMARCgLmhoWHYR9SPH3/evPnCxga8gGXQdVRevvx06tT9K1ee8fCw8/FxDMW4uHLl6erVZ0+cuMvKyiIpyY/HC3/+/Nu378bmzRevXn0mLs6H5t8jR+6sX3/uwoVHQkI8goJcyOacO/cIaMWpUw+4uNjFxXmRpYi3nRZh+/Dhu7t33/DxcQJTF8R8oB9fvfrMwsLMwkLbxIbLIkwnDfJEBTyI8PXrrz9//uLkZIM7FZhnt2y5AEwtd+++U1ISYWVlhksBPb5z59UdOy7dvPlSWlqQi4sNWQpPAhutkcgOAWAcvX379c+fv+zsrMiGvHv39dq1F8zMjMDii27BC3QMsAABRvTnzz+kpQWAJxISYzUwXyxceOzjx28qKmIQ9b9+/Xn9+gsdsirceWQUVp8+ffvw4TsXFyuyN4FF5e7dV4ClooAAl6AgN37vf/ny4/Llp8eP3wOeEQwsdUdzwWgIjIbAkA+B/yMAzJ9/1Nq6Y+PG84PQr4sXH9fQqOHnz01NXTTkogJYE9TXb+DlzZGSKpWRKePmzi4sXPH791+sHnn79ouHxwQenmw5uVJx8SJR0cKVK09BVH79+jMmZg5QSla2TEKiWEgof8aMg5AbgoBkfv5KoMlA86WlS4BqWlq2wKWIt50WYQt0Rnz8fG3tunXrEEnr8OE7NjadfX27aR2bWC3C6qRBnq42bboAjNmTJ+/C3Xn37mtd3Xo+vlxR0SIBgVwVlerLl59AZJ88eW9n18XDA0xyJcLCBcBUsXv3NYgUngT2fxRQFgL37r12c+tPT1/8/ftvZJNmzDigo1NfVbWWngH88eP3xMQF3NxZCgrljx69Jcbqt28/AwscIAIWVp6eE588eQfUtXHjRSurjgULjtHB8SQVlXD3vHz5WVW1uq5uI1wEaE5e3nJZ2VKguIREkaBg3oIFR/G7/+LFx97ek4Alp4FBIzDoRrPCaAiMhsBQD4ERsVTm8OFb5849PH36AUndLMi9LbTumQUFGcXGWgLHfh4/fjvkeoHnzz/u7d0tIcG/b1/hvn1FGhoSM2ce3L//JlaPdHTsOHDgZmioyYEDZRs25AJH77Kzl71+/RmoeMmS42vWnLWzUzt8uGzXrkI2NpaKijWPH78HSq1YcXrGjP16ejJHjpQeOFAKHGBrbd0KNAcoRZLtNApbVVVRJSUx5EmAy5cfnz37YM+ea1htpGKiwmURppPgLqFPkiYpqIGtisDAaR8+fGNkhJZFwLH2kJBpt2696u4OPXq0bN68xKdP3/v7TwUOHAJNLitbDZyhystzPnSobOXKdOAAalLSgk+ffgCl8CSw0REmCkPg+fOPR4/eAU50/PjxC9koOTkhBQURZWVxIs3HnwKJTJ/AmbqaGi/gSDNwHvXFi08Erb53742aWi1Q2bZt+R4eOseO3d2y5RKQe/r0vfPnHx06dIsOyYOMwgqYEYyNmx4+fMvICHXgt2+/PDwmbd16ae7cxN27gUVuCQcHa07OsmvXnuPxgpaWVHW1F9CQJ08+AIdIGEbBaAiMhsAQDwFylsoAi9d16841N2+5du2ZoaE8OzsLMBCAdeeWLRenTj0AHAIxNJRjYmK8ceP54sUn1q07C1zeACzfgWqA5eymTReBbTvgWgJeXvb6+k3AaltZWZSXlwNZO1BxS8vWw4dvKygIw5dMAPWWlq6ZNm2/mJiAsrIIJNiBxS5wNB1or5AQF3CpRlMTipMgaoDtdeCYytOnH4B9LOBaGRERHoIrUoDN6EWLjjc2bt227ZKiogh8+QfQR9OmHZg798iFC4+BRsnLC+/adXXWrMPAMT+gmTIyghAbq6rW9fTs0tQUP378/vPn75WURPEkEuAaAOD8KdAcoLLoaHO4yuvXn1VXbwT67ubNF/BAhsjev/+mv3/30qWngDWQgYEs8lIBYCgBx3qXLTsFrGK1taWAE6kE0ydw4cGPH7+Bw+Ro6O/f/0xMDPinoevqNl+58iQhwTo83ExYmOfXr797915/8+ZTeLgpmsZ3776Vlq7+/v1XT0+4vr6MmBjP3r03Hzx4KycnoqUlmZu7/P37r83N/hYWysDJ3KtXn1669IyDgw3o8YSE+X///lu8OElLS1pIiBuYNrZuvQxcWRQRYdbcvI1I22mUSYFj3pcuPZaVFXJ0VOfn5wTaAkwhixadADoPmNiAMQtcPyAiAl3YA6x029q2NjRsBAa4rq40MzOonXr79ktgz2T58lNAvW/efK2t3QCcu9fUlISvDAGm6urqDQsXHgUq0NGRhnsEl0WYTgJqAWZY4Bqk+vrNy5ef/v79JzBh4LJ9376bwOggJtlAjP358y8ws2AmHmDsA0sAgsEOzPVmZq3AtQpAlfHxVsBeGZABbJcAwxCYSLq7Q4B9QmD5AMzCwHa8lBS/mBh/Tc06BgamSZPC1dTEJST41q8/D2xTAnMBUApXAjMxkWegFwDmTWAUT5ly4OXLj5aWynBrgeUPsGsKHBz98uUnA8N/4BgqMBkDvSYqCk0ehw7dnjp139Gjd+XkBJcuPdndvfPNm8/6+rKQmMLUfvv2K3V1SU5O6MIVrMXFrl1XgEXijh1XgQPMwPKWgYERaClwuQhwIENOThiYm4gMFaDtK1eeBroQmBOBkQVc0QSJKWDxC0xvwETu4qIhJSUANA2PN8GF6jFgFgAGkZGRPPLaJ6BGrLkDj/OACWz27ENAXfBkA1QMtGLixL2Vles+fPgKtAISdI8fvwNaevbsI2Ab18pKxcpKVU9Pyt1dB9ggXrjwOHBuB3h1ODs7Mz8/F9ryPEzb6VNUwu0F9kjPnHkADCgLCyVHRw2gOHDeCViBCghwl5a6A8tJYOLh4GDZu/cG0BeRkWa4gguYE4El/Jw5R1hZmby99Ts6tq9efUZcXEBWVhBNy4kT92tq1gNTKTBw4HGEXGvr6UkDQx5e7QoLc0tKYo93jPT5HBg1S5acuHTpCbB5AGkzMIyC0RAYDQGyQoCFVF3AwisiYva2bReBFSdwoSGwjbh6dQawIQJseAFrBWDlBGzAAUeRgcUKcBgAWAMBmyavXn2xsVEBWgSsioDlDrCdvX79BeCl4vLyguvWvQG2qo8erQCOBEC0A6sB4CCuiAj38+cfgHXM9u0FmpoSBw7cCg2dwcDwj4eHy9d3Qlqa3YQJ4UATgMMYwKUmz5593LLlMtAEYKtux44rc+ceBY6saGtLQrx29uxDYFUBWRYJXF2tqioGqXVweRzYxPT1nQRsmqurSwAn3zdsOH/lSpO8vBBQPdBH27eDVhYCVxwC13Pb2Cjv3n0d2A8BNiCAzW5zcyWgmszMpfPnHwEuera17QkMNEhJsSMjXoALRcrK1gBrVmB1u2/fdWBXAewjKaAv+vr2zJx5SFKSD1ieAledzpt3ZPr0mOBgI6AtwGKxo2MbLy8ncPwS2D5YtuxkR0dwaqotfgdMn35gzZozP3/+QVMG9H56ur2VlTIu7cAR0CtXHgF7ZS4umhA1VlZKQNuBa76BYQjsICFrfPECONjzA9gFUlMDdWOAY+qentrACgDYJvPy0gG2WYHr2oEFOkSLs7Pmpk2XgLLAivn37z/AigfeOQHWsj9//gYu+iTJdgbaAOAYJLCJCZw60NAQj4oCdbqAKQTYFwVG07NnH4BtZTExXg0NUDp89OiNi0v/8+efFBVFgfMMa9ee27AhB1jp3r79esWKU8DKDJgygc0O4ODltm1XFi06tndvMTB55+cvB2YBWVnh////AdfkAFcpJCZaQ7yCyyJMJ8EzLDCJAmvurKxlS5ee2LKlANN24NQBMLcCZz/mzEkMCjIgGGbAqZV5847evfsKTSWwVg4JMcnNdSJoQnDwNGArkIOD4d27L3DF799/B/oXGOPwTQLAxAmMdOBy6tu3X/z+/R/Y3pWSArU5gGqcnbUePDgMbN8Ai6OvX7EnsPR0WwbaA2CkT526HzgYwc3NAQxbYLa9c+f1tGnREJuBzUdgawm4NBmYsIEiwDbTw4dvgMVjT09IWpo9UAQYcQsXngCmJWDaAKYEYCMSOE4xf/6x3buBi4U40bQDV/YDeyzAou/IkQpgIOAqLs6ff7J//w1gxwaoHlgga2kxAFe2AHv7wH6mo6MmMBiJDBWg7UDnAd0GLGOBCw6BWdvUVAGoF178/vv339gYJILLmx0dQcD+A3ClNXhQZhuwQAOmcGCPF+IAXLmDpEgDlgmurn3AsSRgMi4rW7dixZkdOwqAXVBgXwLYrgWnn7+HDt1sawt0dQU1goFJF9j7BcYacBUQcM2MvLwIcIwGv430KSohbgC2noElg4+PLjDcgKMAEEFgY3rt2gwgGzhOBCz/gSM+bW3bgLKNjf7EhBVwCD84eLqCgtCLF59XrjxTVube0OAH0QgMB2DSBda8MjIC3NzswFEVYDW6d2+JrKwAvNYGbioICDAABik83v/8+Q90EtAEPOkTmBeAvUfgMBOwzgI2EjZuvADscS1fnmZtrcIwCkZDYDQEyAoBkpfKzJp1cNu2y7a2qsB1C8BVDcDRIyennlu3XgKHn2trvYFbl4CZ89On70DH+PkZxMRYAEfjgEUMxG3AyrWy0h048AOc3wwJMVq/PhvYmAA2y4AlArAmA2pnY2MFtvLNzBSADQsDAzngGMnOnVeApUx8/Dxg5b1xY/7ly3UhIcbAimrx4pNAM2NizP389IHDCcDSefny1G3b8ubOTQBaFxk588sX6JRuUpK1u7sWsDEBHBhesCARaDj+gAK2IYAjwcBW+J49RYsWJQHdYGTUBJxshfgI6GZpaX5gg9LICDirwARsaQGHoNauzQTaAlSQlbUEOFSfmenQ1hYAtBHY31BXFyc1XoCDZxUVa4FN9gMHSg4fLge6GdhAj4qaDfTRv38MwJb658/fgatrVq5Ma231B+6JBHaWIFYAq6KnTz8GB5ssW5bW1xcOLNyBvQ6CtgN3/gGDGthoRkPAzhhwHgOPdmDL8sePv8C6HDyICFIIrBiA7Wlg4GDuywSOGwHd//79N+BAPsRM4GpL4LT7//9/gYq/ffsJ7GwAkwpECmgIcGweWJdISPCYmCh/+fIdWLNCpIBdAqAtwAUSJNnOQBuQm+sIbJcDkx98AhqY5oG9SmDUA8f2gKkCyAXaDHRwbOxc4Dx1V1fwiRMV3d3BwAQPXPIBlHJz08rJcQLOVADXBbW0BALjFJgRgC1UYKflz58/wOkLYLbasSNvy5Y84Ag0sMUPHDaDeAWrRUApTCcBFxoBx7AdHNRPnKgEJifgyNzRo/daW7dg2r5lSw4wRwOn1DMzFwF38hEMM+CAH3ASADPlAJMTMFER1A5c8gRsDm7enMOEWgjZ2akA8xSw5wxscUIMAfaCgNkfmHKAxQswdQEzOHxNBbC0AUoBRwHxJDAGeoENGy4AM92UKRH795eGhpoCp8uABQLEcmCxU1rqAfTC06fv0tPtgBEKVMPDw1ZWthaY3+ERB9xtCfQgUBZY+BQUOAOnboCdN6Bn0bSvW5cFDGFgRw7YE8BTXBQWuly61AAc+Hj06B2wP3nx4jNgX2vNmvRVq9Lt7VWJDxWg7dXVPsAuFrDjDbQaUtYBtUOKX2C2BWZe/N4sKVl969YLYALbvj2/vT348eMPcXHzgF1KoC48uYN4FwKDCBhQwOAqLHQ+frx88eJkYA4C1hqQoIM7vqrKm4cHegAA0PEREabAFOXjowec0CMmQOhTVAJ9DezJp6UtnjUrFnPjqbg4PxAB/VVdvR64ZQhYXZaWuhkYyBAMK2Dd8fXrr9BQ461b84ErEoHzV8Bp4WPH7kE0Hjlyr79/D7BqO3So/ODBMmD3BjhLk5AwFxhHkFobWE0D8x0wyRET78jpE2gCcPTh9+9fqal2wLVtwP48UAQ4TsEwCkZDYDQEyA0B0kbcgS0qYG3Ew8NaUuIO7HkDR4ZUVMTFxL4DR1yARQlwbQNyHQxskKHNiAEbW0A1QJWcnCz5+c7AkRtg2QQcUgVW/xAp4EgbcFCwstJDRIRrwoQIYAcAOHC+Zs15YEMNOCvX3b0NqOzFi4/AIQHgvkbgwhLgwC3QFuCQA7AjAZmYdnHR0tAQAzaDgINwDg5qwGABqgEiIAPY9UdeVYIrxICl85Ytua9ff4qOngNcTQtsQQK1A9tSQHGgXcDB9eJij4KC5V1dO+zsVIGtImC5r6sLKjeBw8a3b78BzroCW/PAqVjgQg5gPX3hwhPIJDLxEQQccAUqBi4+AZoDZDg5aaqpiQH35AFXTtvaqgQFGQLXCwHH44FSwOHwiRPDLS2hQxehoUbAuVRgm6ypaZOxsXxTk7+9vTpBe+3t1UxMFIAxiKYSWKUBGxYDm7OA0T1lStjJk3eAjbzLl58JCnKsW3cBOAMOHLwB1kMMAw0gyQ/ZFfA0D2TAmwjAJsuNG6+AgQlsQO/Zcx24PoSbmw3YhAJ2EYHzDMDOKjDwgU0iYI8UmD7nz08EZiJtbdCqGGDT/+PHH8AKde3as5AlFkASWO0BDcdqEdAlaE4CZljgegBeXraiIjeIe7KzHYEd7zVrzuXnuwAzIJrtwGkWV1etnTuvAQdWgevI8QcwcEsDMG3Du1twxcA6HuhB/HqB4dDQsGnWrDjgzBXQR8DYBDYLgBsegFkb2JlvawsCtsNcXfuBvUfglA7w9Bhg/xkengyDEgDT6ty5ccDjcYBr/IqLVwMn64Dl0tevv4ENU2DJAy7fWIDlGx8fV0qKLbB9D0QREebAfjgwv7e3h0DKKKDPkpOtgbOCQAawoQMcnjh48BYw7wNXtgANgWsHRtycOfHAQAOGT2XlGqBirMUFMGsDjd23r1RRsaK5eStwkGXlygzgYglSww/ieKAuIAO4rBHuVHjRihT1TMjuhHgzJMQUOMgKnJ+EpOqwMKPJk/fcuPECOOANLPnx5w4inQoMIuAoCXDh0Jkzj4FzU8ARAWBCAo6+A6dtpaWFgE6COB7CgJgJdzyQQWTSok9RCRzVcnDo8fc3AFYiwBWPQNcCczGwEwv0EXyRJzAikpNtgLMEnZ3bJk3an5pqj/84L6Ah8GoXEinA3mNr63bgdDFwmhQoBRyPA3Z9gVOswAoOnJxMJk/ee/36c0gcAWtt5IggGO/I6ROYuz08tIELAoE5momJ2cZGaebMGEtLJYZRMBoCoyFAbgiQsVSGAVgVAZvsQBuBGXjNmkwgA1IgAudSgTvMgE0KJtQxNLRGIaTNASn9gct5kV0OkYIUE/CJS2BT/vfvf8BxTSACVyGswEW6wHFlyLAuUAQ4PgdckwAxB1gGvX377du33wSbDnhCDLi0BjhaAzS2uNh94sRdQNv5+REHNYaHmwAPMzl58j5whBvYQ1i6NBViFHB5T2qqzYED13t7d338+BW4OAS4hgS4+pPUqAGWbsDCDjgIDffR588/gYuJgYPrQM8Cm+PAqre+fiPQAcABS+AJicDREch6mMxMR2tr1crK9UeP3gYOWBYUrCwsdK2p8cbvgJ6e3cuXn4REKLJKYBuuqMjVzU0bl3ZgUAMDGVidABtVEDWQKhAoiNmqBvoIqBKI4GvfgVMKQI2MjMzAZAMxBLLWGWgUsK0GrIOBDXSgLuC5CsDxM/B6qtvA9ZTAwT/gZjJgjcXBwUS87QwDCoA1IjB4gcEFHBsGLvUBtmtVVSWAaQPYhgO6C5hXgClZQIAT4kZgUwzuWOC6W0/PScA6GzhMBVzsfvHiE2CwsJB4yuSfP6AMC1wqADEW2M4GDptxc/+GcNFsBzoS2IAGuha+eBpPyAE7AMB1qw8evEFTA0wGkZHmDQ2+uPQCuy6ZmUuAq/+bmjYDCwdgVxzYxU1OXiAqypOYaJOT4wBclb58eUZn51bgUDFwOwTw/L5Xrz4Be85AhwGTCnAZCbyEAW4tgIwO4ElgdIt8ISHe2Nh5wHP3gK0uYPMIuC4cGNfIjUVgkgY2fOExCMzjQGczMbHA4oIJmFTgq96BYQJUwMLCAs8yyNohjWBw+mHGVVxAjAW2ooC9QeBSQ6C9eFa+UTGU0LwJnI8CekFSErqiGugv4Ag9MC9AIg5/7iDSVUDzgbXDr1+/gekceDYlMFEpK4sBl4aLivJR0V+UFJXAsSpg0oWPHOEpKjMylgBDBriG0MqqHZgZgbUtcMUUcDLH21sP2KEFnmEA6bCZmSkCETMzQ3v79pKSlYsXp6BVu2geR652gVLAPAgMLmDiAichUMIDlsPA2R6ILmAxBYy179//QPYJABMYkAEsn5E3rkDO5UC2BWv6BNo7dWo0MEe0tGwDrpUC9q9On344bVqUv78hwygYDYHRECArBEhruANrEWATFpgV4UuigezTp+8DZ3iBDRHg4BlwhfrXr/+BZSjEMcApP+AyAPgSPfLiCGgmBwczcAkBcGEcpOADrpc4cOAG8AR0Yk6lBVYSwPlE4PgxZIoAuP3L0FAWz/Y74F4fYBtCTIzv5MkqYKsROICN1lQCVoRxcZbTpx8EbgM1N1cEHngC8Rew0QMcILGxUQUer9vZuSMoyBi4eocMLwMX0APLU3gIA40FVkXAohxygvKSJadu3HjW3x8ObPUCJxwbGzcDBzMgDXfgQv9jx243NHgDN+rt338LOBQHXGZNsOHu768PXHgKPGUMzakSEgKQmQRcXgAOUwHXCwF7CMAGnLs7qH0PHEYFjhADFy8C19gAy3rgZgZglwO4lBbYXACusgW21IErmoBzAhISWsDaaMOGi8DeiIODCrC5BoxHoDhw9S2ktwY88wFYZ1hYqACHfNLSFgErudWr04HNXOBim4CAyUCTgZMMQC4e2weqNAC2LIGxA3QwcI4bGHHAbhVwIS8w7oDpFlirAXcjQHZpAz1y+PBN4OJa4DQ0LqcC62xHxx7ggiLgcT3ABcTAQyfBjTyocqwWYW7ewMywwJYNMD0DuwTIDUryggs4qwOcN4OcC4RsAnDfNjCL4TETOIE2ZUoUMDEAUx2wFwFcAgscUwQ22YGLOvT0ZGfMOARc4AtcO7t3bxGwLQI8D8rLaxIwAIGrzoBJDtjOA4YbcAc8cLAW2PgA7mkB9quB/VU8CYw+iQEYI8DjcYB5v7c3FDib4ec3GTwX8Q/ZduDmTmC0AptHkPIHmAuAOZ2fnx2iBphggIYAZ5YgXGApCmwqARv6+Hfy4S8ugEYBO37AlVrAPAjsUdjadl671gyJeqB1u3ZdA65eA05mAktvPM0+oEpgNgfqAnaZgIkHuLQaqBi4iZkqAUte7kCzGlj1AAMKuMqrry8MOKwDlAUOuh85che4Cwu+cwZNCzAWgFswgaMhQkKcwJwFLHyAyQ/ea8LqNUqKSuCs5qVLT4ElG3BGC2g4rqISGKp5eY7v3pkB4wWoDDhdBpz1Be4QAzZ8gV014F78wsJVwD7h2rVZkNF3YOUI7LR8/vwb2JpnouCIOGAiBMYpvOEOTpnM3NyMkEoHGEfA6gZc70MXoAJnkoENfcx5WsxwAyae2bMPAxcKLlmSApxdX778TE/PDuAmt9GGO8MoGA0BckOAtIY7sOwGNhltbTuAo7nAGW3gbrC2tu3A8bDe3jBgtgfOsgHX2+Xnr8jKWjp7dhxwIz9w+TWw0Qmc34c0soHVEnBOE1h7AQtK4HYWYCkJbxNDRIAkUBaoBri0Fz4hC9x/BmxBAmsd4KZM4GYd4O494MYs4EwxsLUHrAWBbWtg0QBcBQ5kA9uLwNYAZHQTOBYOLMGB9T2wjvT11QWulQe2L4EHDvb27vT11QfOCeIKMaDD/v5lAPZPgFuagJuowOPBbJ8+/QQaC3cScBU7cPIXWCPCN58BTfv16x+wegMuup01KwbcMGJD1oLLOmC/AmgOsAQENtEgoZSd7QQ8qWbVqjPAIRZgq3fOnMP3778FrqMAtlOBPl28+Bhw7z/Q78AegrGxHHAvkaKiMMTwtWtPA5cVASMCXMpLAvdBAhcyEkwYkDXK5KWfzEx74Jp+YHQA19wDmyDASX8mpv/AlbVA04BzrBMm7AY2qoBdIODGA2DUANUA5+uBG7yA0yPAQVZgnQocZvbx0QdOsABXZicnL5o16xBwvBm4Pgq4ow7YHElMtASmEOA2OKD5q1addXPT7O/fe/LkPWdnDeCgLNAKPLYz0AUA4wvYZQVGCjAGgfEITGnAFBIVZTl79lHgwR3AXdHAuAPWrD09YcARaODUc3n5urY2f2DXEZiuGhr8ga12YNMTeNYh0ATgiixgmCAfQARcawEccAUaCJw637z5EnBjK7CGBvZn8FuE6SRIhi0sXAlceQUcMAMulAef7RMCbARj2o6pHU9AAvsk8P2FJIU3XCPQ49evvwAecwEsJYDdAOCUOjDDAgfRgZtYgC2DixefAhNVUNB0YOd/5sxw4Bgq0BZg4wm4bQ64DRS4lwC4hAY4JA9M5MBFa0CNuBIYfRIDcJYPOC0AbGoD8zJwKgy4YAa4mef/fyZguQTfqA3svAHLhLy8FbW1PsB9wMDtqsAUnpHhCHEhsDAEZl7glkRgIxuY2YGlKDCugbtlgDkI2KICFmiQSRtgEQdstMHb2XiKC2BsAg/38PObAhxfAG5JsrfvPnLkNpA7ZUokMNCAZSZwpztwYBW4kgrYKMSzZR9oF3BPBXB65M6dV8AMCNwjARyRWbAgAdi8Qy5+gd7EdCdwkAVoEdDlQJXAoADmEWABi1zOA9M8rtyBK+KApgEDATi0AWRAynl41QOsmIBVD3CRDHCfJXA4w8tLF1fQARMM0F7gHs3t268CF7tPmbIPeIYP8NhEPKmFPkUlcG0kxA3A4AIe2ADMs8Ct2IGBRsDgBa9NFTl27P6OHZeBu2uAtVJDw2bguFh/fxieiTjMaheYrsAR9x9SbwJNrqz0XrbsNPDMNCcnDWDlAuxLAxNPbq4zZLMKPI4KC9cAS7Ddu28AExIwMQM3BEOSN570CexRAIs7YDoEVsfAvre1tdKyZQLApV8Mo2A0BEZDgNwQIPk4SOBaOuDgFnDkAHiGHbApDKxggAcjwFu0QC6wlgXO6wHbncAxRQcHDWAJC2x5AAefgKvPgW014AgxcKMnsDUMbOsAN4DCjyQDrk6pq9sAXPgIrPaAWoBFJHw0HVhyeXjoAtesA6u0rVuvAOuMyZMjgdU80MvAph7wKBVgxwC4XBg4NgAseYEH6gEHvYCGAEdT1NQkICO4wAFL4IBHX98u4EU5QAawdwF3MGa4aWpKARe4A5cgAz0IbNkADww+ceIecGu/tbUy5OgroBbgyTmPHr0HjkNUVXnBjQKO8QBdCGyIAEcBgd4HjnYDF3Xo68uh3fSJZiPwQlBgMwU4vgLZnQkMJeDYBpAEDt4Dj4UBnt937tyDgAAjYGcAaBGw6aapKQOsO4GLnletOg2cHADOlgIbAZCDzIBnmwDPkQCuTgbO0QPH0oB+By5XoOlVecBwAJ7OCTw0E+hOYHABdwIAzzcA9jGA7gSu+AcutwBOjAKXSgPTDLCpAQx54EmRwLQBbK8A60ugmxctSgaukwYGCDDMgaPvmzadB4oDJxCAo6rAjhkwioFR7+mpCxwRBB6eAOwhHD9+NyfHcd68JMhZcnhsp0+BAHQV8CRQYIIHNr6BO8aA+0eB9gJPBQW2ICdO3LNq1TlgCgGOvwJbosAeI/BwBmDyAw41AQ+hr6jwCAgAzRQDD1maMGEP8AhIYM0H7OQAD5mGuxzY1QEuJAMewgCMTaDHq6s9gWPbwDkWoK8hZ3pgtQjTSZAMCzzMBJycTgHjBbi2CniYJtAiTNuB2oEpB81HtAtM4IQMJMMCl0/AMyywOwc8ogeYAYF9PGDWALYagXtO4CEDnM8BntYCTP/AdALcsgzsAwC3YkPmMfAkMDqkB2C2BW5BAQYpEAELRqAXgG4DZg1gRxTieGATE3g8LrDEA7axgN1v4HlcwBjcuDEXciofcMACeMgMcBsucBsxcAPPggXH799/XVTkDuwGA3MTcBNqe/s2oCywEQZsLQHHMuDD8HiKC+CJvcAOG3DZQ2CgIbBBBlxcByyBgacAATsVwKYYcKkScLEZsJwB5ingXgX8p0MC8y/w9Bvg4kCgs4EnXQInTIC1AFrxCxwYxnQnUM3atWeA8ypAXcC1IsDiCLOcx5U7cMUa1mSDXPUAPZWYaJWRATquB0/QAfcSAMc4gBOnq1efAx49DFyFCF/1R/UEA8y2wHU727dfJqaohNg+efI+4MgXMOgg27qAK3+AbeXgYGNg7QYcAQGWosCJKWClACxFgbUAHgdjVrtAY4FJEVhvAkcHgPUmMOKA4wvAnAVMt8DjX4AH8gB3PAMPsOroCIH3B5DjCDgJ4OCgChxEB24hgGjHE8jglYGSwIEMYKoGVnbAqQbgEExBgQtwhoRhFIyGwGgIkBUCjOStYwFWQsApbOBQENZdJsCSAriaTUdHEth0Bs5rA9tzwEXJwBEd4AgNcI4bOC4FdCqwBEceVgdWSMCaG9jLB0oBjYVsxkL2EXCQBtiABg5LA9tzkA00QFlgUwY45AYZmAQOKAIXXQBPwwC2ooBSwG1/wBORkXcdAYe4gFOKamoiBLciAd354MFrYNcC6H6gs4EdD+BCXuA1FvC9QUDzge4BksjjHMA2HPBmQeBhWzdvvgKuywc6ADhABSxtwWfv4Iwc4IgUcNkisHYHFsqQUIIoBfYZgAstgENKwAYupKEGNwIYVsBBd6AUcAIEePA5ZihBZjAtLBTx9E+omF+AcQocHGVk/KehIa2igji0HhhEwPBBm3YA9ruAQ27Adb3m5gpop9YAkw0wtQCljI1l4VEMcScwJC9ceASMDvjCJLj7cdnOQHsA7GECD/UDNrmAp38CD21E9g7w8JCnTz8DQwNZEOh3YNcUeOg4fIUMsLcGTMDApSPAxhkwO2AOYAMzBfDISOChbMBGBjA8gdkK2NpD7oyhWYTLSVhDCdN2PD6iRXAC0zCuDAv0LLA1AGy1AFfdoCUGoEuAK4CBfV3geLyJiSJyrgRK4UlgdEgSwBIMuNsSOF+npiYFzJ7AKTjgCjHIXAFwMQbw8lHgEPvBg6W3bj0HbmUB9jTgjgdmE+B+BuBOBuBBt8BCFXjcJ3AUHLLqA+hs4FIi4EgB5NBMYIsZeDot2soWrMUFMKMBUxewYAGmK2A5BkxL4OVJ/4DJFdirB1qNNYfiCSVgYQXsNcnK8kOGMNCKX2CyxHQnsFMKLDyBvoPc5gHsxOIq5zFzBy6X4Ek28KpHRwd60ArBoANm4devvwEPAEBLSLRILSQVlcC0hBx0yMt4gFMKwGAEXmiANXeguRyz2gVWo8j1Jrw8AcYvsFEOXMAGTDCYJS0kc0FKMGAFfe/eS2APCljtYo13bOnzPnAOCpg10KozhlEwGgKjIUBiCDBSuAB9NMDhIQBcUpmYOM/XVw9Y3QIP3gIOiQFXugPbmjt25I+G0mgIjIbASA4BYBsXOJZZW7se2HIFbhUF3qeDtrYB2GDKyFh68+bzlBQb4BFAwF7caIIZDYHREBgNgdEQGA0BzBBgGQ0UaoWAlZXi7NnxwCPYgetqgMuIgTU0cMkEcJvaaAiPhsBoCIzwEACuoAMeBgqcVwEuhQeumAKuEkQb3wUuqgEuPACuKwD2/62s7o023EezzGgIjIbAaAiMhgDWEBgdcadywvjw4cf795+BGy6B6/jJ27o3mlJHQ2A0BIZZCAAXpQBXs0AO5UQ+kBvuTeCKDuA0HXCRG3D/BrBNT59FbqPJbDQERkNgNARGQ2DIhcBow3000Y6GwGgIjIbAaAiMhsBoCIyGwGgIjIbAEAgBptFYGg2B0RAYDYHREBgNgdEQGA2B0RAYDYHREBj8IYDlOMiXL1+eOnXq0KFDd+7cuX379tatW1lZWcXFxZmYBlEr/9evX+/fvweGL9Bt+EOZJJWvX79mAYPRtAsJAUhiuHLlCg8PDx8fH9WD5cePH2/evGED3oMCvANw2AT6gQMMUlIMwHP4fv1iYGFheP2a4fdvBg4OevjvF/iGFODhyY8eMQgIjCbjIREC8CL3/v37wOJHWBh6M8O7d++AdyZz0D7lYLXoy5cvly9fBp5eQIuMP0jihdbl22gGpHUI0DmVXrp0acGCBcAKS1paejhF7uPHj48dO3br1i1+fn5gXU+q18B36bz98+cPOzs7Qb2QKDt+/Djw/CJgw3KgghHYqlm1atXz589VVFSQG7dA561bt27//v3Pnj1TVFQEFshwFwKbK5s3b963b9+9e/eUlJSQG59Av+/cuXPHjh03b94Epg0uLi7a+us/Bli8eLGGhgYwaQLLa0lJSSkpKaD7TE1Nb9y48X/QgI0bN1pZWc2fP5+gi0hVCcyW/0cBLAQgiQGYmVNTU2kRKsAYtLa2BsbR8Anyq1f/A5cqQxDQV8AjyoFsIEkfHwLtAloEJH//Hk3FQyUE4EWuoKBgVVUVxNnAQQQ/P7/IyMiPHz/S1CO4LFq7dq2urm5mZuYwTki0Lt9G8yCtQ4CeqfTixYvc3NzAtiYvL29GRsZX4C3xwyWCJ06cKCcnJyAgUF5eToafgA1ZNze39PT079+/E9QODEZvb29g98DAwIDWhRsuxwD9y8nJCYxKZWVloGPgzjhx4gSwRS4kJASUAjaAgQUgvN17/fp1HR0dYFtIVFQUWFADm/unT5+GmP/kyRM7Ozugj4CtZeCwi4yMzO7du2maNLAMogcFBcXGxgIPQDAyMjp48CCw5+Hr6wsceklMTAR2OIjsRgB7YLhU4pLCowXTKKDDgNMCxLiHeJXAaDh//jxwqoFaXSWSfDRIuu9oboYkBuCsBbBHDnQhfh+R4d/Dhw+fO3cOGPJU9P5ABvu7dwyamiC/AIfYf/xgAN7BC7yHHYKo5cMFC/CZ9PEjaKQfaCPT6Co4hqEC4EWuvr5+aWkpxNnAGUVg2bV3715g+4CmHsFlEbB+Ag44qampMQxNQEw5QFL5xjAKBl8I0CiVYiaePXv2WFhYKCgoAHOlqqoqsMMAbO3RIjwGpP5KSEjw9/cHzu8B56DI8BRw3Pro0aPAIWesTTI0H2lpaVVXVwNbmMD2Lq0LN0y/AB1TUVEB7J8AR36BDY/Vq1cDHQ+MWaBjgI5PSkp68eLFtGnTgC2TtrY24KoT4JDlHzBIS0u7e/duS0sL0KfTp08HjscDAw3i37KyMmBzNC8vD9h6XLlyJTBhAM359OkT7bILlqUywPF14CQCsMcALLJzc3OBHQhgw/3AgQPADgewJwEMdOB0wKRJk4CraIBdk97e3i1btsjKygLzD8SVHz58AMZKd3c3sP8BHLkHRg9EHBheGzZsmDVr1qJFiz5//qytrc0MWx0BlALOPkyZMgU4/gEMNWA/jJnQwglgcF+4cKGwsBBYtUDMB6646OvrW7ZsGTD1AA0XgK0TwFSJNTSBTfaFCxcCIwbYTwJO9wD7VcBOFdxHwCgEdtGAfRhgNwvuUzyxgt9HwF4dMIiA1gFNAPbh4O4HTtwAwxMY99++fQPOtly7dg3oHWCYAJMNMKiBYQJsQAOdUVlZCQxkYLeKYCg9ffoU2LsF9oaBfiE44Q40s7W1FRhBwLkhdXV1SMRBEsOuXbuADgB6vL6+HpjWgRGENhMEdBgwWhsbG7dt2waMEeBEDTxwgN6ZOnUqMK0DO/RLly4Fmg90DDDBAM0HGgWc3wA6EhjmQL+IiIhgnZQHprQVK1YsX74caCYwlmtra4GpBZgO4VEMdB4wWIA+BZaqwBzV398PLA6QExjcMcDhzJ6eHk1NTeA8HTC7Aj3FQEXQ0MDg6soAbDEDV6q8ecMgKAhi//nDAEnMwMY0xK4vX0AiQC5Q2Y0bDKKwK6sgrXygGsgaG2DTH6IRyAX2AVhZGYBNdm1tBkNDBqDGb98Y2NgQboeYCeQDV+YAHQA0HKgLbiPDKBjUIYBc5CYnJ0PS+fr164ElLTDvA3MKUIG8vDzED8CyZc2aNfn5+VevXjU3N4fMTQMrCWA5DMxojx49AmY0YO0CrHiA2QFeiAEzTlNTEzCbAKsioC74/C9QHKtFwHEmYM4FKnN0dIRbDXQAsBYAll3AiTLgjLChoSEu24GlATAvE5m/0IoIYN0BdBWwD4NcvsHzODDjA4fKgIUGMBCApQdwXhuYnYFBBCyCkCumzs7OGTNmwIsyYJGLWW4AvUNM+QZ0DLA3BazLxcTEgONzkFgA1hfAQACGOXBwDmg4sIIAzrYDa0zG0UxHx6yGmUqBkbVp06aZM2e+evUKOC4OrLCADQDg6CmwxiHSXVjrQeDAJTD7AFeyAStBW1tbPT09KzCAJNE5c+YUFxcDsxuwygYmBuAwLZ5kgJx0gU6qq6sDrkYGpiugyZBqFJiWgBYB63e0ZcDAVgGwhQNM2MA1LUAHwOtKYN0KrLiBjasHDx4A8yNwTgBoILB1AcwOwAFgYKIlxuNAjUBjgdUi0GTgChagZ4F+gWdwiAlAVzU0NADbacDGvaWlJdxYoI+ArVVgLgZqBOY4YPaEryMC+gjoEqDzgG6D+wiYU4DtXWCgAT0IHO3u6OjAFUdArwGboMAWHdAlAkgrP4FxBCzKgK0jYAaEBB3cMUAbgd2P3xgA0sYAKjtz5kxRURHQkcDmFjBhAEtIYJcMqAvYYAAOYQCzOVCwq6tLGgyArS+gZwMDA4FSQHcCwxbYugBGNLAlDLQd2Fh1Bdb4DAw1NTVAk4GtYmAJICEhASxRga0LYDMJ2ACmVW7AOp4PdD3QY15eXhBZoCOAbgWWUMDmO7DNXVBQAEw0wHQGLDGBkQEsnYENNaDngYqBK8CAOQQYFsCWHzBWwsPDf4On7IENqbCwMKBKGxsbYBwAm33A1A8MC6AWYCgDx/KBXVh7e3ugV4HNfaACYO8H/0QDsN4CWgrs9ECUAcMXGO7AbhMwpIBhCnQqsIEIkUJTicvYuXPnAis8YJICpo+AgABg0xCiEu4jYAsb6DVgWQAsFPC7DY+PgKGRlZUFjH6gO4FBBFyPNG/ePIhpwBoRONEBDBlgCzsmJgaY0IFOAjaCgYEJTGfAYAcGl4mJCVAB0CXAsAXWvpAAxOUYoDOAGQY4g+Ps7AxsMeN3M9ybwHgBJlygS+DzgJDEoAgGQFlgRw4Y9cBRB7iBb9++BRZiQIcBIw4YhsAYBDoeLgsshoBlBzBGgM4GJmtguQA0Adh6BioANrKBRgHDHNhkDw0NBZYaWB0JLIaAyQaY5IBZFBgFwHQCLI+AwQIc8wCqBxYWwN4zMNaAhgArdWChCQwZYOoF+hpt2g44uQksnoA2AmWjoqLgUfyfiuDtW8Q6GeB6lR8//u/f/x+4TgaIIMu6ICtY4AtaIAygA4CycDaQ8efPf6BK5HUvQAWQ9TZwZUDDIS6HMOCLcyAK6LY45/8ooEIIoBW5wNIgJCQEmDWAFSGwZAPWGRA7gAVIcHAwMAEDy14gCWxSAwdZgFLAHAcsRYGlE7BUBGYTYBYA5kSgLLD2BcoC27jAZA+ZFwbmU+BADNzFuCwCZi5jY2NgpouLi4MrBmZYoBVAYyFTxkArcNkOLN+AzgMus/lLRDpEKyKAjgc6EljWwcs3eB4HliTA9gHQPcCywsPDA1jUANdwQkoqtIoJ6Hhg0x9YlgKDEdjaADoVrdyAewp/+QYcrBEBA2ANCCw9gM0IiI+AhTPQj8DwAZY5wAAxMzMDFmvAsPo7mu/oWB5gplJgegauLgOmUmC7C1hZACsO4FgbMCkCW/DEuAtXPQi0CJjjgPkRGOPwzAgxEFiDA+txYKsDSALrR2B3Eb9F8KSrAAZALcDECXQwsNcNzJhAMciiC2CLCNgJhxsFHKYEegQ4nghsIwHTI1ALvIIG5kpgWwJYUADz+OzZs4FFAXCJHTCtAv0OqSKJjBBg6xMYUEBbgOkZ6CpglQrP4MBUDWyVAutcoDeBCoDZCnkFHdBHTk5OwMABNkuA2RboHoiNwPoXmOmAZgJzNNCFwKoZMjAKlIUspgcGJtBArHEEtBHuHgEwALaGIcYCOyTAZicwxwENBAYX0BBgNwOS74DtxpKSEnNsACgOaVUCW4ZA84CFA7DRAmyQABstwFlNYBMcaDjEj8DWF9z9QH8BQxtYfgJb+cAMDmymA5tVQFlgORwREQFs1QC7McCGBDDkgR6Hr7cB9uKAVgAHOP7TDDBgNRlYlgHjBlj2AT05efJkYDsJmA6AC5ggioHteGCWACYUd3d34PpIoD+B/gdOFgDZwKAEtkqBQQxMVcCQAkYksFAG6gK2sIHhC4yh7du3AyMPOIoDzFeQdAls9gFDBGgXcNU/cGwVWC0BrQMGJX4vA4tvYE/uN2whL9BAYEgBh2qA6y6AQQyMTnivA00lLmOB8QH0AjCRAb0DrAMg6QAYE3AfAWsRoMuB9SIw80CqQ1xG4fERMCkDUzCwrAfmLqBngbUO0EZgZgMaBbQRGGjAGRZg/ge2m4EiwEIE6CngqBJQF1AWWCsAIwWYGoDOA45AA5UB8yeeegJoGnBMCJjy4uPjgTHyG/eiZ2RvAnUBFQMTKzDxQ7QAEwOkHw+chAHKApvskMobGN2QEAB6BBhlwCgAehzYtQPqBSZoeBYFuhZYEgFTArDbBsyuwI4ysMIDuhwYnsAwB4Y2MASASQVoMi6/AJ0B9C/Q70AvAyMdaCCwuQC0AliLQ3oIQHuB0QRMkMD8DEyckGCEhBU8joAFDbA1AOxzAkMbGKpAB0NG+rFEIjCgIE1tNBLYmP72jXBOhK9xByqFNKaRdQENARoLtOL9+/9ANry1DVR8/z5IBGIBUPbZs/8QE4AMYKsdqBjOffUK2j0AMiBsoNSvX/+BKoEkxITRBsT/oQTQGu7AvADM/sCiBpibgMOKkNoC6B9gaQxM2MBhKmAuAI64A1uuwLIOyAZKASfWgAUpcAgQ2HCBLFsHFjXA8SFg9gGKAMtbYMoHpnnIaBNwWhyWTP5itQioC6gXefgGWOgB3QPMOMCBN2DmBZYSwKIe2A/HtB0oC3QAsEgHagfWeQSjAa2IAHKBM2NAbyK3gyF5HJiFgSOLQAOB4QOsI4AOAHof3r5HrpiAgsBiDbjuFlh2AcMQOF+HWW5AHIanfAP6AtKoAo78AbVHR0cDyzHIJihIfQEskYBhcgwMgEUQsDEBnND4PwroFQKYqRSScYA1FDAjACfkgWkAmCqAXVlgUgFGIn534akH4RYBUxQ8MwJNA47iAdOki4sLsPUGHGoFJoaTJ0/itwWSdIFZA5iW2tvbgZZC2hVAEWCGBVZtwPoLks0dHBzgtfaECROAbQ/gKCQwTQJTIDDjAxtdkJYi0D1ABqTpDKzrgVUwcLwfqAaYYn+TstMJ2FCGp2egXmCjH+g1YKoGsoFuBpoPbNADcx9w0SywfYLcdodnRmBmATbq4OEDXBoAVAZs0gB9BKypgUN/wLEDSLULbAngjyNgMwMYZcBOwnMwALbvgQ3Ihw8fAsMWaDswnIHT+2fPngV6FqgGmO8gPgWWEsBSLgMbAIoDZYHagc08YJkA9ClwvA/YDwdqB3oTOHwOlEIrhIHOBrbvIWUO0ONABpAL6S8B/QgcGQSKAFvIwHSFVhABvQyMTWB40i4f4Gy4Az0GrAaAxaIkGADbW/AeHrBMhPQvIWOWwNAENpeBsQssSYF9MmDJ7uPjExQUBOxsAcMXOAoO1AhMWMCGIDC1AdtMwJACTgcfOXIE0lADygI7AMBYBOoFRjywcAQOcvwmcWsdMMSBpTPQcKA5wOQOnKiFxDFJAQfp4QEDHa4L6CNgXwrYHIT3pYBlAdAWYIrEYzJ+HwFzJjCmgTkQGIZAo4ARDKlcIQYCBwyAIsBwA/YOgUumgCUOpFoCegcYOMAgAoYVMGyB3RLI9gj8UxNAZwPjBZjV8W8ZQfMm0IXAiTBgZQ9J6MA+JbCIAfYxIC4EGgXMw8B2M3B2DCICjEdgAgDOZwHHwIDiEPfD920Akzik4Q4c/geqB5oJVAzp4AK5RCZx4C5vYIIEFhyQRAhMHsDJHGDoAZMl0BCgIHBUEl6nAkWAWRpYjAJ7CJDeBZAElq3AEAMWf5C1BMB2DHAgH3skwoe00aQhA+HEJCngKPvPn/+Rh8CBXIhGYIscuH0H0mSHiACVQdroQC6cAVQAaalDMgLQQIhpaCSwmQ4ZmAeKAzsMQBMg3QYgY7Th/n8oAbQ6A+h0yKAUsHcKn1cE5mXguA6kiAMWAsDeL1AWmM4hU1VAZcDcB6wpgQ1xoHZgOx44SgcpSIGVJXAJJrDqAuYIYC4AZiVgVoWX55gWQQIOzUnAhaHAcglYAEJkgWULcLAKWDwC605wyn2GbDtQBNjHBtrl6elJsDBHKyKAeoF9A+DYEDC/w4tx5EoU4gDM+hKtYgIqAw7OQVbsQHoXaOUGxBw85RuwuQ/0MrASBM7BAgMcOEQHLHPgPgL2LoBlDrCyA5oDNBm4eAY+WvF/FNArBLBmHGBDCnniF7jyARiPyHNHWF2Hvx7EtAhYFQLXPQOTBHCyC5jAgD1VYJMJ2Ob+S6jsBSZdYD4FKoYPfgFbkEARYLsI4jDg8gzIogvIsU5AQWB2A1apwN4ysCIGJmlgFga2DZAbOUAFwNKAEQyALQoygh85PUNsBLZ8gBkc2B6DZElgGQJcygu0F+hlYNsXGJ7wdgVmZgR6DVjaAEsnYCkE1A5UCezzANuEkDwCLHPwxBEwAIHtQKACYOsRmO+AuQ/Y6AcWL5DqHtijALZJ+cAAmCWBMxVA0yD+BWoEFgLPsAGgOCReUlJSgJ064OoXiBZgiwtoMtBAYFNqCDXcce5gA/oNWC4DhxKAZR9wFAHYiERe1gwc3QQmHWDeAK7gATYogSqBbOBcCbD8ApbCwAVDwDVMwEINOLsEDHRgigQGMrCVD1wpCAwg4Co0YIGYk5MDPIMMqB1oLHBRGnD6CVhMA1dqAtnAoX1grUPS2iDgeCow1wFjEegGYEIBDqwC2+6Ury4Cmgb0C3AZJXx3BbD+APoR/8mY+H0ELEGAkyzA1AZcHAIMH2BGA7Z0geEJcS0wrQN7ckBbgCvAgFMHkHIBKAVUBgxSyPotIAPoHmD+Ada+ovAV0th8Cwx2YLwAuzQceE+UQ/MmsBEMjCxglx2YoIGmQubr4RYBrQY2voFuQD74CVjRAqdKgMv7gPU6ML8BdQG9CXcR0HfAxAAxAWgmMLWQeggUxA0CsFVuQDcAkwpw+S88IiBWwBUAnQeMNWBShAQsMASAW0yAZSuw3AHOQgC7DcCuM7Apjz2FAJenA1eQf//OgIY+f2a4eZNAogJqAS4ut7AALUAHrnZ98QK0PxWoB7hCHbhvFcj48AEkBVy8DlQGXKoOMU5SkgHOgAgC16lDdpfeugWSERNjACcCFNshS+Hhm1+BS+oZRsEwDwFgmgeWPz/AAFgaAFu3wHEK4AwexNvA1A7MlZDMDqzqgIkckv6B+QI4mwwsJIH9VeCYHGRhLheJB5YB8xrQduBCW4hdwDwIzFDALMYG22uBbDtQDVAl0JnAggteuOGJG+QiAqgM6EdgBgdW9sByA24d0Cigy9FMA9a+yMYiV0xAcaADgG4GdnUgBQXQzcDaBxhuwCIXTRdy+Qb0F1AN0C6g7fDQBhoFDFhg2Qgs6CBugBRKkDXEQBHgGgYq75kZzc3khgAwOoDJG54ygWkJGKEE0yH+ehDTLcD0AFz4CjQZuEQbuBgV2AQEVjTA5iwTEQcDAFMXMFnCnQSs8YHJG743DNjEBC7jBqZ/eCUL9A5w9Aq43hjoF+BKDKDXgAmbD+mAZiAbqACSHYBNZDJCDjk9A7VDMjjQdxA3ACtu4GQdcLgaWKoAG3VMYIC/XQEsHIBegLSdgCqBZ8cBG5PwPIInjoBmA7MeMBCA2iHNHmAuA/ZYgEs2gA4DNuWBG3iAjR+gwyBbboAdFWBoAKWAPRlgS9UKGwCKA2WBaoAtIqBG+NJ/YPMVOJQMdCqw4w20EehOeNMF6Aygr4Eh/xcMgAwgFxK5QBLY7wIq/gUGwDYPcJACHu9AE9iJOBaTkvzNgkczMHFAhtuJtADoeqBPgGkXuOIc0oQCJjJgExA4twI0B9jrBSoALlwBdrmAbOAALXAcCKgYGOLAFc9AK4Atb2CnB9ipAg7lAvt2JJ1mANyjAOxjANcyAuMD2EEEjogD+6aQHQNEOh5YzQDjFehlYNwAnQQ0TVNTE+hgYAJCzofACAZmOT68J5rj8RGw2gAuKQF2joHBAuygA6sB5NYnxKnAxTDARSnANZSQfidEEOgMYD4H5m3g9hSgLqAgMEEDZy2A0+XAdjAuPwJ9BAwNoPuBOQ2PmzG9CTQc6AbgDBTyvjRctgAjDjhUAAx54CwhcKgAOLJOTFUNNA1YNgG3EAGTODC1ANM/sNcO2YMCXBsA7AMA4wLobHjzAhhQwAQDVAYRARYHQFsEiDuqHKgYmN6A2R442A/c3APM+ZCtrth9hKsvxMnJoKVFIDlBNoYCMy1wRzkwkQBb5A8eMEC2FQKlgLtL4+IYgE1t4D5UYNsd3nBHNhS4zRSoEbLFDagAYuOpUwwaGiBVQBF450FFhQHoJODmV0g9AbzWAN4BYBgFQz4EgAPnwKwBrAOAeR9YZgIzC7BEAnKBZSywBgWudQH6EJgpgPUNMLPg7IUyAHcy/wP2WoGZFDicAVxMCBwWATZGkUMH0yJgNmTCaHwA8x0wxwELQIheYJ4CloTsYECHsAZaDfQ7sgOAgztAxwALSQptB/oUGIzAQTsgCS+44MNSwNAG9o6AxQWk2AEONgFnGICl3ACePz2at2kUAmTUg8DqFbi+BVgxARvTQAZw4yMTbY7zAtb7wKYRsPEArMiAqREyeIccDsC2FnAUGdiqBmZn4Ap14FAaH4n3rgBzNLBkAM63wzM4sL0BzAjALA6sdoGGA2tP4MgXcLEAcK4PuQwBagSOlgJzCrDxCsxBQBOAgQBsEAMzLLCpA+/qAwUhC2CA7WqCMQjUC7QauKYc2JyAKAbuhgc2DIC7a4CBDBneBYYJsOgDDgcDj8QAtiGBVgO738DZD6D3Mc2HHysCbHMCS1R4OQYMSaAjgUWZFBgAyxNgrwDYTgMqA2ZzyIwHMFQZwAUpkAsUBDaKgKUxcJ4TGAjAtQnA0RCggcDiCDiZD3QeMCKA/ROgFPCca9plVSwj7kA3AZcVASMD6B/Ms4GA4sBkCvQ2kAFskcNjBehEYJcIGNBADwDXtQPXPQPnHYBrMeXBAKhsOhgA/QbMHkDfAtt5kIQFLC6BC8WA85XAzhPQEOCyCqAUqcUicPYEOEUF7NIBG4LAdi1kJyVJoQYsl4GLQ4A9POAqfOD5JED3AFcvwX0E7BIAK0jgek1g3xqYOoFrqPAYjsdHwLFqYFAAUyRw0Be4ph8YzsC8AbQUGOZwA4HzU8DoB3oE2KeE784GTjkBEyhQGbD2BS4XA6ZUYNgCkxeeVjvEGZBgByZ0PA5G9iawJwBcTwJckAPMeJAEipYYgNNQQC9AkgFwVBtoLDAZAJM7MKcBmxfAwuUP+BYGyCAHUBaYhIAjWED1QHOQvQmUAja7gdtxgIMNQO8AwxxYKAD7bMCMBHQAZHMFsFiEOxuYLYHmAL0PzDzA6RRgEQCsUIE7z4AK0JwEdB7QSUAbgakUmFaBDGC5AyxZgN0YoLHApAJsu/yCXFRE9YwFP1OCl5cBeBTMz5/QVjuwpQ7sYzg4MEAUAEmgAyBnvwDdAGysw10CLG2BQ+kQ7tu3UOGEBNAVTkAOsFYAtteVlUGHTgJH8YG3LB07BlWjrs4ANBPSvocIAUf3GUbBEAgBrEUucOYN2FcHJmBghxZYKAGHIYDZDbKsDrgnBLjiHDh1Dpy1A87LAZeuQUpjYNYD5kTg8Ady8gaygYYAayZgsQMcEAEWksAQARY7wNIDEjSYFgGlMJ2UnZ0NzONA64DFILAwBB7SAmwcAAt8YHkFtBeY45Btx1+JoEUJWhEBdDDQC0CPwI0Fqgc2C4B+B0oB5/SAeRmY/YGLXIHiQGWQPI5ZMQGLIIgUsIAFlrdAxbjKImCTAliGAM/3AJZ+QFuAZRFwaa8zGAAZQC6whgLWaMDCDdjnBy7rB1ZPwCACmga0FFikw0NyNLPROQQwkxlm4iE+pkiqBxnALTlgHgTmAuBAJDBTAJs9n4g4ARCzegK6EJiKgGkJmKKAbMzcBJQCNquAeRZYIADb5cCmDtB2YHsa2EIDSgG1APM1MKEC25rArAGcUgMGC3AiDlhEfCClCgDmAmApAdQF9A6QBGZwYI0JHLwHZnCgm4ENEmAVDLQOWBwBm7ZABwBH9yEpH6gR2JQHygKXZgAH74AD/8CsBFQAHCYAagSuGgCaBizBgGUFMLiArXZi4gg49gr0IDDfAfvJwJ4AcGQQWAACV6kBCzHgOSjABQvAKQ6gk4DNceBwBrCtAulyA0fTgX2bVGwAKA5ZIYKnHAO2u4B7goGeApZyZ8+eBQ6eApscQAcDVzcA20LA5AEsgYFtD8ghkkBlwPURQC3A0gA4jAJstwBdBSwYgY0ZYCsX2AsANmVpmB0w10IBXQY58EQA22n8wLQCTBnAZi4wWIFdCrSjOYD+BC4+BgaQEhjAlxED+x/A1hhwcgHoSeBQOtB8YLP+J3jhL7DkBY7QA/0J7C0BAwgoC8wAkCWJxK/TAjb6gSkV2BMAGgKMSGDxClno+Z9EACyjgY4HOhI4JwVZXA73EdBkYL0FNBxykAIeg/H4CCgFnBwAGgWsh4BJAdhlBKYGYEcFGOXIBgK7B8AUibYFFqgXmHaBWRey+hOoF7/ngC4H9vyAvU/gaaPAeu433m0DuCIOLTEA3QBs9QK7XsD8A1xuC/QLZPkacIkeMPCBkxXA4gPY5wH2N4DdJ2DSB8oCJ9eACQmoHpjKgaZhuhmY0IHJCdgzgaxmAQY70FhgYQEcVoRcrgbUAtkaAsxUwGkKYAoB2gXcMgFZ4YfpJGCaBGY2YPoEGgtMq8AUC8l+wLwNXzsE7BSRl0IIJKgvX0BL24FLz5EXo8MXuAM1A+/sgKyhB5KQza8QBrK5kKNpMOMLzVjgtlSILrSjbOArLEeXuf8fGgBXkQtscQILHGCiBS6GgW8aAa5hA44dQI6IAY4gQJaZAqtM4PQUcAUIsGABpm1gOYbsc2CtD8x9wOwAzJjA7eDAjAYsyoBDU3A1mBZhdRIwywCLbqBeYAkGLIiAIx2QghrTdqB2DfAtfgJEXOmCVkQAHQ/0AtAjQO8APYW83RPud2AhAFwFCywJ4Xkcs2IC1r7AoTLI2DlwmBDoWaxlEXByFdjzAa55ALbIgRUQ0F/AYQtgEwoSOMDhBqAsUBBY+ADjAjjJCREHtu+BzQWg4cCCC+2Ykf+jgF4hgJlKMRMPMKaA6QQYU8AsQzCmiKwHIf4DVqnA+gVYrQCTB2RJKjAJAevcv3gLXszqCegqYCoCuhCYooCuxZqXgS17YAsHaAtQJXClOLBVDcxZwKYwMNkDtQPzIzAjAFeDQBI5ZBEOMMVirXBxRQ6wbQ1s3QIzAlAjMCMA7QKu6YW3xIB5H9imA9oCDEzg8BmwmQcshYAMuGlAlwClgG0AYN0Nb7oAB+OAxQWwdQccSwUuJYA0QoiMI2APAdhGAtoCdAxylgT2sYEDFsBSEdhwAhaMwEAguO0Yzcu4yjGgMsiRIUDDgb0gYDACCyL4FiPgaAKkKAC2Y4EKgOvv4XtagI0WSLsX0koEugrS+KFdPmD8Dx/eg/UOgLOBwOETYN8R2P0CBhza1b7ALhewwQQcyQAqB0YSMKlB+jHIfQtgHQP0JLBhB4xIZHFgRwQ4XAoUAZb+wIYpshRwRATYWQEaDtwJBFkKQmpnBdhPBc6b/AMvPwCGKRvyKdekmAX0HXBfBaR1CNcH9BEwboBZFOgpImeg8PgIaAUwfQADB5hDgM4GhglwoyryJANQEOgRoHWY827AMSGgeh0wIOgtoDmQiWAgCTSNoHrMiMNMDEDHA5MHMNlANhNDQgPY3QTOAwArOWC4ARMM0O9ALjD5AmWBSQWoBViWAdmQjI3pDGBoAAsIoF5IWoI7Gx4CwGFC4AGOwOACtumBIQCs0ZGjGM1JQM8CUxpkBwXQMcA0DFwnAOxvAJMWcLoNOKsFTLfAwhFoAvBwaAbqAuBiGAUFBuDI+oEDDMCTboFj6sBRc7QVLF+/MgDX0gDzHXA4BLgsB7gsHphoV69mAA6rQxwDMQTIBpqD5rzXrxmAI/fA8Xu0TQsQ64Dj8UAzgSPx3NwgfUCTSZwtZRgFAxECeIpc4JgZcBUHcKkhclkKTN7AigFYhcNPUwYOYgFzAWSCFFifAYtlDtQUAizTgIkfWO9Cchlk9AFY0sJLGDSLcDkJWC8Ah/eApRMw+wMHHSChhWk7ZFgRVyWCFsZoRQTQkUAPAofTgMqApSIw/yIX5sh+Bw52AvVC8jhQMVrFBCxGgIqB7QngUCXQEGAA4iqLIAUO0EZgqAJrZWDJgOxCSM0CNAc4agAMc4gUMDyBhkOmT4EFy+jKGYbBkXGANRFa4gFGHKkxRUw9CPQuMLsBxy6BzUpgOxWYj4D5DpjFgA0+YObiwr2BBDhqi1Y9AdMSsLqErAKFrDDBmpeBORTYUgR6ENh8AtoCrMKAmRS4swLYpgeqB2ZJWTAAJnJgBQ1sIgNrSWBTGygObLrgiRxgvQxM85DmASQjABtvwFUxwGwFz+AQ7UD/QjayA8sQYPECHN0HNm2B3ocbDnQP0FVAV0giVXlAEaBpwPYesEEPUUl8HAENBJY2wOwPXOaK1qIDxhEwZoHBTnyTDDkQsJZjEAXAiAC2JIFBAYxErEUBMGyBbWPMRiYZrUSyMw2WhjvDKBgNgcEUAsBiCDhpBVzEBuy4A7eWkrF0DDhOBhxfBC7LAbZUgCtzgIPxwJXuwNIHODoyGtWjITAaAqMhMBoCoyFAaggAF0tALmMCjssCB56AQ8uQw/eAI8oceE+DoFtQA1vtwGF44NoVPDYCV3QA15Ejt79HU8LgD4HRhvtoKh3sIQBcJwNcdQccxgD2uYFnOQFnBkl1MbD8Au6KBp5nBzmqAljCAhelAWfPIcfmjKaA0RAYDYHREBgNgdEQIDUEgLPfwCWdkMtDgEPXwKUyzc3NwBmYwROSwNkA4IQ2HvcAx/iBa8AGSU9jNAUSGQKjDffRpDLYQwA4dQVscEO2sUNWE5LnYuBUI3DSEFhCAWfB0BZxjSaC0RAYDYHREBgNgdEQIDUEgMulgMuggfu+gBtFgE12JtqcKjMaL6MhgBwCow330fQwGgKjITAaAqMhMBoCoyEwGgKjITAaAkMgBJhGY2k0BEZDYDQERkNgNARGQ2A0BEZDYDQERkNg8IfAaMN9NJWOhsBoCIyGwGgIjIbAaAiMhsBoCIyGAMNow300EYyGwGgIjIbAaAiMhsBoCIyGwGgIjIbAaAhQIQRGR9xHk9FoCIyGwGgIjIbAaAiMhsBoCIyGwGgIDIEQAAC9UDoJT88KiQAAAABJRU5ErkJggg==\" />"
      ],
      "metadata": {
        "id": "Xl_AzXUHAwnx"
      }
    },
    {
      "cell_type": "markdown",
      "source": [
        "According to this chart, mAP has reached 100%, which is surprising, considering that in the inference stage, there are some mispredictions. "
      ],
      "metadata": {
        "id": "gO_AmjxTCooM"
      }
    }
  ]
}